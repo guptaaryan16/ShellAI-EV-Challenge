{
  "cells": [
    {
      "cell_type": "markdown",
      "metadata": {
        "id": "-du9LXFWxilS"
      },
      "source": [
        "<h1 style=\"text-align:center\">Shell.AI EV Problem (LP part) </h1>"
      ]
    },
    {
      "cell_type": "code",
      "execution_count": null,
      "metadata": {
        "colab": {
          "base_uri": "https://localhost:8080/"
        },
        "id": "QjJcnbKrxilW",
        "outputId": "aa18f1ef-19a3-4fb6-d68e-aabc26f9c77f"
      },
      "outputs": [
        {
          "name": "stdout",
          "output_type": "stream",
          "text": [
            "Looking in indexes: https://pypi.org/simple, https://us-python.pkg.dev/colab-wheels/public/simple/\n",
            "Requirement already satisfied: pulp in /usr/local/lib/python3.7/dist-packages (2.6.0)\n"
          ]
        }
      ],
      "source": [
        "!pip install pulp"
      ]
    },
    {
      "cell_type": "code",
      "execution_count": null,
      "metadata": {
        "id": "LXLiyCo8SJIG"
      },
      "outputs": [],
      "source": [
        "from pulp import *\n",
        "import numpy as np\n",
        "import pandas as pd"
      ]
    },
    {
      "cell_type": "code",
      "execution_count": null,
      "metadata": {
        "id": "rrnzhAlqScMZ"
      },
      "outputs": [],
      "source": [
        "Dist = np.random.randn(4096,100)"
      ]
    },
    {
      "cell_type": "code",
      "execution_count": null,
      "metadata": {
        "colab": {
          "base_uri": "https://localhost:8080/",
          "height": 419
        },
        "id": "QVqaiIoZS8qv",
        "outputId": "99497af4-c508-4c19-c977-293522d4d8eb"
      },
      "outputs": [
        {
          "data": {
            "text/html": [
              "\n",
              "  <div id=\"df-c9e8336d-217f-495c-9bf0-36ba0ecb7011\">\n",
              "    <div class=\"colab-df-container\">\n",
              "      <div>\n",
              "<style scoped>\n",
              "    .dataframe tbody tr th:only-of-type {\n",
              "        vertical-align: middle;\n",
              "    }\n",
              "\n",
              "    .dataframe tbody tr th {\n",
              "        vertical-align: top;\n",
              "    }\n",
              "\n",
              "    .dataframe thead th {\n",
              "        text-align: right;\n",
              "    }\n",
              "</style>\n",
              "<table border=\"1\" class=\"dataframe\">\n",
              "  <thead>\n",
              "    <tr style=\"text-align: right;\">\n",
              "      <th></th>\n",
              "      <th>supply_point_index</th>\n",
              "      <th>x_coordinate</th>\n",
              "      <th>y_coordinate</th>\n",
              "      <th>total_parking_slots</th>\n",
              "      <th>existing_num_SCS</th>\n",
              "      <th>existing_num_FCS</th>\n",
              "    </tr>\n",
              "  </thead>\n",
              "  <tbody>\n",
              "    <tr>\n",
              "      <th>0</th>\n",
              "      <td>0</td>\n",
              "      <td>50.163110</td>\n",
              "      <td>19.412014</td>\n",
              "      <td>23</td>\n",
              "      <td>5</td>\n",
              "      <td>3</td>\n",
              "    </tr>\n",
              "    <tr>\n",
              "      <th>1</th>\n",
              "      <td>1</td>\n",
              "      <td>37.336451</td>\n",
              "      <td>58.119225</td>\n",
              "      <td>27</td>\n",
              "      <td>4</td>\n",
              "      <td>7</td>\n",
              "    </tr>\n",
              "    <tr>\n",
              "      <th>2</th>\n",
              "      <td>2</td>\n",
              "      <td>46.709232</td>\n",
              "      <td>57.525650</td>\n",
              "      <td>31</td>\n",
              "      <td>6</td>\n",
              "      <td>14</td>\n",
              "    </tr>\n",
              "    <tr>\n",
              "      <th>3</th>\n",
              "      <td>3</td>\n",
              "      <td>30.528626</td>\n",
              "      <td>55.379835</td>\n",
              "      <td>26</td>\n",
              "      <td>5</td>\n",
              "      <td>5</td>\n",
              "    </tr>\n",
              "    <tr>\n",
              "      <th>4</th>\n",
              "      <td>4</td>\n",
              "      <td>51.521781</td>\n",
              "      <td>35.116755</td>\n",
              "      <td>32</td>\n",
              "      <td>11</td>\n",
              "      <td>6</td>\n",
              "    </tr>\n",
              "    <tr>\n",
              "      <th>...</th>\n",
              "      <td>...</td>\n",
              "      <td>...</td>\n",
              "      <td>...</td>\n",
              "      <td>...</td>\n",
              "      <td>...</td>\n",
              "      <td>...</td>\n",
              "    </tr>\n",
              "    <tr>\n",
              "      <th>95</th>\n",
              "      <td>95</td>\n",
              "      <td>45.471204</td>\n",
              "      <td>20.999414</td>\n",
              "      <td>24</td>\n",
              "      <td>3</td>\n",
              "      <td>4</td>\n",
              "    </tr>\n",
              "    <tr>\n",
              "      <th>96</th>\n",
              "      <td>96</td>\n",
              "      <td>30.318396</td>\n",
              "      <td>33.388335</td>\n",
              "      <td>32</td>\n",
              "      <td>5</td>\n",
              "      <td>10</td>\n",
              "    </tr>\n",
              "    <tr>\n",
              "      <th>97</th>\n",
              "      <td>97</td>\n",
              "      <td>36.218839</td>\n",
              "      <td>22.235766</td>\n",
              "      <td>32</td>\n",
              "      <td>4</td>\n",
              "      <td>14</td>\n",
              "    </tr>\n",
              "    <tr>\n",
              "      <th>98</th>\n",
              "      <td>98</td>\n",
              "      <td>42.936915</td>\n",
              "      <td>38.122442</td>\n",
              "      <td>28</td>\n",
              "      <td>7</td>\n",
              "      <td>5</td>\n",
              "    </tr>\n",
              "    <tr>\n",
              "      <th>99</th>\n",
              "      <td>99</td>\n",
              "      <td>19.590263</td>\n",
              "      <td>3.830284</td>\n",
              "      <td>24</td>\n",
              "      <td>2</td>\n",
              "      <td>11</td>\n",
              "    </tr>\n",
              "  </tbody>\n",
              "</table>\n",
              "<p>100 rows × 6 columns</p>\n",
              "</div>\n",
              "      <button class=\"colab-df-convert\" onclick=\"convertToInteractive('df-c9e8336d-217f-495c-9bf0-36ba0ecb7011')\"\n",
              "              title=\"Convert this dataframe to an interactive table.\"\n",
              "              style=\"display:none;\">\n",
              "        \n",
              "  <svg xmlns=\"http://www.w3.org/2000/svg\" height=\"24px\"viewBox=\"0 0 24 24\"\n",
              "       width=\"24px\">\n",
              "    <path d=\"M0 0h24v24H0V0z\" fill=\"none\"/>\n",
              "    <path d=\"M18.56 5.44l.94 2.06.94-2.06 2.06-.94-2.06-.94-.94-2.06-.94 2.06-2.06.94zm-11 1L8.5 8.5l.94-2.06 2.06-.94-2.06-.94L8.5 2.5l-.94 2.06-2.06.94zm10 10l.94 2.06.94-2.06 2.06-.94-2.06-.94-.94-2.06-.94 2.06-2.06.94z\"/><path d=\"M17.41 7.96l-1.37-1.37c-.4-.4-.92-.59-1.43-.59-.52 0-1.04.2-1.43.59L10.3 9.45l-7.72 7.72c-.78.78-.78 2.05 0 2.83L4 21.41c.39.39.9.59 1.41.59.51 0 1.02-.2 1.41-.59l7.78-7.78 2.81-2.81c.8-.78.8-2.07 0-2.86zM5.41 20L4 18.59l7.72-7.72 1.47 1.35L5.41 20z\"/>\n",
              "  </svg>\n",
              "      </button>\n",
              "      \n",
              "  <style>\n",
              "    .colab-df-container {\n",
              "      display:flex;\n",
              "      flex-wrap:wrap;\n",
              "      gap: 12px;\n",
              "    }\n",
              "\n",
              "    .colab-df-convert {\n",
              "      background-color: #E8F0FE;\n",
              "      border: none;\n",
              "      border-radius: 50%;\n",
              "      cursor: pointer;\n",
              "      display: none;\n",
              "      fill: #1967D2;\n",
              "      height: 32px;\n",
              "      padding: 0 0 0 0;\n",
              "      width: 32px;\n",
              "    }\n",
              "\n",
              "    .colab-df-convert:hover {\n",
              "      background-color: #E2EBFA;\n",
              "      box-shadow: 0px 1px 2px rgba(60, 64, 67, 0.3), 0px 1px 3px 1px rgba(60, 64, 67, 0.15);\n",
              "      fill: #174EA6;\n",
              "    }\n",
              "\n",
              "    [theme=dark] .colab-df-convert {\n",
              "      background-color: #3B4455;\n",
              "      fill: #D2E3FC;\n",
              "    }\n",
              "\n",
              "    [theme=dark] .colab-df-convert:hover {\n",
              "      background-color: #434B5C;\n",
              "      box-shadow: 0px 1px 3px 1px rgba(0, 0, 0, 0.15);\n",
              "      filter: drop-shadow(0px 1px 2px rgba(0, 0, 0, 0.3));\n",
              "      fill: #FFFFFF;\n",
              "    }\n",
              "  </style>\n",
              "\n",
              "      <script>\n",
              "        const buttonEl =\n",
              "          document.querySelector('#df-c9e8336d-217f-495c-9bf0-36ba0ecb7011 button.colab-df-convert');\n",
              "        buttonEl.style.display =\n",
              "          google.colab.kernel.accessAllowed ? 'block' : 'none';\n",
              "\n",
              "        async function convertToInteractive(key) {\n",
              "          const element = document.querySelector('#df-c9e8336d-217f-495c-9bf0-36ba0ecb7011');\n",
              "          const dataTable =\n",
              "            await google.colab.kernel.invokeFunction('convertToInteractive',\n",
              "                                                     [key], {});\n",
              "          if (!dataTable) return;\n",
              "\n",
              "          const docLinkHtml = 'Like what you see? Visit the ' +\n",
              "            '<a target=\"_blank\" href=https://colab.research.google.com/notebooks/data_table.ipynb>data table notebook</a>'\n",
              "            + ' to learn more about interactive tables.';\n",
              "          element.innerHTML = '';\n",
              "          dataTable['output_type'] = 'display_data';\n",
              "          await google.colab.output.renderOutput(dataTable, element);\n",
              "          const docLink = document.createElement('div');\n",
              "          docLink.innerHTML = docLinkHtml;\n",
              "          element.appendChild(docLink);\n",
              "        }\n",
              "      </script>\n",
              "    </div>\n",
              "  </div>\n",
              "  "
            ],
            "text/plain": [
              "    supply_point_index  x_coordinate  y_coordinate  total_parking_slots  \\\n",
              "0                    0     50.163110     19.412014                   23   \n",
              "1                    1     37.336451     58.119225                   27   \n",
              "2                    2     46.709232     57.525650                   31   \n",
              "3                    3     30.528626     55.379835                   26   \n",
              "4                    4     51.521781     35.116755                   32   \n",
              "..                 ...           ...           ...                  ...   \n",
              "95                  95     45.471204     20.999414                   24   \n",
              "96                  96     30.318396     33.388335                   32   \n",
              "97                  97     36.218839     22.235766                   32   \n",
              "98                  98     42.936915     38.122442                   28   \n",
              "99                  99     19.590263      3.830284                   24   \n",
              "\n",
              "    existing_num_SCS  existing_num_FCS  \n",
              "0                  5                 3  \n",
              "1                  4                 7  \n",
              "2                  6                14  \n",
              "3                  5                 5  \n",
              "4                 11                 6  \n",
              "..               ...               ...  \n",
              "95                 3                 4  \n",
              "96                 5                10  \n",
              "97                 4                14  \n",
              "98                 7                 5  \n",
              "99                 2                11  \n",
              "\n",
              "[100 rows x 6 columns]"
            ]
          },
          "execution_count": 161,
          "metadata": {},
          "output_type": "execute_result"
        }
      ],
      "source": [
        "# so we have here is existing infrastructure and we need to model the different data points(supply) \n",
        "#that goes with the demand points\n",
        "supply_points_existing = pd.read_csv(\"./exisiting_EV_infrastructure_2018.csv\")\n",
        "supply_points_existing"
      ]
    },
    {
      "cell_type": "code",
      "execution_count": null,
      "metadata": {
        "colab": {
          "base_uri": "https://localhost:8080/",
          "height": 268
        },
        "id": "LsZMtS50saQh",
        "outputId": "62b2f006-feaa-4cd5-9997-1230f945b68d"
      },
      "outputs": [
        {
          "data": {
            "text/html": [
              "\n",
              "  <div id=\"df-5da832cb-c717-47e7-aa92-24372e18a77a\">\n",
              "    <div class=\"colab-df-container\">\n",
              "      <div>\n",
              "<style scoped>\n",
              "    .dataframe tbody tr th:only-of-type {\n",
              "        vertical-align: middle;\n",
              "    }\n",
              "\n",
              "    .dataframe tbody tr th {\n",
              "        vertical-align: top;\n",
              "    }\n",
              "\n",
              "    .dataframe thead th {\n",
              "        text-align: right;\n",
              "    }\n",
              "</style>\n",
              "<table border=\"1\" class=\"dataframe\">\n",
              "  <thead>\n",
              "    <tr style=\"text-align: right;\">\n",
              "      <th></th>\n",
              "      <th>demand_point_index</th>\n",
              "      <th>x_coordinate</th>\n",
              "      <th>y_coordinate</th>\n",
              "      <th>2010</th>\n",
              "      <th>2011</th>\n",
              "      <th>2012</th>\n",
              "      <th>2013</th>\n",
              "      <th>2014</th>\n",
              "      <th>2015</th>\n",
              "      <th>2016</th>\n",
              "      <th>2017</th>\n",
              "      <th>2018</th>\n",
              "      <th>2019</th>\n",
              "      <th>2020</th>\n",
              "    </tr>\n",
              "  </thead>\n",
              "  <tbody>\n",
              "    <tr>\n",
              "      <th>0</th>\n",
              "      <td>0</td>\n",
              "      <td>0.5</td>\n",
              "      <td>0.5</td>\n",
              "      <td>0.352242</td>\n",
              "      <td>0.667932</td>\n",
              "      <td>0.958593</td>\n",
              "      <td>2.911901</td>\n",
              "      <td>4.338274</td>\n",
              "      <td>6.561995</td>\n",
              "      <td>8.454417</td>\n",
              "      <td>10.595324</td>\n",
              "      <td>13.119572</td>\n",
              "      <td>16.510711</td>\n",
              "      <td>22.027955</td>\n",
              "    </tr>\n",
              "    <tr>\n",
              "      <th>1</th>\n",
              "      <td>1</td>\n",
              "      <td>1.5</td>\n",
              "      <td>0.5</td>\n",
              "      <td>0.325940</td>\n",
              "      <td>0.591964</td>\n",
              "      <td>0.862652</td>\n",
              "      <td>2.589068</td>\n",
              "      <td>4.196034</td>\n",
              "      <td>5.745551</td>\n",
              "      <td>8.753195</td>\n",
              "      <td>11.126995</td>\n",
              "      <td>12.020091</td>\n",
              "      <td>18.846287</td>\n",
              "      <td>18.269391</td>\n",
              "    </tr>\n",
              "    <tr>\n",
              "      <th>2</th>\n",
              "      <td>2</td>\n",
              "      <td>2.5</td>\n",
              "      <td>0.5</td>\n",
              "      <td>0.373752</td>\n",
              "      <td>0.591890</td>\n",
              "      <td>0.969733</td>\n",
              "      <td>2.641432</td>\n",
              "      <td>3.541772</td>\n",
              "      <td>5.469161</td>\n",
              "      <td>8.414627</td>\n",
              "      <td>10.115336</td>\n",
              "      <td>14.018254</td>\n",
              "      <td>16.042624</td>\n",
              "      <td>21.742603</td>\n",
              "    </tr>\n",
              "    <tr>\n",
              "      <th>3</th>\n",
              "      <td>3</td>\n",
              "      <td>3.5</td>\n",
              "      <td>0.5</td>\n",
              "      <td>0.420686</td>\n",
              "      <td>0.584055</td>\n",
              "      <td>0.906547</td>\n",
              "      <td>2.378577</td>\n",
              "      <td>3.888121</td>\n",
              "      <td>5.846089</td>\n",
              "      <td>9.083868</td>\n",
              "      <td>12.424885</td>\n",
              "      <td>15.012302</td>\n",
              "      <td>19.985781</td>\n",
              "      <td>24.266968</td>\n",
              "    </tr>\n",
              "    <tr>\n",
              "      <th>4</th>\n",
              "      <td>4</td>\n",
              "      <td>4.5</td>\n",
              "      <td>0.5</td>\n",
              "      <td>0.475621</td>\n",
              "      <td>0.647940</td>\n",
              "      <td>0.981544</td>\n",
              "      <td>2.665400</td>\n",
              "      <td>4.218711</td>\n",
              "      <td>6.776609</td>\n",
              "      <td>8.851107</td>\n",
              "      <td>11.731131</td>\n",
              "      <td>16.355563</td>\n",
              "      <td>18.730846</td>\n",
              "      <td>27.517960</td>\n",
              "    </tr>\n",
              "  </tbody>\n",
              "</table>\n",
              "</div>\n",
              "      <button class=\"colab-df-convert\" onclick=\"convertToInteractive('df-5da832cb-c717-47e7-aa92-24372e18a77a')\"\n",
              "              title=\"Convert this dataframe to an interactive table.\"\n",
              "              style=\"display:none;\">\n",
              "        \n",
              "  <svg xmlns=\"http://www.w3.org/2000/svg\" height=\"24px\"viewBox=\"0 0 24 24\"\n",
              "       width=\"24px\">\n",
              "    <path d=\"M0 0h24v24H0V0z\" fill=\"none\"/>\n",
              "    <path d=\"M18.56 5.44l.94 2.06.94-2.06 2.06-.94-2.06-.94-.94-2.06-.94 2.06-2.06.94zm-11 1L8.5 8.5l.94-2.06 2.06-.94-2.06-.94L8.5 2.5l-.94 2.06-2.06.94zm10 10l.94 2.06.94-2.06 2.06-.94-2.06-.94-.94-2.06-.94 2.06-2.06.94z\"/><path d=\"M17.41 7.96l-1.37-1.37c-.4-.4-.92-.59-1.43-.59-.52 0-1.04.2-1.43.59L10.3 9.45l-7.72 7.72c-.78.78-.78 2.05 0 2.83L4 21.41c.39.39.9.59 1.41.59.51 0 1.02-.2 1.41-.59l7.78-7.78 2.81-2.81c.8-.78.8-2.07 0-2.86zM5.41 20L4 18.59l7.72-7.72 1.47 1.35L5.41 20z\"/>\n",
              "  </svg>\n",
              "      </button>\n",
              "      \n",
              "  <style>\n",
              "    .colab-df-container {\n",
              "      display:flex;\n",
              "      flex-wrap:wrap;\n",
              "      gap: 12px;\n",
              "    }\n",
              "\n",
              "    .colab-df-convert {\n",
              "      background-color: #E8F0FE;\n",
              "      border: none;\n",
              "      border-radius: 50%;\n",
              "      cursor: pointer;\n",
              "      display: none;\n",
              "      fill: #1967D2;\n",
              "      height: 32px;\n",
              "      padding: 0 0 0 0;\n",
              "      width: 32px;\n",
              "    }\n",
              "\n",
              "    .colab-df-convert:hover {\n",
              "      background-color: #E2EBFA;\n",
              "      box-shadow: 0px 1px 2px rgba(60, 64, 67, 0.3), 0px 1px 3px 1px rgba(60, 64, 67, 0.15);\n",
              "      fill: #174EA6;\n",
              "    }\n",
              "\n",
              "    [theme=dark] .colab-df-convert {\n",
              "      background-color: #3B4455;\n",
              "      fill: #D2E3FC;\n",
              "    }\n",
              "\n",
              "    [theme=dark] .colab-df-convert:hover {\n",
              "      background-color: #434B5C;\n",
              "      box-shadow: 0px 1px 3px 1px rgba(0, 0, 0, 0.15);\n",
              "      filter: drop-shadow(0px 1px 2px rgba(0, 0, 0, 0.3));\n",
              "      fill: #FFFFFF;\n",
              "    }\n",
              "  </style>\n",
              "\n",
              "      <script>\n",
              "        const buttonEl =\n",
              "          document.querySelector('#df-5da832cb-c717-47e7-aa92-24372e18a77a button.colab-df-convert');\n",
              "        buttonEl.style.display =\n",
              "          google.colab.kernel.accessAllowed ? 'block' : 'none';\n",
              "\n",
              "        async function convertToInteractive(key) {\n",
              "          const element = document.querySelector('#df-5da832cb-c717-47e7-aa92-24372e18a77a');\n",
              "          const dataTable =\n",
              "            await google.colab.kernel.invokeFunction('convertToInteractive',\n",
              "                                                     [key], {});\n",
              "          if (!dataTable) return;\n",
              "\n",
              "          const docLinkHtml = 'Like what you see? Visit the ' +\n",
              "            '<a target=\"_blank\" href=https://colab.research.google.com/notebooks/data_table.ipynb>data table notebook</a>'\n",
              "            + ' to learn more about interactive tables.';\n",
              "          element.innerHTML = '';\n",
              "          dataTable['output_type'] = 'display_data';\n",
              "          await google.colab.output.renderOutput(dataTable, element);\n",
              "          const docLink = document.createElement('div');\n",
              "          docLink.innerHTML = docLinkHtml;\n",
              "          element.appendChild(docLink);\n",
              "        }\n",
              "      </script>\n",
              "    </div>\n",
              "  </div>\n",
              "  "
            ],
            "text/plain": [
              "   demand_point_index  x_coordinate  y_coordinate      2010      2011  \\\n",
              "0                   0           0.5           0.5  0.352242  0.667932   \n",
              "1                   1           1.5           0.5  0.325940  0.591964   \n",
              "2                   2           2.5           0.5  0.373752  0.591890   \n",
              "3                   3           3.5           0.5  0.420686  0.584055   \n",
              "4                   4           4.5           0.5  0.475621  0.647940   \n",
              "\n",
              "       2012      2013      2014      2015      2016       2017       2018  \\\n",
              "0  0.958593  2.911901  4.338274  6.561995  8.454417  10.595324  13.119572   \n",
              "1  0.862652  2.589068  4.196034  5.745551  8.753195  11.126995  12.020091   \n",
              "2  0.969733  2.641432  3.541772  5.469161  8.414627  10.115336  14.018254   \n",
              "3  0.906547  2.378577  3.888121  5.846089  9.083868  12.424885  15.012302   \n",
              "4  0.981544  2.665400  4.218711  6.776609  8.851107  11.731131  16.355563   \n",
              "\n",
              "        2019       2020  \n",
              "0  16.510711  22.027955  \n",
              "1  18.846287  18.269391  \n",
              "2  16.042624  21.742603  \n",
              "3  19.985781  24.266968  \n",
              "4  18.730846  27.517960  "
            ]
          },
          "execution_count": 162,
          "metadata": {},
          "output_type": "execute_result"
        }
      ],
      "source": [
        "demand=pd.read_csv(\"./Demand_predicted_nbeats.csv\")\n",
        "demand.head()"
      ]
    },
    {
      "cell_type": "code",
      "execution_count": null,
      "metadata": {
        "colab": {
          "base_uri": "https://localhost:8080/"
        },
        "id": "wjRRrwnhY2DI",
        "outputId": "2a097596-2a21-424a-b644-287142d64131"
      },
      "outputs": [
        {
          "data": {
            "text/plain": [
              "361529.636596884"
            ]
          },
          "execution_count": 163,
          "metadata": {},
          "output_type": "execute_result"
        }
      ],
      "source": [
        "demand_2018 = demand[\"2018\"].to_numpy()\n",
        "np.sum(demand_2018) # 2018 EXISTING DEMAND"
      ]
    },
    {
      "cell_type": "code",
      "execution_count": null,
      "metadata": {
        "id": "xDH0Jxn7ze35"
      },
      "outputs": [],
      "source": [
        "demand_2019 = demand[\"2019\"]"
      ]
    },
    {
      "cell_type": "code",
      "execution_count": null,
      "metadata": {
        "colab": {
          "base_uri": "https://localhost:8080/"
        },
        "id": "lS7WeKqlYvUT",
        "outputId": "3eef61e2-f5fd-47aa-86c2-6d530f447427"
      },
      "outputs": [
        {
          "data": {
            "text/plain": [
              "493462.16857066"
            ]
          },
          "execution_count": 165,
          "metadata": {},
          "output_type": "execute_result"
        }
      ],
      "source": [
        "np.sum(demand_2019)"
      ]
    },
    {
      "cell_type": "code",
      "execution_count": null,
      "metadata": {
        "id": "hDBSuU_ZIUXa"
      },
      "outputs": [],
      "source": [
        "#distance matrix between demand points and supply points\n",
        "xs=np.array(supply_points_existing[\"x_coordinate\"])\n",
        "ys=np.array(supply_points_existing[\"y_coordinate\"])\n",
        "xd=np.array(demand[\"x_coordinate\"])\n",
        "yd=np.array(demand[\"y_coordinate\"])\n",
        "dist=np.zeros((100,4096))\n",
        "\n",
        "for i in range(100):\n",
        "    for j in range(4096):\n",
        "        dist[i][j]=(((xs[i]-xd[j])**2)+((ys[i]-yd[j])**2))**0.5\n",
        "\n",
        "dist=dist.T"
      ]
    },
    {
      "cell_type": "code",
      "execution_count": null,
      "metadata": {
        "id": "z85trJBk_w2Q"
      },
      "outputs": [],
      "source": [
        "SCS = supply_points_existing[\"existing_num_SCS\"].to_numpy()\n",
        "FCS = supply_points_existing[\"existing_num_FCS\"].to_numpy()\n",
        "parking_slots = supply_points_existing[\"total_parking_slots\"].to_numpy()"
      ]
    },
    {
      "cell_type": "code",
      "execution_count": null,
      "metadata": {
        "colab": {
          "base_uri": "https://localhost:8080/"
        },
        "id": "nXGYmXoFZo9t",
        "outputId": "59937d25-6738-4980-80bf-ef0b97f45891"
      },
      "outputs": [
        {
          "data": {
            "text/plain": [
              "361600"
            ]
          },
          "execution_count": 168,
          "metadata": {},
          "output_type": "execute_result"
        }
      ],
      "source": [
        "np.sum(200*SCS + 400*FCS) # EXISTING SUPPLY"
      ]
    },
    {
      "cell_type": "markdown",
      "metadata": {
        "id": "ZYm7GnjPzpeR"
      },
      "source": [
        "2019"
      ]
    },
    {
      "cell_type": "code",
      "execution_count": null,
      "metadata": {
        "colab": {
          "base_uri": "https://localhost:8080/"
        },
        "id": "hDKzGNplTOsy",
        "outputId": "b7179d4f-4fb6-4bdc-c19c-506a1599d667"
      },
      "outputs": [
        {
          "name": "stderr",
          "output_type": "stream",
          "text": [
            "/usr/local/lib/python3.7/dist-packages/pulp/pulp.py:1352: UserWarning: Spaces are not permitted in the name. Converted to '_'\n",
            "  warnings.warn(\"Spaces are not permitted in the name. Converted to '_'\")\n"
          ]
        }
      ],
      "source": [
        "# Create the 'prob' variable to contain the problem data\n",
        "prob = LpProblem(\"The EV problem\", LpMinimize)\n",
        "\n",
        "# setting up the required LP variables in the problems\n",
        "supply_vars_SCS = LpVariable.dict(\"SCS\", (range(100)), 0,None, cat=LpInteger) # minimum value is zero(constraint - 1)\n",
        "supply_vars_FCS = LpVariable.dict(\"FCS\", (range(100)), 0,None, cat=LpInteger) # minimum value is zero ( constraint - 1)\n",
        "demand_supply_matrix = LpVariable.dict(\"Demand\", (range(4096),range(100)), 0,None, cat=LpContinuous) \n",
        "# demand is varying continuously as given in the data (constraint 1+2)"
      ]
    },
    {
      "cell_type": "code",
      "execution_count": null,
      "metadata": {
        "colab": {
          "base_uri": "https://localhost:8080/"
        },
        "id": "MGLrgBek82FB",
        "outputId": "5b33b3a4-f117-49e9-8036-079649117f12"
      },
      "outputs": [
        {
          "data": {
            "text/plain": [
              "409600"
            ]
          },
          "execution_count": 170,
          "metadata": {},
          "output_type": "execute_result"
        }
      ],
      "source": [
        "np.size(dist)"
      ]
    },
    {
      "cell_type": "code",
      "execution_count": null,
      "metadata": {
        "id": "t09mkHsUgm9r"
      },
      "outputs": [],
      "source": [
        "demand_supply_matrix[0,1].value()"
      ]
    },
    {
      "cell_type": "code",
      "execution_count": null,
      "metadata": {
        "id": "XIzDAaR7hHHg"
      },
      "outputs": [],
      "source": [
        "# The objective function is added to 'prob' first\n",
        "prob += (\n",
        "    lpSum([\n",
        "          [\n",
        "            (dist[i][j]*(demand_supply_matrix[i,j])) \n",
        "            for i in range(4096)] for j in range(100)\n",
        "         ]\n",
        "    )+\n",
        "        lpSum([\n",
        "          \n",
        "            ((supply_vars_SCS[j] + 1.5*supply_vars_FCS[j])) \n",
        "             for j in range(100)\n",
        "         ]\n",
        "        ), \n",
        "    \"Total Cost Function\",\n",
        ")"
      ]
    },
    {
      "cell_type": "code",
      "execution_count": null,
      "metadata": {
        "id": "BRrGfP9GYKf0"
      },
      "outputs": [],
      "source": [
        "# 3) Sum of FCS and SCS at jth point must be less than the total parking slots at the point\n",
        "for j in range(100):\n",
        "  prob += (\n",
        "    lpSum(supply_vars_SCS[j] + supply_vars_FCS[j]) <= parking_slots[j],\n",
        "    f\"Parking_max {j}\",\n",
        "  )"
      ]
    },
    {
      "cell_type": "code",
      "execution_count": null,
      "metadata": {
        "id": "CKXEO2xTEP1A"
      },
      "outputs": [],
      "source": [
        "# Now we are defining the constraints to the problem here that are needed to be solved \n",
        "# 4) the infrastructure needs to be built on the existing infrastructure\n",
        "for j in range(100):\n",
        "  prob += (\n",
        "    supply_vars_SCS[j] >= SCS[j],\n",
        "    f\"SCS_min_{j}\",\n",
        "  ) \n",
        "for j in range(100):\n",
        "  prob += (\n",
        "    supply_vars_FCS[j] >= FCS[j],\n",
        "    f\"FCS_min_{j}\",\n",
        "  )"
      ]
    },
    {
      "cell_type": "code",
      "execution_count": null,
      "metadata": {
        "id": "TVOqEoJGeYB5"
      },
      "outputs": [],
      "source": [
        "# 5) Demand satisfed by each jth supply point should be less than or equal to the maximum supply available\n",
        "for j in range(100):\n",
        "  prob += (\n",
        "   lpSum(200*supply_vars_SCS[j] + 400*supply_vars_FCS[j]) - lpSum([demand_supply_matrix[i,j] for i in range(4096)])>= 0.001,\n",
        "   f\"demand_{j}\",\n",
        "  ) "
      ]
    },
    {
      "cell_type": "code",
      "execution_count": null,
      "metadata": {
        "id": "8eDZ1W_oXZIs"
      },
      "outputs": [],
      "source": [
        "# 6) Demand satisfed by each ith point should equal to the demand at the time\n",
        "for i in range(4096):\n",
        "  prob += (\n",
        "    lpSum([demand_supply_matrix[i,j] for j in range(100)]) == demand_2019[i],\n",
        "    f\"demand_match_{i}\",\n",
        "  ) "
      ]
    },
    {
      "cell_type": "code",
      "execution_count": null,
      "metadata": {
        "colab": {
          "base_uri": "https://localhost:8080/"
        },
        "id": "rDBhtLNbiHIT",
        "outputId": "525215b1-eb4f-4a53-c3e0-0709625f4194"
      },
      "outputs": [
        {
          "data": {
            "text/plain": [
              "-1"
            ]
          },
          "execution_count": 177,
          "metadata": {},
          "output_type": "execute_result"
        }
      ],
      "source": [
        "prob.solve()"
      ]
    },
    {
      "cell_type": "code",
      "execution_count": null,
      "metadata": {
        "id": "OR5Bx0irM5AE"
      },
      "outputs": [],
      "source": [
        "demand_supply_matrix_2019 = np.zeros((4096,100))\n",
        "for i in range(4096):\n",
        "  for j in range(100):\n",
        "    demand_supply_matrix_2019[i][j] = demand_supply_matrix[i,j].value()"
      ]
    },
    {
      "cell_type": "code",
      "execution_count": null,
      "metadata": {
        "colab": {
          "base_uri": "https://localhost:8080/"
        },
        "id": "fj8Wdl4dNqfp",
        "outputId": "32383433-2ed9-49e1-c491-51744d75adc1"
      },
      "outputs": [
        {
          "data": {
            "text/plain": [
              "492499.6876468"
            ]
          },
          "execution_count": 179,
          "metadata": {},
          "output_type": "execute_result"
        }
      ],
      "source": [
        "np.sum(demand_supply_matrix_2019)"
      ]
    },
    {
      "cell_type": "code",
      "execution_count": null,
      "metadata": {
        "id": "m3nW4FwzTm-8"
      },
      "outputs": [],
      "source": [
        "SCS_2019 = np.zeros(100)\n",
        "FCS_2019 = np.zeros(100)\n",
        "for i in range(100):\n",
        "    SCS_2019[i] = supply_vars_SCS[i].value()\n",
        "for i in range(100):\n",
        "    FCS_2019[i] = supply_vars_FCS[i].value()"
      ]
    },
    {
      "cell_type": "code",
      "execution_count": null,
      "metadata": {
        "colab": {
          "base_uri": "https://localhost:8080/"
        },
        "id": "rlfCCpI0lBqr",
        "outputId": "bd961c85-d4c2-4c94-9e26-405b8aa79174"
      },
      "outputs": [
        {
          "data": {
            "text/plain": [
              "560544.833844"
            ]
          },
          "execution_count": 181,
          "metadata": {},
          "output_type": "execute_result"
        }
      ],
      "source": [
        "np.sum(200*SCS_2019 + 400*FCS_2019)"
      ]
    },
    {
      "cell_type": "code",
      "execution_count": null,
      "metadata": {
        "id": "-sMGsV_Zl4ec"
      },
      "outputs": [],
      "source": [
        "# Value of cost function I got here\n",
        "cost_2019 = 0\n",
        "for i in range(4096):\n",
        "  for j in range(100):\n",
        "      cost_2019 += (dist[i][j]*(demand_supply_matrix_2019[i][j])) \n",
        "for j in range(100):\n",
        "  cost_2019 += 600*(SCS_2019[j] + 1.5*FCS_2019[j])\n"
      ]
    },
    {
      "cell_type": "code",
      "execution_count": null,
      "metadata": {
        "colab": {
          "base_uri": "https://localhost:8080/"
        },
        "id": "ov_aaUPNmuiY",
        "outputId": "28006f25-e7c4-4ab4-a4b7-2b55183f0902"
      },
      "outputs": [
        {
          "data": {
            "text/plain": [
              "3025144.6519013834"
            ]
          },
          "execution_count": 183,
          "metadata": {},
          "output_type": "execute_result"
        }
      ],
      "source": [
        "cost_2019"
      ]
    },
    {
      "cell_type": "code",
      "execution_count": null,
      "metadata": {
        "colab": {
          "base_uri": "https://localhost:8080/"
        },
        "id": "XuLeE8FBm2_E",
        "outputId": "b4cb3144-e288-478f-9e9f-de507aa037ba"
      },
      "outputs": [
        {
          "data": {
            "text/plain": [
              "81.8491320885917"
            ]
          },
          "execution_count": 184,
          "metadata": {},
          "output_type": "execute_result"
        }
      ],
      "source": [
        "score_2018 = max(10, 100 - ((90*cost_2019)/15000000))\n",
        "score_2018"
      ]
    },
    {
      "cell_type": "code",
      "execution_count": null,
      "metadata": {
        "id": "NUgLJPltcZs1"
      },
      "outputs": [],
      "source": [
        "for i in range(4096):\n",
        "  for j in range(100):\n",
        "    if demand_supply_matrix_2019[i][j] < 0:\n",
        "      demand_supply_matrix_2019[i][j] = 0"
      ]
    },
    {
      "cell_type": "code",
      "execution_count": null,
      "metadata": {
        "id": "d2dMSDyRe1RG"
      },
      "outputs": [],
      "source": [
        "# 4) the infrastructure needs to be built on the existing infrastructure\n",
        "constraint_4 = True\n",
        "for i in range(100):\n",
        "  if (SCS_2019[i] < SCS[i]):\n",
        "    SCS_2019[i] = SCS[i]\n",
        "  elif (FCS_2019[i] < FCS[i]):\n",
        "    FCS_2019[i] = FCS[i]\n",
        "    "
      ]
    },
    {
      "cell_type": "markdown",
      "metadata": {
        "id": "NdxoWAGSpAm-"
      },
      "source": [
        "Constraint-5 correction"
      ]
    },
    {
      "cell_type": "code",
      "execution_count": null,
      "metadata": {
        "colab": {
          "base_uri": "https://localhost:8080/"
        },
        "id": "5Bgp8L4SfhSG",
        "outputId": "e8a2d4e0-fd74-4d66-ef8c-f0152f65de96"
      },
      "outputs": [
        {
          "name": "stdout",
          "output_type": "stream",
          "text": [
            "0\n",
            "10\n"
          ]
        },
        {
          "name": "stderr",
          "output_type": "stream",
          "text": [
            "/usr/local/lib/python3.7/dist-packages/ipykernel_launcher.py:5: DeprecationWarning: Calling np.sum(generator) is deprecated, and in the future will give a different result. Use np.sum(np.fromiter(generator)) or the python sum builtin instead.\n",
            "  \"\"\"\n"
          ]
        }
      ],
      "source": [
        "# 5) Demand satisfed by each jth supply point should be less than or equal to the maximum supply available\n",
        "constraint_5 = True\n",
        "constraint_5_array = []\n",
        "for j in range(100):\n",
        "  if np.sum(demand_supply_matrix_2019[i][j] for i in range(4096)) > (200*SCS_2019[j]+400*FCS_2019[j]):\n",
        "    constraint_5 = False\n",
        "    print(j)\n",
        "    constraint_5_array.append(j)"
      ]
    },
    {
      "cell_type": "code",
      "execution_count": null,
      "metadata": {
        "colab": {
          "base_uri": "https://localhost:8080/"
        },
        "id": "EWGmOsnTj9Ni",
        "outputId": "d24ed792-1a6a-470e-e9cd-4ae9bf6ac067"
      },
      "outputs": [
        {
          "data": {
            "text/plain": [
              "100"
            ]
          },
          "execution_count": 187,
          "metadata": {},
          "output_type": "execute_result"
        }
      ],
      "source": [
        "len(demand_supply_matrix_2019[4095])"
      ]
    },
    {
      "cell_type": "code",
      "execution_count": null,
      "metadata": {
        "colab": {
          "base_uri": "https://localhost:8080/"
        },
        "id": "pNKWJ_tmkvv7",
        "outputId": "41a3e38b-19bd-4222-83ff-535d98815cdd"
      },
      "outputs": [
        {
          "name": "stderr",
          "output_type": "stream",
          "text": [
            "/usr/local/lib/python3.7/dist-packages/ipykernel_launcher.py:2: DeprecationWarning: Calling np.sum(generator) is deprecated, and in the future will give a different result. Use np.sum(np.fromiter(generator)) or the python sum builtin instead.\n",
            "  \n"
          ]
        },
        {
          "data": {
            "text/plain": [
              "7399.999012000001"
            ]
          },
          "execution_count": 188,
          "metadata": {},
          "output_type": "execute_result"
        }
      ],
      "source": [
        "j = 64\n",
        "np.sum(demand_supply_matrix_2019[i][j] for i in range(4096))"
      ]
    },
    {
      "cell_type": "code",
      "execution_count": null,
      "metadata": {
        "colab": {
          "base_uri": "https://localhost:8080/"
        },
        "id": "0qc7qa97oKKL",
        "outputId": "78177236-25b3-4206-e8bb-11025832adf1"
      },
      "outputs": [
        {
          "data": {
            "text/plain": [
              "7400.0"
            ]
          },
          "execution_count": 189,
          "metadata": {},
          "output_type": "execute_result"
        }
      ],
      "source": [
        "(200*SCS_2019[j]+400*FCS_2019[j])"
      ]
    },
    {
      "cell_type": "code",
      "execution_count": null,
      "metadata": {
        "colab": {
          "base_uri": "https://localhost:8080/"
        },
        "id": "mc1uXDKXptIN",
        "outputId": "889eaad8-ffd3-4376-c359-3061a73bb01c"
      },
      "outputs": [
        {
          "name": "stderr",
          "output_type": "stream",
          "text": [
            "/usr/local/lib/python3.7/dist-packages/ipykernel_launcher.py:4: DeprecationWarning: Calling np.sum(generator) is deprecated, and in the future will give a different result. Use np.sum(np.fromiter(generator)) or the python sum builtin instead.\n",
            "  after removing the cwd from sys.path.\n",
            "/usr/local/lib/python3.7/dist-packages/ipykernel_launcher.py:5: DeprecationWarning: Calling np.sum(generator) is deprecated, and in the future will give a different result. Use np.sum(np.fromiter(generator)) or the python sum builtin instead.\n",
            "  \"\"\"\n"
          ]
        }
      ],
      "source": [
        "for j in constraint_5_array:\n",
        "  for i in range(4096):\n",
        "    if (demand_supply_matrix_2019[i][j] > 0):\n",
        "      if demand_supply_matrix_2019[i][j] > np.sum(demand_supply_matrix_2019[i][j] for i in range(4096)) -(200*SCS_2019[j]+400*FCS_2019[j]) + 1:\n",
        "        demand_supply_matrix_2019[i][j] -= np.sum(demand_supply_matrix_2019[i][j] for i in range(4096)) -(200*SCS_2019[j]+400*FCS_2019[j])\n",
        "        break"
      ]
    },
    {
      "cell_type": "code",
      "execution_count": null,
      "metadata": {
        "colab": {
          "base_uri": "https://localhost:8080/"
        },
        "id": "auLgdA1-kqmG",
        "outputId": "5f8741de-879e-41a8-c036-5f1e5c43d833"
      },
      "outputs": [
        {
          "data": {
            "text/plain": [
              "False"
            ]
          },
          "execution_count": 191,
          "metadata": {},
          "output_type": "execute_result"
        }
      ],
      "source": [
        "constraint_5"
      ]
    },
    {
      "cell_type": "code",
      "execution_count": null,
      "metadata": {
        "colab": {
          "base_uri": "https://localhost:8080/"
        },
        "id": "eY2CdJEPOwX5",
        "outputId": "7a1209cf-06c1-4aac-9b9c-5a6ca275c9c9"
      },
      "outputs": [
        {
          "name": "stderr",
          "output_type": "stream",
          "text": [
            "/usr/local/lib/python3.7/dist-packages/ipykernel_launcher.py:5: DeprecationWarning: Calling np.sum(generator) is deprecated, and in the future will give a different result. Use np.sum(np.fromiter(generator)) or the python sum builtin instead.\n",
            "  \"\"\"\n"
          ]
        }
      ],
      "source": [
        "# 5) Demand satisfed by each jth supply point should be less than or equal to the maximum supply available\n",
        "constraint_5 = True\n",
        "constraint_5_array = []\n",
        "for j in range(100):\n",
        "  if np.sum(demand_supply_matrix_2019[i][j] for i in range(4096)) > (200*SCS_2019[j]+400*FCS_2019[j]):\n",
        "    constraint_5 = False\n",
        "    print(j)\n",
        "    constraint_5_array.append(j)"
      ]
    },
    {
      "cell_type": "markdown",
      "metadata": {
        "id": "P7N_nAqCpcr1"
      },
      "source": [
        "Checking constraints"
      ]
    },
    {
      "cell_type": "code",
      "execution_count": null,
      "metadata": {
        "id": "oHbnnzXbiBf0"
      },
      "outputs": [],
      "source": [
        "# 1st and 2nd constraints must be true as they are initialized using bounded conditions(0-Infinity)"
      ]
    },
    {
      "cell_type": "code",
      "execution_count": null,
      "metadata": {
        "id": "Ch_Exh6wLUJ4"
      },
      "outputs": [],
      "source": [
        "constraint_1 = True\n",
        "for i in SCS_2019:\n",
        "  if i<0:\n",
        "    constraint_1 = False\n",
        "    print(i)\n",
        "for i in FCS_2019:\n",
        "  if i<0:\n",
        "    constraint_1 = False\n",
        "    print(i)"
      ]
    },
    {
      "cell_type": "code",
      "execution_count": null,
      "metadata": {
        "id": "j38jJNF9MJeQ"
      },
      "outputs": [],
      "source": [
        "constraint_2 = True\n",
        "for i in range(4096):\n",
        "  for j in range(100):\n",
        "    if demand_supply_matrix_2019[i][j] < 0:\n",
        "      constraint_2 = False\n",
        "      print(i,j)"
      ]
    },
    {
      "cell_type": "code",
      "execution_count": null,
      "metadata": {
        "id": "OY_kKEMqbh5d"
      },
      "outputs": [],
      "source": [
        "# checking constraints\n",
        "# 3) Sum of FCS and SCS at jth point must be less than the total parking slots at the point\n",
        "constraint_3 = True\n",
        "for i in range(100):\n",
        "  if (SCS_2019[i] + FCS_2019[i]) > parking_slots[i]:\n",
        "    constraint_3 = False\n",
        "    print(i)"
      ]
    },
    {
      "cell_type": "code",
      "execution_count": null,
      "metadata": {
        "id": "yGK4NeJFfJuh"
      },
      "outputs": [],
      "source": [
        "# 4) the infrastructure needs to be built on the existing infrastructure\n",
        "constraint_4 = True\n",
        "for i in range(100):\n",
        "  if (SCS_2019[i] < SCS[i]) or (FCS_2019[i] < FCS[i]):\n",
        "    constraint_4 = False\n",
        "    print(i)"
      ]
    },
    {
      "cell_type": "code",
      "execution_count": null,
      "metadata": {
        "colab": {
          "base_uri": "https://localhost:8080/"
        },
        "id": "CBpIZPWyPBNg",
        "outputId": "f7ea4d4a-158d-44f3-d8ab-030d7ed0a493"
      },
      "outputs": [
        {
          "name": "stderr",
          "output_type": "stream",
          "text": [
            "/usr/local/lib/python3.7/dist-packages/ipykernel_launcher.py:5: DeprecationWarning: Calling np.sum(generator) is deprecated, and in the future will give a different result. Use np.sum(np.fromiter(generator)) or the python sum builtin instead.\n",
            "  \"\"\"\n"
          ]
        }
      ],
      "source": [
        "# 5) Demand satisfed by each jth supply point should be less than or equal to the maximum supply available\n",
        "constraint_5 = True\n",
        "constraint_5_array = []\n",
        "for j in range(100):\n",
        "  if np.sum(demand_supply_matrix_2019[i][j] for i in range(4096)) > (200*SCS_2019[j]+400*FCS_2019[j]):\n",
        "    constraint_5 = False"
      ]
    },
    {
      "cell_type": "code",
      "execution_count": null,
      "metadata": {
        "colab": {
          "base_uri": "https://localhost:8080/"
        },
        "id": "ABSbuS6dgWoF",
        "outputId": "5738256c-7339-44d5-9984-b5c37a5e7e0a"
      },
      "outputs": [
        {
          "name": "stderr",
          "output_type": "stream",
          "text": [
            "/usr/local/lib/python3.7/dist-packages/ipykernel_launcher.py:4: DeprecationWarning: Calling np.sum(generator) is deprecated, and in the future will give a different result. Use np.sum(np.fromiter(generator)) or the python sum builtin instead.\n",
            "  after removing the cwd from sys.path.\n"
          ]
        }
      ],
      "source": [
        "# 6) Demand satisfed by each ith point should equal to the demand at the time\n",
        "constraint_6 = True\n",
        "for i in range(4096):\n",
        "  if (np.sum(demand_supply_matrix_2019[i][j] for j in range(100)) != demand_2019[i]):\n",
        "    constraint_6 = False\n",
        "    #print(i)"
      ]
    },
    {
      "cell_type": "code",
      "execution_count": null,
      "metadata": {
        "colab": {
          "base_uri": "https://localhost:8080/"
        },
        "id": "EGlrCt6qi34f",
        "outputId": "b62e5525-462f-400d-f96b-8628442afb22"
      },
      "outputs": [
        {
          "name": "stdout",
          "output_type": "stream",
          "text": [
            "constraint 1: True\n",
            "constraint 2: True\n",
            "constraint 3: True\n",
            "constraint 4: True\n",
            "constraint 5: True\n",
            "constraint 6: False\n"
          ]
        }
      ],
      "source": [
        "print(\"constraint 1:\",constraint_1)\n",
        "print(\"constraint 2:\",constraint_2)\n",
        "print(\"constraint 3:\",constraint_3)\n",
        "print(\"constraint 4:\",constraint_4)\n",
        "print(\"constraint 5:\",constraint_5)\n",
        "print(\"constraint 6:\",constraint_6)"
      ]
    },
    {
      "cell_type": "markdown",
      "metadata": {
        "id": "cYcyJBGh0pKB"
      },
      "source": [
        "2020"
      ]
    },
    {
      "cell_type": "code",
      "execution_count": null,
      "metadata": {
        "colab": {
          "background_save": true
        },
        "id": "gO30SmRu0otp"
      },
      "outputs": [],
      "source": [
        "# Create the 'prob' variable to contain the problem data\n",
        "prob = LpProblem(\"The EV problem-2\", LpMinimize)\n",
        "\n",
        "# setting up the required LP variables in the problems\n",
        "supply_vars_SCS = LpVariable.dict(\"SCS\", (range(100)), 0,None, cat=LpInteger) # minimum value is zero(constraint - 1)\n",
        "supply_vars_FCS = LpVariable.dict(\"FCS\", (range(100)), 0,None, cat=LpInteger) # minimum value is zero ( constraint - 1)\n",
        "demand_supply_matrix = LpVariable.dict(\"Demand\", (range(4096),range(100)), 0,None, cat=LpContinuous) \n",
        "# demand is varying continuously as given in the data (constraint 1+2)"
      ]
    },
    {
      "cell_type": "code",
      "execution_count": null,
      "metadata": {
        "colab": {
          "background_save": true
        },
        "id": "R35NPhrt1TmZ"
      },
      "outputs": [],
      "source": [
        "# The objective function is added to 'prob' first\n",
        "prob += (\n",
        "    lpSum([\n",
        "          [\n",
        "            (dist[i][j]*(demand_supply_matrix[i,j])) \n",
        "            for i in range(4096)] for j in range(100)\n",
        "         ]\n",
        "    )+\n",
        "        lpSum([\n",
        "          \n",
        "            ((supply_vars_SCS[j] + 1.5*supply_vars_FCS[j])) \n",
        "             for j in range(100)\n",
        "         ]\n",
        "        ), \n",
        "    \"Total Cost Function\",\n",
        ")"
      ]
    },
    {
      "cell_type": "code",
      "execution_count": null,
      "metadata": {
        "colab": {
          "background_save": true
        },
        "id": "KqKfY-YI1XLn"
      },
      "outputs": [],
      "source": [
        "# 3) Sum of FCS and SCS at jth point must be less than the total parking slots at the point\n",
        "for j in range(100):\n",
        "  prob += (\n",
        "    lpSum(supply_vars_SCS[j] + supply_vars_FCS[j]) <= parking_slots[j],\n",
        "    f\"Parking_max {j}\",\n",
        "  )"
      ]
    },
    {
      "cell_type": "code",
      "execution_count": null,
      "metadata": {
        "colab": {
          "background_save": true
        },
        "id": "VMiWSEZ51aQM"
      },
      "outputs": [],
      "source": [
        "# Now we are defining the constraints to the problem here that are needed to be solved \n",
        "# 4) the infrastructure needs to be built on the existing infrastructure\n",
        "for j in range(100):\n",
        "  prob += (\n",
        "    supply_vars_SCS[j] >= SCS_2019[j],\n",
        "    f\"SCS_min_{j}\",\n",
        "  ) \n",
        "for j in range(100):\n",
        "  prob += (\n",
        "    supply_vars_FCS[j] >= FCS_2019[j],\n",
        "    f\"FCS_min_{j}\",\n",
        "  )"
      ]
    },
    {
      "cell_type": "code",
      "execution_count": null,
      "metadata": {
        "colab": {
          "background_save": true
        },
        "id": "-qZzC1D_1dhS"
      },
      "outputs": [],
      "source": [
        "# 5) Demand satisfed by each jth supply point should be less than or equal to the maximum supply available\n",
        "for j in range(100):\n",
        "  prob += (\n",
        "   lpSum([demand_supply_matrix[i,j] for i in range(4096)]) - \n",
        "   lpSum(200*supply_vars_SCS[j] + 400*supply_vars_FCS[j]) <= 0.001,\n",
        "   f\"demand_{j}\",\n",
        "  ) "
      ]
    },
    {
      "cell_type": "code",
      "execution_count": null,
      "metadata": {
        "colab": {
          "background_save": true
        },
        "id": "Al6U5UBb2qLI"
      },
      "outputs": [],
      "source": [
        "demand_2020 = demand[\"2020\"]"
      ]
    },
    {
      "cell_type": "code",
      "execution_count": null,
      "metadata": {
        "colab": {
          "background_save": true
        },
        "id": "SgYhh_rl1gbA"
      },
      "outputs": [],
      "source": [
        "# 6) Demand satisfed by each ith point should equal to the demand at the time\n",
        "for i in range(4096):\n",
        "  prob += (\n",
        "    lpSum([demand_supply_matrix[i,j] for j in range(100)]) == demand_2020[i],\n",
        "    f\"demand_match_{i}\",\n",
        "  ) "
      ]
    },
    {
      "cell_type": "code",
      "execution_count": null,
      "metadata": {
        "id": "o0aPC9Ws1mLf"
      },
      "outputs": [],
      "source": [
        "prob.solve()"
      ]
    },
    {
      "cell_type": "code",
      "execution_count": null,
      "metadata": {
        "colab": {
          "background_save": true
        },
        "id": "Ai-ndPpt1mzZ"
      },
      "outputs": [],
      "source": [
        "demand_supply_matrix_2020 = np.zeros((4096,100))\n",
        "for i in range(4096):\n",
        "  for j in range(100):\n",
        "    demand_supply_matrix_2020[i][j] = demand_supply_matrix[i,j].value()"
      ]
    },
    {
      "cell_type": "code",
      "execution_count": null,
      "metadata": {
        "colab": {
          "background_save": true
        },
        "id": "gKCmH7WD1to3",
        "outputId": "688cf422-1bc4-4b92-e99f-621511ee7fcf"
      },
      "outputs": [
        {
          "data": {
            "text/plain": [
              "578797.8248825"
            ]
          },
          "execution_count": 239,
          "metadata": {},
          "output_type": "execute_result"
        }
      ],
      "source": [
        "np.sum(demand_supply_matrix_2020)"
      ]
    },
    {
      "cell_type": "code",
      "execution_count": null,
      "metadata": {
        "colab": {
          "background_save": true
        },
        "id": "GlJmEO1M1yRS"
      },
      "outputs": [],
      "source": [
        "SCS_2020 = np.zeros(100)\n",
        "FCS_2020 = np.zeros(100)\n",
        "for i in range(100):\n",
        "    SCS_2020[i] = supply_vars_SCS[i].value()\n",
        "for i in range(100):\n",
        "    FCS_2020[i] = supply_vars_FCS[i].value()"
      ]
    },
    {
      "cell_type": "code",
      "execution_count": null,
      "metadata": {
        "colab": {
          "background_save": true
        },
        "id": "sgpiwl1T108Q",
        "outputId": "fadf92a2-6fc2-412f-d06b-c20a7afc856c"
      },
      "outputs": [
        {
          "data": {
            "text/plain": [
              "627126.1267200001"
            ]
          },
          "execution_count": 241,
          "metadata": {},
          "output_type": "execute_result"
        }
      ],
      "source": [
        "np.sum(200*SCS_2020 + 400*FCS_2020)"
      ]
    },
    {
      "cell_type": "code",
      "execution_count": null,
      "metadata": {
        "colab": {
          "background_save": true
        },
        "id": "2Pk_FOFg14Hf",
        "outputId": "754e7b89-0a84-4477-ee04-f3ee14316a4a"
      },
      "outputs": [
        {
          "data": {
            "text/plain": [
              "3650000.5822192584"
            ]
          },
          "execution_count": 242,
          "metadata": {},
          "output_type": "execute_result"
        }
      ],
      "source": [
        "# Value of cost function I got here\n",
        "cost_2020 = 0\n",
        "for i in range(4096):\n",
        "  for j in range(100):\n",
        "      cost_2020 += (dist[i][j]*(demand_supply_matrix_2020[i][j])) \n",
        "for j in range(100):\n",
        "  cost_2020 += 600*(SCS_2020[j] + 1.5*FCS_2020[j])\n",
        "cost_2020"
      ]
    },
    {
      "cell_type": "code",
      "execution_count": null,
      "metadata": {
        "colab": {
          "background_save": true
        },
        "id": "teq9LH1d3DYI",
        "outputId": "7844532c-e0f6-438f-b6ca-80d2f5f35ad8"
      },
      "outputs": [
        {
          "data": {
            "text/plain": [
              "78.09999650668445"
            ]
          },
          "execution_count": 243,
          "metadata": {},
          "output_type": "execute_result"
        }
      ],
      "source": [
        "score_2020 = max(10, 100 - ((90*cost_2020)/15000000))\n",
        "score_2020"
      ]
    },
    {
      "cell_type": "code",
      "source": [
        "for i in range(4096):\n",
        "  for j in range(100):\n",
        "    if demand_supply_matrix_2020[i][j] < 0:\n",
        "      demand_supply_matrix_2020[i][j] = 0"
      ],
      "metadata": {
        "id": "hhdCoPOQhhuq"
      },
      "execution_count": null,
      "outputs": []
    },
    {
      "cell_type": "code",
      "source": [
        "constraint_3 = True\n",
        "for i in range(100):\n",
        "  if (SCS_2020[i] + FCS_2020[i]) > parking_slots[i]:\n",
        "    "
      ],
      "metadata": {
        "id": "s8hEr4iYh0Ic"
      },
      "execution_count": null,
      "outputs": []
    },
    {
      "cell_type": "markdown",
      "metadata": {
        "id": "eWijAMXrMoSJ"
      },
      "source": [
        "Correcting constraint 5:"
      ]
    },
    {
      "cell_type": "code",
      "execution_count": null,
      "metadata": {
        "id": "vPrDBIctMo0P"
      },
      "outputs": [],
      "source": [
        "# 5) Demand satisfed by each jth supply point should be less than or equal to the maximum supply available\n",
        "constraint_5 = True\n",
        "constraint_5_array = []\n",
        "for j in range(100):\n",
        "  if np.sum(demand_supply_matrix_2020[i][j] for i in range(4096)) > (200*SCS_2020[j]+400*FCS_2020[j]):\n",
        "    constraint_5 = False\n",
        "    print(j)\n",
        "    constraint_5_array.append(j)"
      ]
    },
    {
      "cell_type": "code",
      "execution_count": null,
      "metadata": {
        "id": "fhM0r27FMpl1"
      },
      "outputs": [],
      "source": [
        "len(demand_supply_matrix_2020[4095])"
      ]
    },
    {
      "cell_type": "code",
      "execution_count": null,
      "metadata": {
        "id": "w1PSiRDWM07k"
      },
      "outputs": [],
      "source": [
        "for j in constraint_5_array:\n",
        "  for i in range(4096):\n",
        "    if (demand_supply_matrix_2020[i][j] > 0):\n",
        "      demand_supply_matrix_2020[i][j] -= 0.5\n",
        "      break"
      ]
    },
    {
      "cell_type": "code",
      "execution_count": null,
      "metadata": {
        "id": "ZtDYZZicMtkO"
      },
      "outputs": [],
      "source": [
        "j = 34\n",
        "np.sum(demand_supply_matrix_2020[i][j] for i in range(4096))"
      ]
    },
    {
      "cell_type": "code",
      "execution_count": null,
      "metadata": {
        "id": "3ANFcWAvMxfj"
      },
      "outputs": [],
      "source": [
        "(200*SCS_2020[j]+400*FCS_2020[j])"
      ]
    },
    {
      "cell_type": "markdown",
      "metadata": {
        "id": "V9Y8sLviNEH4"
      },
      "source": [
        "Checking Constraints"
      ]
    },
    {
      "cell_type": "code",
      "execution_count": null,
      "metadata": {
        "id": "dcTvkvUhNOcE"
      },
      "outputs": [],
      "source": [
        "# 1st and 2nd constraints must be true as they are initialized using bounded conditions(0-Infinity)\n",
        "constraint_1 = True\n",
        "for i in SCS_2020:\n",
        "  if i<0:\n",
        "    constraint_1 = False\n",
        "    print(i)\n",
        "for i in FCS_2020:\n",
        "  if i<0:\n",
        "    constraint_1 = False\n",
        "    print(i)\n",
        "constraint_2 = True\n",
        "for i in range(4096):\n",
        "  for j in range(100):\n",
        "    if demand_supply_matrix_2020[i][j] < 0:\n",
        "      constraint_2 = False\n",
        "      print(i,j)"
      ]
    },
    {
      "cell_type": "code",
      "execution_count": null,
      "metadata": {
        "id": "9U0PiA0viPXq"
      },
      "outputs": [],
      "source": [
        "# checking constraints\n",
        "# 3) Sum of FCS and SCS at jth point must be less than the total parking slots at the point\n",
        "constraint_3 = True\n",
        "for i in range(100):\n",
        "  if (SCS_2020[i] + FCS_2020[i]) > parking_slots[i]:\n",
        "    constraint_3 = False\n",
        "    print(i)"
      ]
    },
    {
      "cell_type": "code",
      "execution_count": null,
      "metadata": {
        "id": "sCHlFVZ2iT-9"
      },
      "outputs": [],
      "source": [
        "# 4) the infrastructure needs to be built on the existing infrastructure\n",
        "constraint_4 = True\n",
        "for i in range(100):\n",
        "  if (SCS_2020[i] < SCS_2019[i]) or (FCS_2020[i] < FCS_2019[i]):\n",
        "    constraint_4 = False\n",
        "    print(i)"
      ]
    },
    {
      "cell_type": "code",
      "execution_count": null,
      "metadata": {
        "id": "647t9eWziXlM"
      },
      "outputs": [],
      "source": [
        "# 5) Demand satisfed by each jth supply point should be less than or equal to the maximum supply available\n",
        "constraint_5 = True\n",
        "constraint_5_array = []\n",
        "for j in range(100):\n",
        "  if np.sum(demand_supply_matrix_2020[i][j] for i in range(4096)) > (200*SCS_2020[j]+400*FCS_2020[j]):\n",
        "    constraint_5 = False\n",
        "    print(j)\n",
        "    constraint_5_array.append(j)"
      ]
    },
    {
      "cell_type": "code",
      "execution_count": null,
      "metadata": {
        "id": "A266gCS5iahd"
      },
      "outputs": [],
      "source": [
        "# 6) Demand satisfed by each ith point should equal to the demand at the time\n",
        "constraint_6 = True\n",
        "for i in range(4096):\n",
        "  if np.sum(demand_supply_matrix_2020[i][j] for j in range(100)) != demand_2020[i]:\n",
        "    constraint_6 = False\n",
        "    #print(i)"
      ]
    },
    {
      "cell_type": "code",
      "execution_count": 280,
      "metadata": {
        "id": "SBQB48VviqPF",
        "colab": {
          "base_uri": "https://localhost:8080/"
        },
        "outputId": "a20d54f6-67b5-42ba-f6b6-23f2758b71b5"
      },
      "outputs": [
        {
          "output_type": "stream",
          "name": "stdout",
          "text": [
            "constraint 1: True\n",
            "constraint 2: False\n",
            "constraint 3: False\n",
            "constraint 4: True\n",
            "constraint 5: True\n",
            "constraint 6: False\n"
          ]
        }
      ],
      "source": [
        "print(\"constraint 1:\",constraint_1)\n",
        "print(\"constraint 2:\",constraint_2)\n",
        "print(\"constraint 3:\",constraint_3)\n",
        "print(\"constraint 4:\",constraint_4)\n",
        "print(\"constraint 5:\",constraint_5)\n",
        "print(\"constraint 6:\",constraint_6)"
      ]
    },
    {
      "cell_type": "code",
      "execution_count": null,
      "metadata": {
        "id": "9iU0SU0TCkCA"
      },
      "outputs": [],
      "source": [
        "demand"
      ]
    },
    {
      "cell_type": "code",
      "execution_count": null,
      "metadata": {
        "id": "VdUtBjFb7r0O"
      },
      "outputs": [],
      "source": [
        "'''\n",
        "fileh = open(\"submit-19.csv\", \"r+\")\n",
        "fileh.write(\"year,data_type,demand_point_index,supply_point_index,value\\n\")\n",
        "for i in range(100):\n",
        "    fileh.write(f\"2019,SCS,,{i},{int(SCS_2019[i])}\\n\")\n",
        "for i in range(100):\n",
        "    fileh.write(f\"2019,FCS,,{i},{int(FCS_2019[i])}\\n\")\n",
        "for i in range(4096):\n",
        "    for j in range(100):\n",
        "        fileh.write(f\"2019,DS,{i},{j},{demand_supply_matrix_2019[i][j]}\\n\")\n",
        "for i in range(100):\n",
        "    fileh.write(f\"2020,SCS,,{i},{int(SCS_2020[i])}\\n\")\n",
        "for i in range(100):\n",
        "    fileh.write(f\"2020,FCS,,{i},{int(FCS_2020[i])}\\n\") \n",
        "for i in range(4096):\n",
        "    for j in range(100):\n",
        "        fileh.write(f\"2020,DS,{i},{j},{demand_supply_matrix_2020[i][j]}\\n\")\n",
        "fileh.write(\"year,data_type,demand_point_index,supply_point_index,value\\n\")\n",
        "fileh.close()\n",
        "'''"
      ]
    }
  ],
  "metadata": {
    "colab": {
      "provenance": []
    },
    "kernelspec": {
      "display_name": "Python 3.10.0 64-bit",
      "language": "python",
      "name": "python3"
    },
    "language_info": {
      "codemirror_mode": {
        "name": "ipython",
        "version": 3
      },
      "file_extension": ".py",
      "mimetype": "text/x-python",
      "name": "python",
      "nbconvert_exporter": "python",
      "pygments_lexer": "ipython3",
      "version": "3.10.0"
    },
    "vscode": {
      "interpreter": {
        "hash": "aee8b7b246df8f9039afb4144a1f6fd8d2ca17a180786b69acc140d282b71a49"
      }
    }
  },
  "nbformat": 4,
  "nbformat_minor": 0
}