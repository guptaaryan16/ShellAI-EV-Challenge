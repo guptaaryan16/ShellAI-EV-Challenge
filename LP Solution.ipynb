{
  "cells": [
    {
      "cell_type": "markdown",
      "metadata": {},
      "source": [
        "<h1 style=\"text-align:center\">Shell.AI EV Problem (LP part) </h1>"
      ]
    },
    {
      "cell_type": "code",
      "execution_count": null,
      "metadata": {},
      "outputs": [],
      "source": [
        "!pip install pulp"
      ]
    },
    {
      "cell_type": "code",
      "execution_count": 2,
      "metadata": {
        "id": "LXLiyCo8SJIG"
      },
      "outputs": [],
      "source": [
        "from pulp import *\n",
        "import numpy as np\n",
        "import pandas as pd"
      ]
    },
    {
      "cell_type": "code",
      "execution_count": 3,
      "metadata": {
        "id": "rrnzhAlqScMZ"
      },
      "outputs": [],
      "source": [
        "Dist = np.random.randn(4096,100)"
      ]
    },
    {
      "cell_type": "code",
      "execution_count": 4,
      "metadata": {
        "colab": {
          "base_uri": "https://localhost:8080/",
          "height": 419
        },
        "id": "QVqaiIoZS8qv",
        "outputId": "2ae71343-094e-4b6c-8110-917f84910c73"
      },
      "outputs": [
        {
          "data": {
            "text/html": [
              "\n",
              "  <div id=\"df-4945d0c8-67c2-4ddd-8e3d-cf3d5c20e369\">\n",
              "    <div class=\"colab-df-container\">\n",
              "      <div>\n",
              "<style scoped>\n",
              "    .dataframe tbody tr th:only-of-type {\n",
              "        vertical-align: middle;\n",
              "    }\n",
              "\n",
              "    .dataframe tbody tr th {\n",
              "        vertical-align: top;\n",
              "    }\n",
              "\n",
              "    .dataframe thead th {\n",
              "        text-align: right;\n",
              "    }\n",
              "</style>\n",
              "<table border=\"1\" class=\"dataframe\">\n",
              "  <thead>\n",
              "    <tr style=\"text-align: right;\">\n",
              "      <th></th>\n",
              "      <th>supply_point_index</th>\n",
              "      <th>x_coordinate</th>\n",
              "      <th>y_coordinate</th>\n",
              "      <th>total_parking_slots</th>\n",
              "      <th>existing_num_SCS</th>\n",
              "      <th>existing_num_FCS</th>\n",
              "    </tr>\n",
              "  </thead>\n",
              "  <tbody>\n",
              "    <tr>\n",
              "      <th>0</th>\n",
              "      <td>0</td>\n",
              "      <td>50.163110</td>\n",
              "      <td>19.412014</td>\n",
              "      <td>23</td>\n",
              "      <td>5</td>\n",
              "      <td>3</td>\n",
              "    </tr>\n",
              "    <tr>\n",
              "      <th>1</th>\n",
              "      <td>1</td>\n",
              "      <td>37.336451</td>\n",
              "      <td>58.119225</td>\n",
              "      <td>27</td>\n",
              "      <td>4</td>\n",
              "      <td>7</td>\n",
              "    </tr>\n",
              "    <tr>\n",
              "      <th>2</th>\n",
              "      <td>2</td>\n",
              "      <td>46.709232</td>\n",
              "      <td>57.525650</td>\n",
              "      <td>31</td>\n",
              "      <td>6</td>\n",
              "      <td>14</td>\n",
              "    </tr>\n",
              "    <tr>\n",
              "      <th>3</th>\n",
              "      <td>3</td>\n",
              "      <td>30.528626</td>\n",
              "      <td>55.379835</td>\n",
              "      <td>26</td>\n",
              "      <td>5</td>\n",
              "      <td>5</td>\n",
              "    </tr>\n",
              "    <tr>\n",
              "      <th>4</th>\n",
              "      <td>4</td>\n",
              "      <td>51.521781</td>\n",
              "      <td>35.116755</td>\n",
              "      <td>32</td>\n",
              "      <td>11</td>\n",
              "      <td>6</td>\n",
              "    </tr>\n",
              "    <tr>\n",
              "      <th>...</th>\n",
              "      <td>...</td>\n",
              "      <td>...</td>\n",
              "      <td>...</td>\n",
              "      <td>...</td>\n",
              "      <td>...</td>\n",
              "      <td>...</td>\n",
              "    </tr>\n",
              "    <tr>\n",
              "      <th>95</th>\n",
              "      <td>95</td>\n",
              "      <td>45.471204</td>\n",
              "      <td>20.999414</td>\n",
              "      <td>24</td>\n",
              "      <td>3</td>\n",
              "      <td>4</td>\n",
              "    </tr>\n",
              "    <tr>\n",
              "      <th>96</th>\n",
              "      <td>96</td>\n",
              "      <td>30.318396</td>\n",
              "      <td>33.388335</td>\n",
              "      <td>32</td>\n",
              "      <td>5</td>\n",
              "      <td>10</td>\n",
              "    </tr>\n",
              "    <tr>\n",
              "      <th>97</th>\n",
              "      <td>97</td>\n",
              "      <td>36.218839</td>\n",
              "      <td>22.235766</td>\n",
              "      <td>32</td>\n",
              "      <td>4</td>\n",
              "      <td>14</td>\n",
              "    </tr>\n",
              "    <tr>\n",
              "      <th>98</th>\n",
              "      <td>98</td>\n",
              "      <td>42.936915</td>\n",
              "      <td>38.122442</td>\n",
              "      <td>28</td>\n",
              "      <td>7</td>\n",
              "      <td>5</td>\n",
              "    </tr>\n",
              "    <tr>\n",
              "      <th>99</th>\n",
              "      <td>99</td>\n",
              "      <td>19.590263</td>\n",
              "      <td>3.830284</td>\n",
              "      <td>24</td>\n",
              "      <td>2</td>\n",
              "      <td>11</td>\n",
              "    </tr>\n",
              "  </tbody>\n",
              "</table>\n",
              "<p>100 rows × 6 columns</p>\n",
              "</div>\n",
              "      <button class=\"colab-df-convert\" onclick=\"convertToInteractive('df-4945d0c8-67c2-4ddd-8e3d-cf3d5c20e369')\"\n",
              "              title=\"Convert this dataframe to an interactive table.\"\n",
              "              style=\"display:none;\">\n",
              "        \n",
              "  <svg xmlns=\"http://www.w3.org/2000/svg\" height=\"24px\"viewBox=\"0 0 24 24\"\n",
              "       width=\"24px\">\n",
              "    <path d=\"M0 0h24v24H0V0z\" fill=\"none\"/>\n",
              "    <path d=\"M18.56 5.44l.94 2.06.94-2.06 2.06-.94-2.06-.94-.94-2.06-.94 2.06-2.06.94zm-11 1L8.5 8.5l.94-2.06 2.06-.94-2.06-.94L8.5 2.5l-.94 2.06-2.06.94zm10 10l.94 2.06.94-2.06 2.06-.94-2.06-.94-.94-2.06-.94 2.06-2.06.94z\"/><path d=\"M17.41 7.96l-1.37-1.37c-.4-.4-.92-.59-1.43-.59-.52 0-1.04.2-1.43.59L10.3 9.45l-7.72 7.72c-.78.78-.78 2.05 0 2.83L4 21.41c.39.39.9.59 1.41.59.51 0 1.02-.2 1.41-.59l7.78-7.78 2.81-2.81c.8-.78.8-2.07 0-2.86zM5.41 20L4 18.59l7.72-7.72 1.47 1.35L5.41 20z\"/>\n",
              "  </svg>\n",
              "      </button>\n",
              "      \n",
              "  <style>\n",
              "    .colab-df-container {\n",
              "      display:flex;\n",
              "      flex-wrap:wrap;\n",
              "      gap: 12px;\n",
              "    }\n",
              "\n",
              "    .colab-df-convert {\n",
              "      background-color: #E8F0FE;\n",
              "      border: none;\n",
              "      border-radius: 50%;\n",
              "      cursor: pointer;\n",
              "      display: none;\n",
              "      fill: #1967D2;\n",
              "      height: 32px;\n",
              "      padding: 0 0 0 0;\n",
              "      width: 32px;\n",
              "    }\n",
              "\n",
              "    .colab-df-convert:hover {\n",
              "      background-color: #E2EBFA;\n",
              "      box-shadow: 0px 1px 2px rgba(60, 64, 67, 0.3), 0px 1px 3px 1px rgba(60, 64, 67, 0.15);\n",
              "      fill: #174EA6;\n",
              "    }\n",
              "\n",
              "    [theme=dark] .colab-df-convert {\n",
              "      background-color: #3B4455;\n",
              "      fill: #D2E3FC;\n",
              "    }\n",
              "\n",
              "    [theme=dark] .colab-df-convert:hover {\n",
              "      background-color: #434B5C;\n",
              "      box-shadow: 0px 1px 3px 1px rgba(0, 0, 0, 0.15);\n",
              "      filter: drop-shadow(0px 1px 2px rgba(0, 0, 0, 0.3));\n",
              "      fill: #FFFFFF;\n",
              "    }\n",
              "  </style>\n",
              "\n",
              "      <script>\n",
              "        const buttonEl =\n",
              "          document.querySelector('#df-4945d0c8-67c2-4ddd-8e3d-cf3d5c20e369 button.colab-df-convert');\n",
              "        buttonEl.style.display =\n",
              "          google.colab.kernel.accessAllowed ? 'block' : 'none';\n",
              "\n",
              "        async function convertToInteractive(key) {\n",
              "          const element = document.querySelector('#df-4945d0c8-67c2-4ddd-8e3d-cf3d5c20e369');\n",
              "          const dataTable =\n",
              "            await google.colab.kernel.invokeFunction('convertToInteractive',\n",
              "                                                     [key], {});\n",
              "          if (!dataTable) return;\n",
              "\n",
              "          const docLinkHtml = 'Like what you see? Visit the ' +\n",
              "            '<a target=\"_blank\" href=https://colab.research.google.com/notebooks/data_table.ipynb>data table notebook</a>'\n",
              "            + ' to learn more about interactive tables.';\n",
              "          element.innerHTML = '';\n",
              "          dataTable['output_type'] = 'display_data';\n",
              "          await google.colab.output.renderOutput(dataTable, element);\n",
              "          const docLink = document.createElement('div');\n",
              "          docLink.innerHTML = docLinkHtml;\n",
              "          element.appendChild(docLink);\n",
              "        }\n",
              "      </script>\n",
              "    </div>\n",
              "  </div>\n",
              "  "
            ],
            "text/plain": [
              "    supply_point_index  x_coordinate  y_coordinate  total_parking_slots  \\\n",
              "0                    0     50.163110     19.412014                   23   \n",
              "1                    1     37.336451     58.119225                   27   \n",
              "2                    2     46.709232     57.525650                   31   \n",
              "3                    3     30.528626     55.379835                   26   \n",
              "4                    4     51.521781     35.116755                   32   \n",
              "..                 ...           ...           ...                  ...   \n",
              "95                  95     45.471204     20.999414                   24   \n",
              "96                  96     30.318396     33.388335                   32   \n",
              "97                  97     36.218839     22.235766                   32   \n",
              "98                  98     42.936915     38.122442                   28   \n",
              "99                  99     19.590263      3.830284                   24   \n",
              "\n",
              "    existing_num_SCS  existing_num_FCS  \n",
              "0                  5                 3  \n",
              "1                  4                 7  \n",
              "2                  6                14  \n",
              "3                  5                 5  \n",
              "4                 11                 6  \n",
              "..               ...               ...  \n",
              "95                 3                 4  \n",
              "96                 5                10  \n",
              "97                 4                14  \n",
              "98                 7                 5  \n",
              "99                 2                11  \n",
              "\n",
              "[100 rows x 6 columns]"
            ]
          },
          "execution_count": 4,
          "metadata": {},
          "output_type": "execute_result"
        }
      ],
      "source": [
        "# so we have here is existing infrastructure and we need to model the different data points(supply) \n",
        "#that goes with the demand points\n",
        "supply_points_existing = pd.read_csv(\"./exisiting_EV_infrastructure_2018.csv\")\n",
        "supply_points_existing"
      ]
    },
    {
      "cell_type": "code",
      "execution_count": 5,
      "metadata": {
        "colab": {
          "base_uri": "https://localhost:8080/",
          "height": 268
        },
        "id": "LsZMtS50saQh",
        "outputId": "838f1cad-dda6-42ff-db6b-9d7d800c2741"
      },
      "outputs": [
        {
          "data": {
            "text/html": [
              "\n",
              "  <div id=\"df-7583a994-6c87-4947-8aa2-e7875a1e2144\">\n",
              "    <div class=\"colab-df-container\">\n",
              "      <div>\n",
              "<style scoped>\n",
              "    .dataframe tbody tr th:only-of-type {\n",
              "        vertical-align: middle;\n",
              "    }\n",
              "\n",
              "    .dataframe tbody tr th {\n",
              "        vertical-align: top;\n",
              "    }\n",
              "\n",
              "    .dataframe thead th {\n",
              "        text-align: right;\n",
              "    }\n",
              "</style>\n",
              "<table border=\"1\" class=\"dataframe\">\n",
              "  <thead>\n",
              "    <tr style=\"text-align: right;\">\n",
              "      <th></th>\n",
              "      <th>demand_point_index</th>\n",
              "      <th>x_coordinate</th>\n",
              "      <th>y_coordinate</th>\n",
              "      <th>2010</th>\n",
              "      <th>2011</th>\n",
              "      <th>2012</th>\n",
              "      <th>2013</th>\n",
              "      <th>2014</th>\n",
              "      <th>2015</th>\n",
              "      <th>2016</th>\n",
              "      <th>2017</th>\n",
              "      <th>2018</th>\n",
              "    </tr>\n",
              "  </thead>\n",
              "  <tbody>\n",
              "    <tr>\n",
              "      <th>0</th>\n",
              "      <td>0</td>\n",
              "      <td>0.5</td>\n",
              "      <td>0.5</td>\n",
              "      <td>0.352242</td>\n",
              "      <td>0.667932</td>\n",
              "      <td>0.958593</td>\n",
              "      <td>2.911901</td>\n",
              "      <td>4.338274</td>\n",
              "      <td>6.561995</td>\n",
              "      <td>8.454417</td>\n",
              "      <td>10.595324</td>\n",
              "      <td>13.119572</td>\n",
              "    </tr>\n",
              "    <tr>\n",
              "      <th>1</th>\n",
              "      <td>1</td>\n",
              "      <td>1.5</td>\n",
              "      <td>0.5</td>\n",
              "      <td>0.325940</td>\n",
              "      <td>0.591964</td>\n",
              "      <td>0.862652</td>\n",
              "      <td>2.589068</td>\n",
              "      <td>4.196034</td>\n",
              "      <td>5.745551</td>\n",
              "      <td>8.753195</td>\n",
              "      <td>11.126995</td>\n",
              "      <td>12.020091</td>\n",
              "    </tr>\n",
              "    <tr>\n",
              "      <th>2</th>\n",
              "      <td>2</td>\n",
              "      <td>2.5</td>\n",
              "      <td>0.5</td>\n",
              "      <td>0.373752</td>\n",
              "      <td>0.591890</td>\n",
              "      <td>0.969733</td>\n",
              "      <td>2.641432</td>\n",
              "      <td>3.541772</td>\n",
              "      <td>5.469161</td>\n",
              "      <td>8.414627</td>\n",
              "      <td>10.115336</td>\n",
              "      <td>14.018254</td>\n",
              "    </tr>\n",
              "    <tr>\n",
              "      <th>3</th>\n",
              "      <td>3</td>\n",
              "      <td>3.5</td>\n",
              "      <td>0.5</td>\n",
              "      <td>0.420686</td>\n",
              "      <td>0.584055</td>\n",
              "      <td>0.906547</td>\n",
              "      <td>2.378577</td>\n",
              "      <td>3.888121</td>\n",
              "      <td>5.846089</td>\n",
              "      <td>9.083868</td>\n",
              "      <td>12.424885</td>\n",
              "      <td>15.012302</td>\n",
              "    </tr>\n",
              "    <tr>\n",
              "      <th>4</th>\n",
              "      <td>4</td>\n",
              "      <td>4.5</td>\n",
              "      <td>0.5</td>\n",
              "      <td>0.475621</td>\n",
              "      <td>0.647940</td>\n",
              "      <td>0.981544</td>\n",
              "      <td>2.665400</td>\n",
              "      <td>4.218711</td>\n",
              "      <td>6.776609</td>\n",
              "      <td>8.851107</td>\n",
              "      <td>11.731131</td>\n",
              "      <td>16.355563</td>\n",
              "    </tr>\n",
              "  </tbody>\n",
              "</table>\n",
              "</div>\n",
              "      <button class=\"colab-df-convert\" onclick=\"convertToInteractive('df-7583a994-6c87-4947-8aa2-e7875a1e2144')\"\n",
              "              title=\"Convert this dataframe to an interactive table.\"\n",
              "              style=\"display:none;\">\n",
              "        \n",
              "  <svg xmlns=\"http://www.w3.org/2000/svg\" height=\"24px\"viewBox=\"0 0 24 24\"\n",
              "       width=\"24px\">\n",
              "    <path d=\"M0 0h24v24H0V0z\" fill=\"none\"/>\n",
              "    <path d=\"M18.56 5.44l.94 2.06.94-2.06 2.06-.94-2.06-.94-.94-2.06-.94 2.06-2.06.94zm-11 1L8.5 8.5l.94-2.06 2.06-.94-2.06-.94L8.5 2.5l-.94 2.06-2.06.94zm10 10l.94 2.06.94-2.06 2.06-.94-2.06-.94-.94-2.06-.94 2.06-2.06.94z\"/><path d=\"M17.41 7.96l-1.37-1.37c-.4-.4-.92-.59-1.43-.59-.52 0-1.04.2-1.43.59L10.3 9.45l-7.72 7.72c-.78.78-.78 2.05 0 2.83L4 21.41c.39.39.9.59 1.41.59.51 0 1.02-.2 1.41-.59l7.78-7.78 2.81-2.81c.8-.78.8-2.07 0-2.86zM5.41 20L4 18.59l7.72-7.72 1.47 1.35L5.41 20z\"/>\n",
              "  </svg>\n",
              "      </button>\n",
              "      \n",
              "  <style>\n",
              "    .colab-df-container {\n",
              "      display:flex;\n",
              "      flex-wrap:wrap;\n",
              "      gap: 12px;\n",
              "    }\n",
              "\n",
              "    .colab-df-convert {\n",
              "      background-color: #E8F0FE;\n",
              "      border: none;\n",
              "      border-radius: 50%;\n",
              "      cursor: pointer;\n",
              "      display: none;\n",
              "      fill: #1967D2;\n",
              "      height: 32px;\n",
              "      padding: 0 0 0 0;\n",
              "      width: 32px;\n",
              "    }\n",
              "\n",
              "    .colab-df-convert:hover {\n",
              "      background-color: #E2EBFA;\n",
              "      box-shadow: 0px 1px 2px rgba(60, 64, 67, 0.3), 0px 1px 3px 1px rgba(60, 64, 67, 0.15);\n",
              "      fill: #174EA6;\n",
              "    }\n",
              "\n",
              "    [theme=dark] .colab-df-convert {\n",
              "      background-color: #3B4455;\n",
              "      fill: #D2E3FC;\n",
              "    }\n",
              "\n",
              "    [theme=dark] .colab-df-convert:hover {\n",
              "      background-color: #434B5C;\n",
              "      box-shadow: 0px 1px 3px 1px rgba(0, 0, 0, 0.15);\n",
              "      filter: drop-shadow(0px 1px 2px rgba(0, 0, 0, 0.3));\n",
              "      fill: #FFFFFF;\n",
              "    }\n",
              "  </style>\n",
              "\n",
              "      <script>\n",
              "        const buttonEl =\n",
              "          document.querySelector('#df-7583a994-6c87-4947-8aa2-e7875a1e2144 button.colab-df-convert');\n",
              "        buttonEl.style.display =\n",
              "          google.colab.kernel.accessAllowed ? 'block' : 'none';\n",
              "\n",
              "        async function convertToInteractive(key) {\n",
              "          const element = document.querySelector('#df-7583a994-6c87-4947-8aa2-e7875a1e2144');\n",
              "          const dataTable =\n",
              "            await google.colab.kernel.invokeFunction('convertToInteractive',\n",
              "                                                     [key], {});\n",
              "          if (!dataTable) return;\n",
              "\n",
              "          const docLinkHtml = 'Like what you see? Visit the ' +\n",
              "            '<a target=\"_blank\" href=https://colab.research.google.com/notebooks/data_table.ipynb>data table notebook</a>'\n",
              "            + ' to learn more about interactive tables.';\n",
              "          element.innerHTML = '';\n",
              "          dataTable['output_type'] = 'display_data';\n",
              "          await google.colab.output.renderOutput(dataTable, element);\n",
              "          const docLink = document.createElement('div');\n",
              "          docLink.innerHTML = docLinkHtml;\n",
              "          element.appendChild(docLink);\n",
              "        }\n",
              "      </script>\n",
              "    </div>\n",
              "  </div>\n",
              "  "
            ],
            "text/plain": [
              "   demand_point_index  x_coordinate  y_coordinate      2010      2011  \\\n",
              "0                   0           0.5           0.5  0.352242  0.667932   \n",
              "1                   1           1.5           0.5  0.325940  0.591964   \n",
              "2                   2           2.5           0.5  0.373752  0.591890   \n",
              "3                   3           3.5           0.5  0.420686  0.584055   \n",
              "4                   4           4.5           0.5  0.475621  0.647940   \n",
              "\n",
              "       2012      2013      2014      2015      2016       2017       2018  \n",
              "0  0.958593  2.911901  4.338274  6.561995  8.454417  10.595324  13.119572  \n",
              "1  0.862652  2.589068  4.196034  5.745551  8.753195  11.126995  12.020091  \n",
              "2  0.969733  2.641432  3.541772  5.469161  8.414627  10.115336  14.018254  \n",
              "3  0.906547  2.378577  3.888121  5.846089  9.083868  12.424885  15.012302  \n",
              "4  0.981544  2.665400  4.218711  6.776609  8.851107  11.731131  16.355563  "
            ]
          },
          "execution_count": 5,
          "metadata": {},
          "output_type": "execute_result"
        }
      ],
      "source": [
        "demand=pd.read_csv(\"./Demand_History.csv\")\n",
        "demand.head()"
      ]
    },
    {
      "cell_type": "code",
      "execution_count": 6,
      "metadata": {
        "colab": {
          "base_uri": "https://localhost:8080/"
        },
        "id": "wjRRrwnhY2DI",
        "outputId": "16373692-9a9e-4263-fd55-6ae8d8afaef9"
      },
      "outputs": [
        {
          "data": {
            "text/plain": [
              "361529.6365968907"
            ]
          },
          "execution_count": 6,
          "metadata": {},
          "output_type": "execute_result"
        }
      ],
      "source": [
        "demand_2018 = demand[\"2018\"].to_numpy()\n",
        "np.sum(demand_2018) # 2018 EXISTING DEMAND"
      ]
    },
    {
      "cell_type": "code",
      "execution_count": 7,
      "metadata": {
        "id": "hDBSuU_ZIUXa"
      },
      "outputs": [],
      "source": [
        "#distance matrix between demand points and supply points\n",
        "xs=np.array(supply_points_existing[\"x_coordinate\"])\n",
        "ys=np.array(supply_points_existing[\"y_coordinate\"])\n",
        "xd=np.array(demand[\"x_coordinate\"])\n",
        "yd=np.array(demand[\"y_coordinate\"])\n",
        "dist=np.zeros((100,4096))\n",
        "\n",
        "for i in range(100):\n",
        "    for j in range(4096):\n",
        "        dist[i][j]=(((xs[i]-xd[j])**2)+((ys[i]-yd[j])**2))**0.5\n",
        "\n",
        "dist=dist.T"
      ]
    },
    {
      "cell_type": "code",
      "execution_count": 8,
      "metadata": {
        "id": "z85trJBk_w2Q"
      },
      "outputs": [],
      "source": [
        "SCS = supply_points_existing[\"existing_num_SCS\"].to_numpy()\n",
        "FCS = supply_points_existing[\"existing_num_FCS\"].to_numpy()\n",
        "parking_slots = supply_points_existing[\"total_parking_slots\"].to_numpy()"
      ]
    },
    {
      "cell_type": "code",
      "execution_count": 9,
      "metadata": {
        "colab": {
          "base_uri": "https://localhost:8080/"
        },
        "id": "nXGYmXoFZo9t",
        "outputId": "a7387840-23f2-40bb-8101-1513edfcfc54"
      },
      "outputs": [
        {
          "data": {
            "text/plain": [
              "361600"
            ]
          },
          "execution_count": 9,
          "metadata": {},
          "output_type": "execute_result"
        }
      ],
      "source": [
        "np.sum(200*SCS + 400*FCS) # EXISTING SUPPLY"
      ]
    },
    {
      "cell_type": "code",
      "execution_count": 54,
      "metadata": {
        "colab": {
          "base_uri": "https://localhost:8080/"
        },
        "id": "hDKzGNplTOsy",
        "outputId": "f3296865-6b19-4e28-ae9d-09b3a4dbd9b4"
      },
      "outputs": [
        {
          "name": "stderr",
          "output_type": "stream",
          "text": [
            "/usr/local/lib/python3.7/dist-packages/pulp/pulp.py:1352: UserWarning: Spaces are not permitted in the name. Converted to '_'\n",
            "  warnings.warn(\"Spaces are not permitted in the name. Converted to '_'\")\n"
          ]
        }
      ],
      "source": [
        "# Create the 'prob' variable to contain the problem data\n",
        "prob = LpProblem(\"The EV problem\", LpMinimize)\n",
        "\n",
        "# setting up the required LP variables in the problems\n",
        "supply_vars_SCS = LpVariable.dict(\"SCS\", (range(100)), 0,None, cat=LpInteger) # minimum value is zero(constraint - 1)\n",
        "supply_vars_FCS = LpVariable.dict(\"FCS\", (range(100)), 0,None, cat=LpInteger) # minimum value is zero ( constraint - 1)\n",
        "demand_supply_matrix = LpVariable.dict(\"Demand\", (range(4096),range(100)), 0,None, cat=LpContinuous) \n",
        "# demand is varying continuously as given in the data (constraint 1+2)"
      ]
    },
    {
      "cell_type": "code",
      "execution_count": null,
      "metadata": {
        "colab": {
          "base_uri": "https://localhost:8080/"
        },
        "id": "MGLrgBek82FB",
        "outputId": "c91dd7c4-9a2a-49e9-b44e-385fb4305749"
      },
      "outputs": [
        {
          "data": {
            "text/plain": [
              "409600"
            ]
          },
          "execution_count": 14,
          "metadata": {},
          "output_type": "execute_result"
        }
      ],
      "source": [
        "np.size(dist)"
      ]
    },
    {
      "cell_type": "code",
      "execution_count": null,
      "metadata": {
        "id": "t09mkHsUgm9r"
      },
      "outputs": [],
      "source": [
        "demand_supply_matrix[0,1].value()"
      ]
    },
    {
      "cell_type": "code",
      "execution_count": 56,
      "metadata": {
        "id": "XIzDAaR7hHHg"
      },
      "outputs": [],
      "source": [
        "# The objective function is added to 'prob' first\n",
        "prob += (\n",
        "    lpSum([\n",
        "          [\n",
        "            (dist[i][j]*(demand_supply_matrix[i,j])) \n",
        "            for i in range(4096)] for j in range(100)\n",
        "         ]\n",
        "    )+\n",
        "        lpSum([\n",
        "          \n",
        "            ((supply_vars_SCS[j] + 1.5*supply_vars_FCS[j])) \n",
        "             for j in range(100)\n",
        "         ]\n",
        "        ), \n",
        "    \"Total Cost Function\",\n",
        ")"
      ]
    },
    {
      "cell_type": "code",
      "execution_count": 58,
      "metadata": {
        "id": "BRrGfP9GYKf0"
      },
      "outputs": [],
      "source": [
        "# 3) Sum of FCS and SCS at jth point must be less than the total parking slots at the point\n",
        "for j in range(100):\n",
        "  prob += (\n",
        "    lpSum(supply_vars_SCS[j] + supply_vars_FCS[j]) <= parking_slots[j],\n",
        "    f\"Parking_max {j}\",\n",
        "  )"
      ]
    },
    {
      "cell_type": "code",
      "execution_count": 59,
      "metadata": {
        "id": "CKXEO2xTEP1A"
      },
      "outputs": [],
      "source": [
        "# Now we are defining the constraints to the problem here that are needed to be solved \n",
        "# 4) the infrastructure needs to be built on the existing infrastructure\n",
        "for j in range(100):\n",
        "  prob += (\n",
        "    supply_vars_SCS[j] >= SCS[j],\n",
        "    f\"SCS_min_{j}\",\n",
        "  ) \n",
        "for j in range(100):\n",
        "  prob += (\n",
        "    supply_vars_FCS[j] >= FCS[j],\n",
        "    f\"FCS_min_{j}\",\n",
        "  )"
      ]
    },
    {
      "cell_type": "code",
      "execution_count": 60,
      "metadata": {
        "id": "TVOqEoJGeYB5"
      },
      "outputs": [],
      "source": [
        "# 5) Demand satisfed by each jth supply point should be less than or equal to the maximum supply available\n",
        "for j in range(100):\n",
        "  prob += (\n",
        "   lpSum([demand_supply_matrix[i,j] for i in range(4096)]) - \n",
        "   lpSum(200*supply_vars_SCS[j] + 400*supply_vars_FCS[j]) <= 0,\n",
        "   f\"demand_{j}\",\n",
        "  ) "
      ]
    },
    {
      "cell_type": "code",
      "execution_count": 61,
      "metadata": {
        "id": "8eDZ1W_oXZIs"
      },
      "outputs": [],
      "source": [
        "# 6) Demand satisfed by each ith point should equal to the demand at the time\n",
        "for i in range(4096):\n",
        "  prob += (\n",
        "    lpSum([demand_supply_matrix[i,j] for j in range(100)]) == demand_2018[i],\n",
        "    f\"demand_match_{i}\",\n",
        "  ) "
      ]
    },
    {
      "cell_type": "code",
      "execution_count": 62,
      "metadata": {
        "colab": {
          "base_uri": "https://localhost:8080/"
        },
        "id": "rDBhtLNbiHIT",
        "outputId": "d53bb70c-7b72-4079-92ef-577051c8a203"
      },
      "outputs": [
        {
          "data": {
            "text/plain": [
              "1"
            ]
          },
          "execution_count": 62,
          "metadata": {},
          "output_type": "execute_result"
        }
      ],
      "source": [
        "prob.solve()"
      ]
    },
    {
      "cell_type": "code",
      "execution_count": 63,
      "metadata": {
        "id": "OR5Bx0irM5AE"
      },
      "outputs": [],
      "source": [
        "demand_supply_matrix_2018 = np.zeros((4096,100))\n",
        "for i in range(4096):\n",
        "  for j in range(100):\n",
        "    demand_supply_matrix_2018[i][j] = demand_supply_matrix[i,j].value()"
      ]
    },
    {
      "cell_type": "code",
      "execution_count": 64,
      "metadata": {
        "colab": {
          "base_uri": "https://localhost:8080/"
        },
        "id": "fj8Wdl4dNqfp",
        "outputId": "8419cd6a-7297-4b5a-cb8d-934997dc9c03"
      },
      "outputs": [
        {
          "data": {
            "text/plain": [
              "361529.63658368995"
            ]
          },
          "execution_count": 64,
          "metadata": {},
          "output_type": "execute_result"
        }
      ],
      "source": [
        "np.sum(demand_supply_matrix_2018)"
      ]
    },
    {
      "cell_type": "code",
      "execution_count": 65,
      "metadata": {
        "id": "m3nW4FwzTm-8"
      },
      "outputs": [],
      "source": [
        "SCS_2018 = np.zeros(100)\n",
        "FCS_2018 = np.zeros(100)\n",
        "for i in range(100):\n",
        "    SCS_2018[i] = supply_vars_SCS[i].value()\n",
        "for i in range(100):\n",
        "    FCS_2018[i] = supply_vars_FCS[i].value()"
      ]
    },
    {
      "cell_type": "code",
      "execution_count": 66,
      "metadata": {
        "colab": {
          "base_uri": "https://localhost:8080/"
        },
        "id": "rlfCCpI0lBqr",
        "outputId": "f0382a7d-266c-4b18-af2c-a978cdf561c3"
      },
      "outputs": [
        {
          "data": {
            "text/plain": [
              "479800.0"
            ]
          },
          "execution_count": 66,
          "metadata": {},
          "output_type": "execute_result"
        }
      ],
      "source": [
        "np.sum(200*SCS_2018 + 400*FCS_2018)"
      ]
    },
    {
      "cell_type": "code",
      "execution_count": 67,
      "metadata": {
        "id": "-sMGsV_Zl4ec"
      },
      "outputs": [],
      "source": [
        "# Value of cost function I got here\n",
        "cost_2018 = 0\n",
        "for i in range(4096):\n",
        "  for j in range(100):\n",
        "      cost_2018 += (dist[i][j]*(demand_supply_matrix_2018[i][j])) \n",
        "for j in range(100):\n",
        "  cost_2018 += 600*(SCS_2018[j] + 1.5*FCS_2018[j])\n"
      ]
    },
    {
      "cell_type": "code",
      "execution_count": 68,
      "metadata": {
        "colab": {
          "base_uri": "https://localhost:8080/"
        },
        "id": "ov_aaUPNmuiY",
        "outputId": "60288640-d91f-49b8-8783-2fa8fd1003f3"
      },
      "outputs": [
        {
          "data": {
            "text/plain": [
              "2349355.8137419047"
            ]
          },
          "execution_count": 68,
          "metadata": {},
          "output_type": "execute_result"
        }
      ],
      "source": [
        "cost_2018"
      ]
    },
    {
      "cell_type": "code",
      "execution_count": 71,
      "metadata": {
        "colab": {
          "base_uri": "https://localhost:8080/"
        },
        "id": "XuLeE8FBm2_E",
        "outputId": "3febe3c6-2a55-4dec-f952-9e64dca61147"
      },
      "outputs": [
        {
          "data": {
            "text/plain": [
              "85.90386511754858"
            ]
          },
          "execution_count": 71,
          "metadata": {},
          "output_type": "execute_result"
        }
      ],
      "source": [
        "score_2018 = max(10, 100 - ((90*cost_2018)/15000000))\n",
        "score_2018"
      ]
    }
  ],
  "metadata": {
    "colab": {
      "provenance": []
    },
    "kernelspec": {
      "display_name": "Python 3.10.0 64-bit",
      "language": "python",
      "name": "python3"
    },
    "language_info": {
      "codemirror_mode": {
        "name": "ipython",
        "version": 3
      },
      "file_extension": ".py",
      "mimetype": "text/x-python",
      "name": "python",
      "nbconvert_exporter": "python",
      "pygments_lexer": "ipython3",
      "version": "3.10.0"
    },
    "vscode": {
      "interpreter": {
        "hash": "aee8b7b246df8f9039afb4144a1f6fd8d2ca17a180786b69acc140d282b71a49"
      }
    }
  },
  "nbformat": 4,
  "nbformat_minor": 0
}
