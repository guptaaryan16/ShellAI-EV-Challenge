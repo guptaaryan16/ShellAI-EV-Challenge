{
  "cells": [
    {
      "cell_type": "markdown",
      "metadata": {
        "id": "-du9LXFWxilS"
      },
      "source": [
        "<h1 style=\"text-align:center\">Shell.AI EV Problem (LP part) </h1>"
      ]
    },
    {
      "cell_type": "code",
      "execution_count": 1,
      "metadata": {
        "colab": {
          "base_uri": "https://localhost:8080/"
        },
        "id": "QjJcnbKrxilW",
        "outputId": "81cb0694-f6ff-42c9-dba1-f37a540359ff"
      },
      "outputs": [
        {
          "output_type": "stream",
          "name": "stdout",
          "text": [
            "Looking in indexes: https://pypi.org/simple, https://us-python.pkg.dev/colab-wheels/public/simple/\n",
            "Collecting pulp\n",
            "  Downloading PuLP-2.6.0-py3-none-any.whl (14.2 MB)\n",
            "\u001b[K     |████████████████████████████████| 14.2 MB 5.3 MB/s \n",
            "\u001b[?25hInstalling collected packages: pulp\n",
            "Successfully installed pulp-2.6.0\n"
          ]
        }
      ],
      "source": [
        "!pip install pulp"
      ]
    },
    {
      "cell_type": "code",
      "execution_count": 2,
      "metadata": {
        "id": "LXLiyCo8SJIG"
      },
      "outputs": [],
      "source": [
        "from pulp import *\n",
        "import numpy as np\n",
        "import pandas as pd"
      ]
    },
    {
      "cell_type": "code",
      "execution_count": 3,
      "metadata": {
        "id": "rrnzhAlqScMZ"
      },
      "outputs": [],
      "source": [
        "Dist = np.random.randn(4096,100)"
      ]
    },
    {
      "cell_type": "code",
      "execution_count": 4,
      "metadata": {
        "colab": {
          "base_uri": "https://localhost:8080/",
          "height": 419
        },
        "id": "QVqaiIoZS8qv",
        "outputId": "78d04620-7563-453e-d377-72388af2700f"
      },
      "outputs": [
        {
          "output_type": "execute_result",
          "data": {
            "text/plain": [
              "    supply_point_index  x_coordinate  y_coordinate  total_parking_slots  \\\n",
              "0                    0     50.163110     19.412014                   23   \n",
              "1                    1     37.336451     58.119225                   27   \n",
              "2                    2     46.709232     57.525650                   31   \n",
              "3                    3     30.528626     55.379835                   26   \n",
              "4                    4     51.521781     35.116755                   32   \n",
              "..                 ...           ...           ...                  ...   \n",
              "95                  95     45.471204     20.999414                   24   \n",
              "96                  96     30.318396     33.388335                   32   \n",
              "97                  97     36.218839     22.235766                   32   \n",
              "98                  98     42.936915     38.122442                   28   \n",
              "99                  99     19.590263      3.830284                   24   \n",
              "\n",
              "    existing_num_SCS  existing_num_FCS  \n",
              "0                  5                 3  \n",
              "1                  4                 7  \n",
              "2                  6                14  \n",
              "3                  5                 5  \n",
              "4                 11                 6  \n",
              "..               ...               ...  \n",
              "95                 3                 4  \n",
              "96                 5                10  \n",
              "97                 4                14  \n",
              "98                 7                 5  \n",
              "99                 2                11  \n",
              "\n",
              "[100 rows x 6 columns]"
            ],
            "text/html": [
              "\n",
              "  <div id=\"df-e66ea2a1-3802-406f-bfa2-dcb007b2623d\">\n",
              "    <div class=\"colab-df-container\">\n",
              "      <div>\n",
              "<style scoped>\n",
              "    .dataframe tbody tr th:only-of-type {\n",
              "        vertical-align: middle;\n",
              "    }\n",
              "\n",
              "    .dataframe tbody tr th {\n",
              "        vertical-align: top;\n",
              "    }\n",
              "\n",
              "    .dataframe thead th {\n",
              "        text-align: right;\n",
              "    }\n",
              "</style>\n",
              "<table border=\"1\" class=\"dataframe\">\n",
              "  <thead>\n",
              "    <tr style=\"text-align: right;\">\n",
              "      <th></th>\n",
              "      <th>supply_point_index</th>\n",
              "      <th>x_coordinate</th>\n",
              "      <th>y_coordinate</th>\n",
              "      <th>total_parking_slots</th>\n",
              "      <th>existing_num_SCS</th>\n",
              "      <th>existing_num_FCS</th>\n",
              "    </tr>\n",
              "  </thead>\n",
              "  <tbody>\n",
              "    <tr>\n",
              "      <th>0</th>\n",
              "      <td>0</td>\n",
              "      <td>50.163110</td>\n",
              "      <td>19.412014</td>\n",
              "      <td>23</td>\n",
              "      <td>5</td>\n",
              "      <td>3</td>\n",
              "    </tr>\n",
              "    <tr>\n",
              "      <th>1</th>\n",
              "      <td>1</td>\n",
              "      <td>37.336451</td>\n",
              "      <td>58.119225</td>\n",
              "      <td>27</td>\n",
              "      <td>4</td>\n",
              "      <td>7</td>\n",
              "    </tr>\n",
              "    <tr>\n",
              "      <th>2</th>\n",
              "      <td>2</td>\n",
              "      <td>46.709232</td>\n",
              "      <td>57.525650</td>\n",
              "      <td>31</td>\n",
              "      <td>6</td>\n",
              "      <td>14</td>\n",
              "    </tr>\n",
              "    <tr>\n",
              "      <th>3</th>\n",
              "      <td>3</td>\n",
              "      <td>30.528626</td>\n",
              "      <td>55.379835</td>\n",
              "      <td>26</td>\n",
              "      <td>5</td>\n",
              "      <td>5</td>\n",
              "    </tr>\n",
              "    <tr>\n",
              "      <th>4</th>\n",
              "      <td>4</td>\n",
              "      <td>51.521781</td>\n",
              "      <td>35.116755</td>\n",
              "      <td>32</td>\n",
              "      <td>11</td>\n",
              "      <td>6</td>\n",
              "    </tr>\n",
              "    <tr>\n",
              "      <th>...</th>\n",
              "      <td>...</td>\n",
              "      <td>...</td>\n",
              "      <td>...</td>\n",
              "      <td>...</td>\n",
              "      <td>...</td>\n",
              "      <td>...</td>\n",
              "    </tr>\n",
              "    <tr>\n",
              "      <th>95</th>\n",
              "      <td>95</td>\n",
              "      <td>45.471204</td>\n",
              "      <td>20.999414</td>\n",
              "      <td>24</td>\n",
              "      <td>3</td>\n",
              "      <td>4</td>\n",
              "    </tr>\n",
              "    <tr>\n",
              "      <th>96</th>\n",
              "      <td>96</td>\n",
              "      <td>30.318396</td>\n",
              "      <td>33.388335</td>\n",
              "      <td>32</td>\n",
              "      <td>5</td>\n",
              "      <td>10</td>\n",
              "    </tr>\n",
              "    <tr>\n",
              "      <th>97</th>\n",
              "      <td>97</td>\n",
              "      <td>36.218839</td>\n",
              "      <td>22.235766</td>\n",
              "      <td>32</td>\n",
              "      <td>4</td>\n",
              "      <td>14</td>\n",
              "    </tr>\n",
              "    <tr>\n",
              "      <th>98</th>\n",
              "      <td>98</td>\n",
              "      <td>42.936915</td>\n",
              "      <td>38.122442</td>\n",
              "      <td>28</td>\n",
              "      <td>7</td>\n",
              "      <td>5</td>\n",
              "    </tr>\n",
              "    <tr>\n",
              "      <th>99</th>\n",
              "      <td>99</td>\n",
              "      <td>19.590263</td>\n",
              "      <td>3.830284</td>\n",
              "      <td>24</td>\n",
              "      <td>2</td>\n",
              "      <td>11</td>\n",
              "    </tr>\n",
              "  </tbody>\n",
              "</table>\n",
              "<p>100 rows × 6 columns</p>\n",
              "</div>\n",
              "      <button class=\"colab-df-convert\" onclick=\"convertToInteractive('df-e66ea2a1-3802-406f-bfa2-dcb007b2623d')\"\n",
              "              title=\"Convert this dataframe to an interactive table.\"\n",
              "              style=\"display:none;\">\n",
              "        \n",
              "  <svg xmlns=\"http://www.w3.org/2000/svg\" height=\"24px\"viewBox=\"0 0 24 24\"\n",
              "       width=\"24px\">\n",
              "    <path d=\"M0 0h24v24H0V0z\" fill=\"none\"/>\n",
              "    <path d=\"M18.56 5.44l.94 2.06.94-2.06 2.06-.94-2.06-.94-.94-2.06-.94 2.06-2.06.94zm-11 1L8.5 8.5l.94-2.06 2.06-.94-2.06-.94L8.5 2.5l-.94 2.06-2.06.94zm10 10l.94 2.06.94-2.06 2.06-.94-2.06-.94-.94-2.06-.94 2.06-2.06.94z\"/><path d=\"M17.41 7.96l-1.37-1.37c-.4-.4-.92-.59-1.43-.59-.52 0-1.04.2-1.43.59L10.3 9.45l-7.72 7.72c-.78.78-.78 2.05 0 2.83L4 21.41c.39.39.9.59 1.41.59.51 0 1.02-.2 1.41-.59l7.78-7.78 2.81-2.81c.8-.78.8-2.07 0-2.86zM5.41 20L4 18.59l7.72-7.72 1.47 1.35L5.41 20z\"/>\n",
              "  </svg>\n",
              "      </button>\n",
              "      \n",
              "  <style>\n",
              "    .colab-df-container {\n",
              "      display:flex;\n",
              "      flex-wrap:wrap;\n",
              "      gap: 12px;\n",
              "    }\n",
              "\n",
              "    .colab-df-convert {\n",
              "      background-color: #E8F0FE;\n",
              "      border: none;\n",
              "      border-radius: 50%;\n",
              "      cursor: pointer;\n",
              "      display: none;\n",
              "      fill: #1967D2;\n",
              "      height: 32px;\n",
              "      padding: 0 0 0 0;\n",
              "      width: 32px;\n",
              "    }\n",
              "\n",
              "    .colab-df-convert:hover {\n",
              "      background-color: #E2EBFA;\n",
              "      box-shadow: 0px 1px 2px rgba(60, 64, 67, 0.3), 0px 1px 3px 1px rgba(60, 64, 67, 0.15);\n",
              "      fill: #174EA6;\n",
              "    }\n",
              "\n",
              "    [theme=dark] .colab-df-convert {\n",
              "      background-color: #3B4455;\n",
              "      fill: #D2E3FC;\n",
              "    }\n",
              "\n",
              "    [theme=dark] .colab-df-convert:hover {\n",
              "      background-color: #434B5C;\n",
              "      box-shadow: 0px 1px 3px 1px rgba(0, 0, 0, 0.15);\n",
              "      filter: drop-shadow(0px 1px 2px rgba(0, 0, 0, 0.3));\n",
              "      fill: #FFFFFF;\n",
              "    }\n",
              "  </style>\n",
              "\n",
              "      <script>\n",
              "        const buttonEl =\n",
              "          document.querySelector('#df-e66ea2a1-3802-406f-bfa2-dcb007b2623d button.colab-df-convert');\n",
              "        buttonEl.style.display =\n",
              "          google.colab.kernel.accessAllowed ? 'block' : 'none';\n",
              "\n",
              "        async function convertToInteractive(key) {\n",
              "          const element = document.querySelector('#df-e66ea2a1-3802-406f-bfa2-dcb007b2623d');\n",
              "          const dataTable =\n",
              "            await google.colab.kernel.invokeFunction('convertToInteractive',\n",
              "                                                     [key], {});\n",
              "          if (!dataTable) return;\n",
              "\n",
              "          const docLinkHtml = 'Like what you see? Visit the ' +\n",
              "            '<a target=\"_blank\" href=https://colab.research.google.com/notebooks/data_table.ipynb>data table notebook</a>'\n",
              "            + ' to learn more about interactive tables.';\n",
              "          element.innerHTML = '';\n",
              "          dataTable['output_type'] = 'display_data';\n",
              "          await google.colab.output.renderOutput(dataTable, element);\n",
              "          const docLink = document.createElement('div');\n",
              "          docLink.innerHTML = docLinkHtml;\n",
              "          element.appendChild(docLink);\n",
              "        }\n",
              "      </script>\n",
              "    </div>\n",
              "  </div>\n",
              "  "
            ]
          },
          "metadata": {},
          "execution_count": 4
        }
      ],
      "source": [
        "# so we have here is existing infrastructure and we need to model the different data points(supply) \n",
        "#that goes with the demand points\n",
        "supply_points_existing = pd.read_csv(\"./exisiting_EV_infrastructure_2018.csv\")\n",
        "supply_points_existing"
      ]
    },
    {
      "cell_type": "code",
      "execution_count": 5,
      "metadata": {
        "colab": {
          "base_uri": "https://localhost:8080/",
          "height": 268
        },
        "id": "LsZMtS50saQh",
        "outputId": "c64b6fc5-41f4-4338-8fa6-fd3a2025fe9b"
      },
      "outputs": [
        {
          "output_type": "execute_result",
          "data": {
            "text/plain": [
              "   demand_point_index  x_coordinate  y_coordinate      2010      2011  \\\n",
              "0                   0           0.5           0.5  0.352242  0.667932   \n",
              "1                   1           1.5           0.5  0.325940  0.591964   \n",
              "2                   2           2.5           0.5  0.373752  0.591890   \n",
              "3                   3           3.5           0.5  0.420686  0.584055   \n",
              "4                   4           4.5           0.5  0.475621  0.647940   \n",
              "\n",
              "       2012      2013      2014      2015      2016       2017       2018  \\\n",
              "0  0.958593  2.911901  4.338274  6.561995  8.454417  10.595324  13.119572   \n",
              "1  0.862652  2.589068  4.196034  5.745551  8.753195  11.126995  12.020091   \n",
              "2  0.969733  2.641432  3.541772  5.469161  8.414627  10.115336  14.018254   \n",
              "3  0.906547  2.378577  3.888121  5.846089  9.083868  12.424885  15.012302   \n",
              "4  0.981544  2.665400  4.218711  6.776609  8.851107  11.731131  16.355563   \n",
              "\n",
              "        2019       2020  \n",
              "0  54.176315  56.992560  \n",
              "1  55.273690  57.075462  \n",
              "2  55.291610  57.088287  \n",
              "3  55.404137  57.206757  \n",
              "4  56.079346  58.839165  "
            ],
            "text/html": [
              "\n",
              "  <div id=\"df-64010beb-0a87-4599-93c3-d5a9c985bbf1\">\n",
              "    <div class=\"colab-df-container\">\n",
              "      <div>\n",
              "<style scoped>\n",
              "    .dataframe tbody tr th:only-of-type {\n",
              "        vertical-align: middle;\n",
              "    }\n",
              "\n",
              "    .dataframe tbody tr th {\n",
              "        vertical-align: top;\n",
              "    }\n",
              "\n",
              "    .dataframe thead th {\n",
              "        text-align: right;\n",
              "    }\n",
              "</style>\n",
              "<table border=\"1\" class=\"dataframe\">\n",
              "  <thead>\n",
              "    <tr style=\"text-align: right;\">\n",
              "      <th></th>\n",
              "      <th>demand_point_index</th>\n",
              "      <th>x_coordinate</th>\n",
              "      <th>y_coordinate</th>\n",
              "      <th>2010</th>\n",
              "      <th>2011</th>\n",
              "      <th>2012</th>\n",
              "      <th>2013</th>\n",
              "      <th>2014</th>\n",
              "      <th>2015</th>\n",
              "      <th>2016</th>\n",
              "      <th>2017</th>\n",
              "      <th>2018</th>\n",
              "      <th>2019</th>\n",
              "      <th>2020</th>\n",
              "    </tr>\n",
              "  </thead>\n",
              "  <tbody>\n",
              "    <tr>\n",
              "      <th>0</th>\n",
              "      <td>0</td>\n",
              "      <td>0.5</td>\n",
              "      <td>0.5</td>\n",
              "      <td>0.352242</td>\n",
              "      <td>0.667932</td>\n",
              "      <td>0.958593</td>\n",
              "      <td>2.911901</td>\n",
              "      <td>4.338274</td>\n",
              "      <td>6.561995</td>\n",
              "      <td>8.454417</td>\n",
              "      <td>10.595324</td>\n",
              "      <td>13.119572</td>\n",
              "      <td>54.176315</td>\n",
              "      <td>56.992560</td>\n",
              "    </tr>\n",
              "    <tr>\n",
              "      <th>1</th>\n",
              "      <td>1</td>\n",
              "      <td>1.5</td>\n",
              "      <td>0.5</td>\n",
              "      <td>0.325940</td>\n",
              "      <td>0.591964</td>\n",
              "      <td>0.862652</td>\n",
              "      <td>2.589068</td>\n",
              "      <td>4.196034</td>\n",
              "      <td>5.745551</td>\n",
              "      <td>8.753195</td>\n",
              "      <td>11.126995</td>\n",
              "      <td>12.020091</td>\n",
              "      <td>55.273690</td>\n",
              "      <td>57.075462</td>\n",
              "    </tr>\n",
              "    <tr>\n",
              "      <th>2</th>\n",
              "      <td>2</td>\n",
              "      <td>2.5</td>\n",
              "      <td>0.5</td>\n",
              "      <td>0.373752</td>\n",
              "      <td>0.591890</td>\n",
              "      <td>0.969733</td>\n",
              "      <td>2.641432</td>\n",
              "      <td>3.541772</td>\n",
              "      <td>5.469161</td>\n",
              "      <td>8.414627</td>\n",
              "      <td>10.115336</td>\n",
              "      <td>14.018254</td>\n",
              "      <td>55.291610</td>\n",
              "      <td>57.088287</td>\n",
              "    </tr>\n",
              "    <tr>\n",
              "      <th>3</th>\n",
              "      <td>3</td>\n",
              "      <td>3.5</td>\n",
              "      <td>0.5</td>\n",
              "      <td>0.420686</td>\n",
              "      <td>0.584055</td>\n",
              "      <td>0.906547</td>\n",
              "      <td>2.378577</td>\n",
              "      <td>3.888121</td>\n",
              "      <td>5.846089</td>\n",
              "      <td>9.083868</td>\n",
              "      <td>12.424885</td>\n",
              "      <td>15.012302</td>\n",
              "      <td>55.404137</td>\n",
              "      <td>57.206757</td>\n",
              "    </tr>\n",
              "    <tr>\n",
              "      <th>4</th>\n",
              "      <td>4</td>\n",
              "      <td>4.5</td>\n",
              "      <td>0.5</td>\n",
              "      <td>0.475621</td>\n",
              "      <td>0.647940</td>\n",
              "      <td>0.981544</td>\n",
              "      <td>2.665400</td>\n",
              "      <td>4.218711</td>\n",
              "      <td>6.776609</td>\n",
              "      <td>8.851107</td>\n",
              "      <td>11.731131</td>\n",
              "      <td>16.355563</td>\n",
              "      <td>56.079346</td>\n",
              "      <td>58.839165</td>\n",
              "    </tr>\n",
              "  </tbody>\n",
              "</table>\n",
              "</div>\n",
              "      <button class=\"colab-df-convert\" onclick=\"convertToInteractive('df-64010beb-0a87-4599-93c3-d5a9c985bbf1')\"\n",
              "              title=\"Convert this dataframe to an interactive table.\"\n",
              "              style=\"display:none;\">\n",
              "        \n",
              "  <svg xmlns=\"http://www.w3.org/2000/svg\" height=\"24px\"viewBox=\"0 0 24 24\"\n",
              "       width=\"24px\">\n",
              "    <path d=\"M0 0h24v24H0V0z\" fill=\"none\"/>\n",
              "    <path d=\"M18.56 5.44l.94 2.06.94-2.06 2.06-.94-2.06-.94-.94-2.06-.94 2.06-2.06.94zm-11 1L8.5 8.5l.94-2.06 2.06-.94-2.06-.94L8.5 2.5l-.94 2.06-2.06.94zm10 10l.94 2.06.94-2.06 2.06-.94-2.06-.94-.94-2.06-.94 2.06-2.06.94z\"/><path d=\"M17.41 7.96l-1.37-1.37c-.4-.4-.92-.59-1.43-.59-.52 0-1.04.2-1.43.59L10.3 9.45l-7.72 7.72c-.78.78-.78 2.05 0 2.83L4 21.41c.39.39.9.59 1.41.59.51 0 1.02-.2 1.41-.59l7.78-7.78 2.81-2.81c.8-.78.8-2.07 0-2.86zM5.41 20L4 18.59l7.72-7.72 1.47 1.35L5.41 20z\"/>\n",
              "  </svg>\n",
              "      </button>\n",
              "      \n",
              "  <style>\n",
              "    .colab-df-container {\n",
              "      display:flex;\n",
              "      flex-wrap:wrap;\n",
              "      gap: 12px;\n",
              "    }\n",
              "\n",
              "    .colab-df-convert {\n",
              "      background-color: #E8F0FE;\n",
              "      border: none;\n",
              "      border-radius: 50%;\n",
              "      cursor: pointer;\n",
              "      display: none;\n",
              "      fill: #1967D2;\n",
              "      height: 32px;\n",
              "      padding: 0 0 0 0;\n",
              "      width: 32px;\n",
              "    }\n",
              "\n",
              "    .colab-df-convert:hover {\n",
              "      background-color: #E2EBFA;\n",
              "      box-shadow: 0px 1px 2px rgba(60, 64, 67, 0.3), 0px 1px 3px 1px rgba(60, 64, 67, 0.15);\n",
              "      fill: #174EA6;\n",
              "    }\n",
              "\n",
              "    [theme=dark] .colab-df-convert {\n",
              "      background-color: #3B4455;\n",
              "      fill: #D2E3FC;\n",
              "    }\n",
              "\n",
              "    [theme=dark] .colab-df-convert:hover {\n",
              "      background-color: #434B5C;\n",
              "      box-shadow: 0px 1px 3px 1px rgba(0, 0, 0, 0.15);\n",
              "      filter: drop-shadow(0px 1px 2px rgba(0, 0, 0, 0.3));\n",
              "      fill: #FFFFFF;\n",
              "    }\n",
              "  </style>\n",
              "\n",
              "      <script>\n",
              "        const buttonEl =\n",
              "          document.querySelector('#df-64010beb-0a87-4599-93c3-d5a9c985bbf1 button.colab-df-convert');\n",
              "        buttonEl.style.display =\n",
              "          google.colab.kernel.accessAllowed ? 'block' : 'none';\n",
              "\n",
              "        async function convertToInteractive(key) {\n",
              "          const element = document.querySelector('#df-64010beb-0a87-4599-93c3-d5a9c985bbf1');\n",
              "          const dataTable =\n",
              "            await google.colab.kernel.invokeFunction('convertToInteractive',\n",
              "                                                     [key], {});\n",
              "          if (!dataTable) return;\n",
              "\n",
              "          const docLinkHtml = 'Like what you see? Visit the ' +\n",
              "            '<a target=\"_blank\" href=https://colab.research.google.com/notebooks/data_table.ipynb>data table notebook</a>'\n",
              "            + ' to learn more about interactive tables.';\n",
              "          element.innerHTML = '';\n",
              "          dataTable['output_type'] = 'display_data';\n",
              "          await google.colab.output.renderOutput(dataTable, element);\n",
              "          const docLink = document.createElement('div');\n",
              "          docLink.innerHTML = docLinkHtml;\n",
              "          element.appendChild(docLink);\n",
              "        }\n",
              "      </script>\n",
              "    </div>\n",
              "  </div>\n",
              "  "
            ]
          },
          "metadata": {},
          "execution_count": 5
        }
      ],
      "source": [
        "demand=pd.read_csv(\"./Demand_History_predicted.csv\")\n",
        "demand.head()"
      ]
    },
    {
      "cell_type": "code",
      "execution_count": 6,
      "metadata": {
        "colab": {
          "base_uri": "https://localhost:8080/"
        },
        "id": "wjRRrwnhY2DI",
        "outputId": "6a87267b-81db-475d-cfaa-a1af33ad1068"
      },
      "outputs": [
        {
          "output_type": "execute_result",
          "data": {
            "text/plain": [
              "361529.6365968907"
            ]
          },
          "metadata": {},
          "execution_count": 6
        }
      ],
      "source": [
        "demand_2018 = demand[\"2018\"].to_numpy()\n",
        "np.sum(demand_2018) # 2018 EXISTING DEMAND"
      ]
    },
    {
      "cell_type": "code",
      "source": [
        "demand_2019 = demand[\"2019\"]"
      ],
      "metadata": {
        "id": "xDH0Jxn7ze35"
      },
      "execution_count": 7,
      "outputs": []
    },
    {
      "cell_type": "code",
      "execution_count": 8,
      "metadata": {
        "id": "hDBSuU_ZIUXa"
      },
      "outputs": [],
      "source": [
        "#distance matrix between demand points and supply points\n",
        "xs=np.array(supply_points_existing[\"x_coordinate\"])\n",
        "ys=np.array(supply_points_existing[\"y_coordinate\"])\n",
        "xd=np.array(demand[\"x_coordinate\"])\n",
        "yd=np.array(demand[\"y_coordinate\"])\n",
        "dist=np.zeros((100,4096))\n",
        "\n",
        "for i in range(100):\n",
        "    for j in range(4096):\n",
        "        dist[i][j]=(((xs[i]-xd[j])**2)+((ys[i]-yd[j])**2))**0.5\n",
        "\n",
        "dist=dist.T"
      ]
    },
    {
      "cell_type": "code",
      "execution_count": 9,
      "metadata": {
        "id": "z85trJBk_w2Q"
      },
      "outputs": [],
      "source": [
        "SCS = supply_points_existing[\"existing_num_SCS\"].to_numpy()\n",
        "FCS = supply_points_existing[\"existing_num_FCS\"].to_numpy()\n",
        "parking_slots = supply_points_existing[\"total_parking_slots\"].to_numpy()"
      ]
    },
    {
      "cell_type": "code",
      "execution_count": 10,
      "metadata": {
        "colab": {
          "base_uri": "https://localhost:8080/"
        },
        "id": "nXGYmXoFZo9t",
        "outputId": "25cb790d-f161-44b4-fc9f-86be11c3a2ea"
      },
      "outputs": [
        {
          "output_type": "execute_result",
          "data": {
            "text/plain": [
              "361600"
            ]
          },
          "metadata": {},
          "execution_count": 10
        }
      ],
      "source": [
        "np.sum(200*SCS + 400*FCS) # EXISTING SUPPLY"
      ]
    },
    {
      "cell_type": "markdown",
      "source": [
        "2019"
      ],
      "metadata": {
        "id": "ZYm7GnjPzpeR"
      }
    },
    {
      "cell_type": "code",
      "execution_count": 11,
      "metadata": {
        "colab": {
          "base_uri": "https://localhost:8080/"
        },
        "id": "hDKzGNplTOsy",
        "outputId": "4ebaf4a3-9200-41ee-bb5e-5f5fea4465d9"
      },
      "outputs": [
        {
          "output_type": "stream",
          "name": "stderr",
          "text": [
            "/usr/local/lib/python3.7/dist-packages/pulp/pulp.py:1352: UserWarning: Spaces are not permitted in the name. Converted to '_'\n",
            "  warnings.warn(\"Spaces are not permitted in the name. Converted to '_'\")\n"
          ]
        }
      ],
      "source": [
        "# Create the 'prob' variable to contain the problem data\n",
        "prob = LpProblem(\"The EV problem\", LpMinimize)\n",
        "\n",
        "# setting up the required LP variables in the problems\n",
        "supply_vars_SCS = LpVariable.dict(\"SCS\", (range(100)), 0,None, cat=LpInteger) # minimum value is zero(constraint - 1)\n",
        "supply_vars_FCS = LpVariable.dict(\"FCS\", (range(100)), 0,None, cat=LpInteger) # minimum value is zero ( constraint - 1)\n",
        "demand_supply_matrix = LpVariable.dict(\"Demand\", (range(4096),range(100)), 0,None, cat=LpContinuous) \n",
        "# demand is varying continuously as given in the data (constraint 1+2)"
      ]
    },
    {
      "cell_type": "code",
      "execution_count": 12,
      "metadata": {
        "colab": {
          "base_uri": "https://localhost:8080/"
        },
        "id": "MGLrgBek82FB",
        "outputId": "80fa1993-d524-4ac4-b2f1-d91b9847aecf"
      },
      "outputs": [
        {
          "output_type": "execute_result",
          "data": {
            "text/plain": [
              "409600"
            ]
          },
          "metadata": {},
          "execution_count": 12
        }
      ],
      "source": [
        "np.size(dist)"
      ]
    },
    {
      "cell_type": "code",
      "execution_count": 13,
      "metadata": {
        "id": "t09mkHsUgm9r"
      },
      "outputs": [],
      "source": [
        "demand_supply_matrix[0,1].value()"
      ]
    },
    {
      "cell_type": "code",
      "execution_count": 14,
      "metadata": {
        "id": "XIzDAaR7hHHg"
      },
      "outputs": [],
      "source": [
        "# The objective function is added to 'prob' first\n",
        "prob += (\n",
        "    lpSum([\n",
        "          [\n",
        "            (dist[i][j]*(demand_supply_matrix[i,j])) \n",
        "            for i in range(4096)] for j in range(100)\n",
        "         ]\n",
        "    )+\n",
        "        lpSum([\n",
        "          \n",
        "            ((supply_vars_SCS[j] + 1.5*supply_vars_FCS[j])) \n",
        "             for j in range(100)\n",
        "         ]\n",
        "        ), \n",
        "    \"Total Cost Function\",\n",
        ")"
      ]
    },
    {
      "cell_type": "code",
      "execution_count": 15,
      "metadata": {
        "id": "BRrGfP9GYKf0"
      },
      "outputs": [],
      "source": [
        "# 3) Sum of FCS and SCS at jth point must be less than the total parking slots at the point\n",
        "for j in range(100):\n",
        "  prob += (\n",
        "    lpSum(supply_vars_SCS[j] + supply_vars_FCS[j]) <= parking_slots[j],\n",
        "    f\"Parking_max {j}\",\n",
        "  )"
      ]
    },
    {
      "cell_type": "code",
      "execution_count": 16,
      "metadata": {
        "id": "CKXEO2xTEP1A"
      },
      "outputs": [],
      "source": [
        "# Now we are defining the constraints to the problem here that are needed to be solved \n",
        "# 4) the infrastructure needs to be built on the existing infrastructure\n",
        "for j in range(100):\n",
        "  prob += (\n",
        "    supply_vars_SCS[j] >= SCS[j],\n",
        "    f\"SCS_min_{j}\",\n",
        "  ) \n",
        "for j in range(100):\n",
        "  prob += (\n",
        "    supply_vars_FCS[j] >= FCS[j],\n",
        "    f\"FCS_min_{j}\",\n",
        "  )"
      ]
    },
    {
      "cell_type": "code",
      "execution_count": 17,
      "metadata": {
        "id": "TVOqEoJGeYB5"
      },
      "outputs": [],
      "source": [
        "# 5) Demand satisfed by each jth supply point should be less than or equal to the maximum supply available\n",
        "for j in range(100):\n",
        "  prob += (\n",
        "   lpSum(200*supply_vars_SCS[j] + 400*supply_vars_FCS[j]) - lpSum([demand_supply_matrix[i,j] for i in range(4096)])>= 0,\n",
        "   f\"demand_{j}\",\n",
        "  ) "
      ]
    },
    {
      "cell_type": "code",
      "execution_count": 18,
      "metadata": {
        "id": "8eDZ1W_oXZIs"
      },
      "outputs": [],
      "source": [
        "# 6) Demand satisfed by each ith point should equal to the demand at the time\n",
        "for i in range(4096):\n",
        "  prob += (\n",
        "    lpSum([demand_supply_matrix[i,j] for j in range(100)]) == demand_2019[i],\n",
        "    f\"demand_match_{i}\",\n",
        "  ) "
      ]
    },
    {
      "cell_type": "code",
      "execution_count": 19,
      "metadata": {
        "colab": {
          "base_uri": "https://localhost:8080/"
        },
        "id": "rDBhtLNbiHIT",
        "outputId": "b7e322eb-ff21-41b6-b247-922bf98ecba3"
      },
      "outputs": [
        {
          "output_type": "execute_result",
          "data": {
            "text/plain": [
              "1"
            ]
          },
          "metadata": {},
          "execution_count": 19
        }
      ],
      "source": [
        "prob.solve()"
      ]
    },
    {
      "cell_type": "code",
      "source": [
        "prob.writeLP(\"./lpsol.txt\")"
      ],
      "metadata": {
        "id": "Ax562-6xlWAJ"
      },
      "execution_count": null,
      "outputs": []
    },
    {
      "cell_type": "code",
      "execution_count": 21,
      "metadata": {
        "id": "OR5Bx0irM5AE"
      },
      "outputs": [],
      "source": [
        "demand_supply_matrix_2019 = np.zeros((4096,100))\n",
        "for i in range(4096):\n",
        "  for j in range(100):\n",
        "    demand_supply_matrix_2019[i][j] = demand_supply_matrix[i,j].value()"
      ]
    },
    {
      "cell_type": "code",
      "execution_count": 22,
      "metadata": {
        "colab": {
          "base_uri": "https://localhost:8080/"
        },
        "id": "fj8Wdl4dNqfp",
        "outputId": "a0d00257-8b78-49a1-b04b-22f44abe7fc3"
      },
      "outputs": [
        {
          "output_type": "execute_result",
          "data": {
            "text/plain": [
              "272774.787576"
            ]
          },
          "metadata": {},
          "execution_count": 22
        }
      ],
      "source": [
        "np.sum(demand_supply_matrix_2019)"
      ]
    },
    {
      "cell_type": "code",
      "execution_count": 23,
      "metadata": {
        "id": "m3nW4FwzTm-8"
      },
      "outputs": [],
      "source": [
        "SCS_2019 = np.zeros(100)\n",
        "FCS_2019 = np.zeros(100)\n",
        "for i in range(100):\n",
        "    SCS_2019[i] = supply_vars_SCS[i].value()\n",
        "for i in range(100):\n",
        "    FCS_2019[i] = supply_vars_FCS[i].value()"
      ]
    },
    {
      "cell_type": "code",
      "execution_count": 24,
      "metadata": {
        "colab": {
          "base_uri": "https://localhost:8080/"
        },
        "id": "rlfCCpI0lBqr",
        "outputId": "c8c97a43-e9c1-47b5-c1b1-9ff4722cb902"
      },
      "outputs": [
        {
          "output_type": "execute_result",
          "data": {
            "text/plain": [
              "448400.0"
            ]
          },
          "metadata": {},
          "execution_count": 24
        }
      ],
      "source": [
        "np.sum(200*SCS_2019 + 400*FCS_2019)"
      ]
    },
    {
      "cell_type": "code",
      "execution_count": 25,
      "metadata": {
        "id": "-sMGsV_Zl4ec"
      },
      "outputs": [],
      "source": [
        "# Value of cost function I got here\n",
        "cost_2019 = 0\n",
        "for i in range(4096):\n",
        "  for j in range(100):\n",
        "      cost_2019 += (dist[i][j]*(demand_supply_matrix_2019[i][j])) \n",
        "for j in range(100):\n",
        "  cost_2019 += 600*(SCS_2019[j] + 1.5*FCS_2019[j])\n"
      ]
    },
    {
      "cell_type": "code",
      "execution_count": 26,
      "metadata": {
        "colab": {
          "base_uri": "https://localhost:8080/"
        },
        "id": "ov_aaUPNmuiY",
        "outputId": "649f662a-f6c3-4558-c99b-feca74e708af"
      },
      "outputs": [
        {
          "output_type": "execute_result",
          "data": {
            "text/plain": [
              "2251350.4939743932"
            ]
          },
          "metadata": {},
          "execution_count": 26
        }
      ],
      "source": [
        "cost_2019"
      ]
    },
    {
      "cell_type": "code",
      "execution_count": 27,
      "metadata": {
        "colab": {
          "base_uri": "https://localhost:8080/"
        },
        "id": "XuLeE8FBm2_E",
        "outputId": "29ce27d5-a239-4bb5-e27a-1f1b301a0d7b"
      },
      "outputs": [
        {
          "output_type": "execute_result",
          "data": {
            "text/plain": [
              "86.49189703615365"
            ]
          },
          "metadata": {},
          "execution_count": 27
        }
      ],
      "source": [
        "score_2018 = max(10, 100 - ((90*cost_2019)/15000000))\n",
        "score_2018"
      ]
    },
    {
      "cell_type": "markdown",
      "source": [
        "Constraint-5 correction"
      ],
      "metadata": {
        "id": "NdxoWAGSpAm-"
      }
    },
    {
      "cell_type": "code",
      "source": [
        "# 5) Demand satisfed by each jth supply point should be less than or equal to the maximum supply available\n",
        "constraint_5 = True\n",
        "constraint_5_array = []\n",
        "for j in range(100):\n",
        "  if np.sum(demand_supply_matrix_2019[i][j] for i in range(4096)) > (200*SCS_2019[j]+400*FCS_2019[j]):\n",
        "    constraint_5 = False\n",
        "    print(j)\n",
        "    constraint_5_array.append(j)"
      ],
      "metadata": {
        "colab": {
          "base_uri": "https://localhost:8080/"
        },
        "id": "5Bgp8L4SfhSG",
        "outputId": "8015c86c-eba9-4336-fa31-4364e43af9cc"
      },
      "execution_count": 28,
      "outputs": [
        {
          "output_type": "stream",
          "name": "stdout",
          "text": [
            "0\n",
            "10\n",
            "15\n",
            "34\n",
            "35\n",
            "37\n",
            "64\n",
            "66\n",
            "72\n",
            "76\n",
            "81\n",
            "90\n",
            "92\n"
          ]
        },
        {
          "output_type": "stream",
          "name": "stderr",
          "text": [
            "/usr/local/lib/python3.7/dist-packages/ipykernel_launcher.py:5: DeprecationWarning: Calling np.sum(generator) is deprecated, and in the future will give a different result. Use np.sum(np.fromiter(generator)) or the python sum builtin instead.\n",
            "  \"\"\"\n"
          ]
        }
      ]
    },
    {
      "cell_type": "code",
      "source": [
        "len(demand_supply_matrix_2019[4095])"
      ],
      "metadata": {
        "colab": {
          "base_uri": "https://localhost:8080/"
        },
        "id": "EWGmOsnTj9Ni",
        "outputId": "6610559d-f0cc-4931-d358-32783346aae1"
      },
      "execution_count": 29,
      "outputs": [
        {
          "output_type": "execute_result",
          "data": {
            "text/plain": [
              "100"
            ]
          },
          "metadata": {},
          "execution_count": 29
        }
      ]
    },
    {
      "cell_type": "code",
      "source": [
        "j = 64\n",
        "np.sum(demand_supply_matrix_2019[i][j] for i in range(4096))"
      ],
      "metadata": {
        "colab": {
          "base_uri": "https://localhost:8080/"
        },
        "id": "pNKWJ_tmkvv7",
        "outputId": "2959341a-d0f9-4ce2-c86a-79686fcc87bb"
      },
      "execution_count": 51,
      "outputs": [
        {
          "output_type": "stream",
          "name": "stderr",
          "text": [
            "/usr/local/lib/python3.7/dist-packages/ipykernel_launcher.py:2: DeprecationWarning: Calling np.sum(generator) is deprecated, and in the future will give a different result. Use np.sum(np.fromiter(generator)) or the python sum builtin instead.\n",
            "  \n"
          ]
        },
        {
          "output_type": "execute_result",
          "data": {
            "text/plain": [
              "7399.999999999999"
            ]
          },
          "metadata": {},
          "execution_count": 51
        }
      ]
    },
    {
      "cell_type": "code",
      "source": [
        "(200*SCS_2019[j]+400*FCS_2019[j])"
      ],
      "metadata": {
        "colab": {
          "base_uri": "https://localhost:8080/"
        },
        "id": "0qc7qa97oKKL",
        "outputId": "6eba5796-188c-4d03-eaba-05f537c426ec"
      },
      "execution_count": 52,
      "outputs": [
        {
          "output_type": "execute_result",
          "data": {
            "text/plain": [
              "7400.0"
            ]
          },
          "metadata": {},
          "execution_count": 52
        }
      ]
    },
    {
      "cell_type": "code",
      "source": [
        "for j in constraint_5_array:\n",
        "  for i in range(4096):\n",
        "    if (demand_supply_matrix_2019[i][j] > 0):\n",
        "      demand_supply_matrix_2019[i][j] -= np.sum(demand_supply_matrix_2019[i][j] for i in range(4096)) - (200*SCS_2019[j]+400*FCS_2019[j])\n",
        "      break"
      ],
      "metadata": {
        "id": "mc1uXDKXptIN",
        "colab": {
          "base_uri": "https://localhost:8080/"
        },
        "outputId": "80f006e4-a504-4041-93c0-d5f093163a4b"
      },
      "execution_count": 50,
      "outputs": [
        {
          "output_type": "stream",
          "name": "stderr",
          "text": [
            "/usr/local/lib/python3.7/dist-packages/ipykernel_launcher.py:4: DeprecationWarning: Calling np.sum(generator) is deprecated, and in the future will give a different result. Use np.sum(np.fromiter(generator)) or the python sum builtin instead.\n",
            "  after removing the cwd from sys.path.\n"
          ]
        }
      ]
    },
    {
      "cell_type": "code",
      "source": [
        "constraint_5"
      ],
      "metadata": {
        "colab": {
          "base_uri": "https://localhost:8080/"
        },
        "id": "auLgdA1-kqmG",
        "outputId": "c1859463-13a3-4f1a-d387-2e48e20241ae"
      },
      "execution_count": 33,
      "outputs": [
        {
          "output_type": "execute_result",
          "data": {
            "text/plain": [
              "False"
            ]
          },
          "metadata": {},
          "execution_count": 33
        }
      ]
    },
    {
      "cell_type": "code",
      "source": [
        "# 5) Demand satisfed by each jth supply point should be less than or equal to the maximum supply available\n",
        "constraint_5 = True\n",
        "constraint_5_array = []\n",
        "for j in range(100):\n",
        "  if np.sum(demand_supply_matrix_2019[i][j] for i in range(4096)) > (200*SCS_2019[j]+400*FCS_2019[j]):\n",
        "    constraint_5 = False\n",
        "    print(j)\n",
        "    constraint_5_array.append(j)"
      ],
      "metadata": {
        "colab": {
          "base_uri": "https://localhost:8080/"
        },
        "id": "eY2CdJEPOwX5",
        "outputId": "16279397-7adc-4468-f757-b7c98e2d4b21"
      },
      "execution_count": 47,
      "outputs": [
        {
          "output_type": "stream",
          "name": "stderr",
          "text": [
            "/usr/local/lib/python3.7/dist-packages/ipykernel_launcher.py:5: DeprecationWarning: Calling np.sum(generator) is deprecated, and in the future will give a different result. Use np.sum(np.fromiter(generator)) or the python sum builtin instead.\n",
            "  \"\"\"\n"
          ]
        },
        {
          "output_type": "stream",
          "name": "stdout",
          "text": [
            "64\n"
          ]
        }
      ]
    },
    {
      "cell_type": "markdown",
      "source": [
        "Checking constraints"
      ],
      "metadata": {
        "id": "P7N_nAqCpcr1"
      }
    },
    {
      "cell_type": "code",
      "source": [
        "# 1st and 2nd constraints must be true as they are initialized using bounded conditions(0-Infinity)"
      ],
      "metadata": {
        "id": "oHbnnzXbiBf0"
      },
      "execution_count": 34,
      "outputs": []
    },
    {
      "cell_type": "code",
      "source": [
        "constraint_1 = True\n",
        "for i in SCS_2019:\n",
        "  if i<0:\n",
        "    constraint_1 = False\n",
        "    print(i)\n",
        "for i in FCS_2019:\n",
        "  if i<0:\n",
        "    constraint_1 = False\n",
        "    print(i)"
      ],
      "metadata": {
        "id": "Ch_Exh6wLUJ4"
      },
      "execution_count": 35,
      "outputs": []
    },
    {
      "cell_type": "code",
      "source": [
        "constraint_2 = True\n",
        "for i in range(4096):\n",
        "  for j in range(100):\n",
        "    if demand_supply_matrix_2019[i][j] < 0:\n",
        "      constraint_2 = False\n",
        "      print(i,j)"
      ],
      "metadata": {
        "id": "j38jJNF9MJeQ"
      },
      "execution_count": 36,
      "outputs": []
    },
    {
      "cell_type": "code",
      "source": [
        "# checking constraints\n",
        "# 3) Sum of FCS and SCS at jth point must be less than the total parking slots at the point\n",
        "constraint_3 = True\n",
        "for i in range(100):\n",
        "  if (SCS_2019[i] + FCS_2019[i]) > parking_slots[i]:\n",
        "    constraint_3 = False\n",
        "    print(i)"
      ],
      "metadata": {
        "id": "OY_kKEMqbh5d"
      },
      "execution_count": 37,
      "outputs": []
    },
    {
      "cell_type": "code",
      "source": [
        "# 4) the infrastructure needs to be built on the existing infrastructure\n",
        "constraint_4 = True\n",
        "for i in range(100):\n",
        "  if (SCS_2019[i] < SCS[i]) or (FCS_2019[i] < FCS[i]):\n",
        "    constraint_4 = False\n",
        "    print(i)"
      ],
      "metadata": {
        "id": "yGK4NeJFfJuh"
      },
      "execution_count": 38,
      "outputs": []
    },
    {
      "cell_type": "code",
      "source": [
        "# 5) Demand satisfed by each jth supply point should be less than or equal to the maximum supply available\n",
        "constraint_5 = True\n",
        "constraint_5_array = []\n",
        "for j in range(100):\n",
        "  if np.sum(demand_supply_matrix_2019[i][j] for i in range(4096)) > (200*SCS_2019[j]+400*FCS_2019[j]):\n",
        "    constraint_5 = False"
      ],
      "metadata": {
        "colab": {
          "base_uri": "https://localhost:8080/"
        },
        "id": "CBpIZPWyPBNg",
        "outputId": "10f705e1-2f50-4c96-985f-5d7046dd8b5c"
      },
      "execution_count": 53,
      "outputs": [
        {
          "output_type": "stream",
          "name": "stderr",
          "text": [
            "/usr/local/lib/python3.7/dist-packages/ipykernel_launcher.py:5: DeprecationWarning: Calling np.sum(generator) is deprecated, and in the future will give a different result. Use np.sum(np.fromiter(generator)) or the python sum builtin instead.\n",
            "  \"\"\"\n"
          ]
        }
      ]
    },
    {
      "cell_type": "code",
      "source": [
        "# 6) Demand satisfed by each ith point should equal to the demand at the time\n",
        "constraint_6 = True\n",
        "for i in range(4096):\n",
        "  if (np.sum(demand_supply_matrix_2019[i][j] for j in range(100)) != demand_2019[i]):\n",
        "    constraint_6 = False\n",
        "    print(i)"
      ],
      "metadata": {
        "colab": {
          "base_uri": "https://localhost:8080/"
        },
        "id": "ABSbuS6dgWoF",
        "outputId": "bee83d8a-6994-4dfa-dbb2-5ef4368d63ef"
      },
      "execution_count": 54,
      "outputs": [
        {
          "output_type": "stream",
          "name": "stdout",
          "text": [
            "34\n",
            "42\n",
            "51\n",
            "61\n",
            "368\n",
            "394\n",
            "654\n",
            "712\n",
            "888\n",
            "920\n",
            "1029\n",
            "1407\n",
            "1418\n",
            "1429\n",
            "2242\n",
            "2806\n",
            "3497\n",
            "3573\n"
          ]
        },
        {
          "output_type": "stream",
          "name": "stderr",
          "text": [
            "/usr/local/lib/python3.7/dist-packages/ipykernel_launcher.py:4: DeprecationWarning: Calling np.sum(generator) is deprecated, and in the future will give a different result. Use np.sum(np.fromiter(generator)) or the python sum builtin instead.\n",
            "  after removing the cwd from sys.path.\n"
          ]
        }
      ]
    },
    {
      "cell_type": "code",
      "source": [
        "print(\"constraint 1:\",constraint_1)\n",
        "print(\"constraint 2:\",constraint_2)\n",
        "print(\"constraint 3:\",constraint_3)\n",
        "print(\"constraint 4:\",constraint_4)\n",
        "print(\"constraint 5:\",constraint_5)\n",
        "print(\"constraint 6:\",constraint_6)"
      ],
      "metadata": {
        "colab": {
          "base_uri": "https://localhost:8080/"
        },
        "id": "EGlrCt6qi34f",
        "outputId": "87ae11a3-21af-48e3-f555-c91cd27d6a07"
      },
      "execution_count": 55,
      "outputs": [
        {
          "output_type": "stream",
          "name": "stdout",
          "text": [
            "constraint 1: True\n",
            "constraint 2: True\n",
            "constraint 3: True\n",
            "constraint 4: True\n",
            "constraint 5: True\n",
            "constraint 6: False\n"
          ]
        }
      ]
    },
    {
      "cell_type": "markdown",
      "source": [
        "2020"
      ],
      "metadata": {
        "id": "cYcyJBGh0pKB"
      }
    },
    {
      "cell_type": "code",
      "source": [
        "# Create the 'prob' variable to contain the problem data\n",
        "prob = LpProblem(\"The EV problem-2\", LpMinimize)\n",
        "\n",
        "# setting up the required LP variables in the problems\n",
        "supply_vars_SCS = LpVariable.dict(\"SCS\", (range(100)), 0,None, cat=LpInteger) # minimum value is zero(constraint - 1)\n",
        "supply_vars_FCS = LpVariable.dict(\"FCS\", (range(100)), 0,None, cat=LpInteger) # minimum value is zero ( constraint - 1)\n",
        "demand_supply_matrix = LpVariable.dict(\"Demand\", (range(4096),range(100)), 0,None, cat=LpContinuous) \n",
        "# demand is varying continuously as given in the data (constraint 1+2)"
      ],
      "metadata": {
        "id": "gO30SmRu0otp"
      },
      "execution_count": 63,
      "outputs": []
    },
    {
      "cell_type": "code",
      "source": [
        "# The objective function is added to 'prob' first\n",
        "prob += (\n",
        "    lpSum([\n",
        "          [\n",
        "            (dist[i][j]*(demand_supply_matrix[i,j])) \n",
        "            for i in range(4096)] for j in range(100)\n",
        "         ]\n",
        "    )+\n",
        "        lpSum([\n",
        "          \n",
        "            ((supply_vars_SCS[j] + 1.5*supply_vars_FCS[j])) \n",
        "             for j in range(100)\n",
        "         ]\n",
        "        ), \n",
        "    \"Total Cost Function\",\n",
        ")"
      ],
      "metadata": {
        "id": "R35NPhrt1TmZ"
      },
      "execution_count": 64,
      "outputs": []
    },
    {
      "cell_type": "code",
      "source": [
        "# 3) Sum of FCS and SCS at jth point must be less than the total parking slots at the point\n",
        "for j in range(100):\n",
        "  prob += (\n",
        "    lpSum(supply_vars_SCS[j] + supply_vars_FCS[j]) <= parking_slots[j],\n",
        "    f\"Parking_max {j}\",\n",
        "  )"
      ],
      "metadata": {
        "id": "KqKfY-YI1XLn"
      },
      "execution_count": 65,
      "outputs": []
    },
    {
      "cell_type": "code",
      "source": [
        "# Now we are defining the constraints to the problem here that are needed to be solved \n",
        "# 4) the infrastructure needs to be built on the existing infrastructure\n",
        "for j in range(100):\n",
        "  prob += (\n",
        "    supply_vars_SCS[j] >= SCS_2019[j],\n",
        "    f\"SCS_min_{j}\",\n",
        "  ) \n",
        "for j in range(100):\n",
        "  prob += (\n",
        "    supply_vars_FCS[j] >= FCS_2019[j],\n",
        "    f\"FCS_min_{j}\",\n",
        "  )"
      ],
      "metadata": {
        "id": "VMiWSEZ51aQM"
      },
      "execution_count": 66,
      "outputs": []
    },
    {
      "cell_type": "code",
      "source": [
        "# 5) Demand satisfed by each jth supply point should be less than or equal to the maximum supply available\n",
        "for j in range(100):\n",
        "  prob += (\n",
        "   lpSum([demand_supply_matrix[i,j] for i in range(4096)]) - \n",
        "   lpSum(200*supply_vars_SCS[j] + 400*supply_vars_FCS[j]) <= 0,\n",
        "   f\"demand_{j}\",\n",
        "  ) "
      ],
      "metadata": {
        "id": "-qZzC1D_1dhS"
      },
      "execution_count": 67,
      "outputs": []
    },
    {
      "cell_type": "code",
      "source": [
        "demand_2020 = demand[\"2020\"]"
      ],
      "metadata": {
        "id": "Al6U5UBb2qLI"
      },
      "execution_count": 68,
      "outputs": []
    },
    {
      "cell_type": "code",
      "source": [
        "# 6) Demand satisfed by each ith point should equal to the demand at the time\n",
        "for i in range(4096):\n",
        "  prob += (\n",
        "    lpSum([demand_supply_matrix[i,j] for j in range(100)]) == demand_2020[i],\n",
        "    f\"demand_match_{i}\",\n",
        "  ) "
      ],
      "metadata": {
        "id": "SgYhh_rl1gbA"
      },
      "execution_count": 69,
      "outputs": []
    },
    {
      "cell_type": "code",
      "source": [
        "prob.solve()"
      ],
      "metadata": {
        "id": "o0aPC9Ws1mLf",
        "colab": {
          "base_uri": "https://localhost:8080/"
        },
        "outputId": "1126c0d4-815b-49db-aed5-2c3bb351bc71"
      },
      "execution_count": 70,
      "outputs": [
        {
          "output_type": "execute_result",
          "data": {
            "text/plain": [
              "1"
            ]
          },
          "metadata": {},
          "execution_count": 70
        }
      ]
    },
    {
      "cell_type": "code",
      "source": [
        "demand_supply_matrix_2020 = np.zeros((4096,100))\n",
        "for i in range(4096):\n",
        "  for j in range(100):\n",
        "    demand_supply_matrix_2020[i][j] = demand_supply_matrix[i,j].value()"
      ],
      "metadata": {
        "id": "Ai-ndPpt1mzZ"
      },
      "execution_count": 71,
      "outputs": []
    },
    {
      "cell_type": "code",
      "source": [
        "np.sum(demand_supply_matrix_2020)"
      ],
      "metadata": {
        "id": "gKCmH7WD1to3",
        "colab": {
          "base_uri": "https://localhost:8080/"
        },
        "outputId": "7037bede-e480-48d0-a398-60014b1a11ba"
      },
      "execution_count": 72,
      "outputs": [
        {
          "output_type": "execute_result",
          "data": {
            "text/plain": [
              "278364.83190800005"
            ]
          },
          "metadata": {},
          "execution_count": 72
        }
      ]
    },
    {
      "cell_type": "code",
      "source": [
        "SCS_2020 = np.zeros(100)\n",
        "FCS_2020 = np.zeros(100)\n",
        "for i in range(100):\n",
        "    SCS_2020[i] = supply_vars_SCS[i].value()\n",
        "for i in range(100):\n",
        "    FCS_2020[i] = supply_vars_FCS[i].value()"
      ],
      "metadata": {
        "id": "GlJmEO1M1yRS"
      },
      "execution_count": 73,
      "outputs": []
    },
    {
      "cell_type": "code",
      "source": [
        "np.sum(200*SCS_2020 + 400*FCS_2020)"
      ],
      "metadata": {
        "id": "sgpiwl1T108Q",
        "colab": {
          "base_uri": "https://localhost:8080/"
        },
        "outputId": "8146f56d-92be-4624-9671-126f35c071a3"
      },
      "execution_count": 74,
      "outputs": [
        {
          "output_type": "execute_result",
          "data": {
            "text/plain": [
              "452400.0"
            ]
          },
          "metadata": {},
          "execution_count": 74
        }
      ]
    },
    {
      "cell_type": "code",
      "source": [
        "# Value of cost function I got here\n",
        "cost_2020 = 0\n",
        "for i in range(4096):\n",
        "  for j in range(100):\n",
        "      cost_2020 += (dist[i][j]*(demand_supply_matrix_2020[i][j])) \n",
        "for j in range(100):\n",
        "  cost_2020 += 600*(SCS_2020[j] + 1.5*FCS_2020[j])\n",
        "cost_2020"
      ],
      "metadata": {
        "id": "2Pk_FOFg14Hf",
        "colab": {
          "base_uri": "https://localhost:8080/"
        },
        "outputId": "67ebd0b7-41c9-4bd4-9e6f-221d6060ee3f"
      },
      "execution_count": 75,
      "outputs": [
        {
          "output_type": "execute_result",
          "data": {
            "text/plain": [
              "2295866.548344559"
            ]
          },
          "metadata": {},
          "execution_count": 75
        }
      ]
    },
    {
      "cell_type": "code",
      "source": [
        "score_2020 = max(10, 100 - ((90*cost_2020)/15000000))\n",
        "score_2020"
      ],
      "metadata": {
        "id": "teq9LH1d3DYI",
        "colab": {
          "base_uri": "https://localhost:8080/"
        },
        "outputId": "b30f8b30-991e-44bb-8024-d5e47a48a44f"
      },
      "execution_count": 76,
      "outputs": [
        {
          "output_type": "execute_result",
          "data": {
            "text/plain": [
              "86.22480070993265"
            ]
          },
          "metadata": {},
          "execution_count": 76
        }
      ]
    },
    {
      "cell_type": "markdown",
      "source": [
        "Correcting constraint 5:"
      ],
      "metadata": {
        "id": "eWijAMXrMoSJ"
      }
    },
    {
      "cell_type": "code",
      "source": [
        "# 5) Demand satisfed by each jth supply point should be less than or equal to the maximum supply available\n",
        "constraint_5 = True\n",
        "constraint_5_array = []\n",
        "for j in range(100):\n",
        "  if np.sum(demand_supply_matrix_2020[i][j] for i in range(4096)) > (200*SCS_2020[j]+400*FCS_2020[j]):\n",
        "    constraint_5 = False\n",
        "    print(j)\n",
        "    constraint_5_array.append(j)"
      ],
      "metadata": {
        "colab": {
          "base_uri": "https://localhost:8080/"
        },
        "id": "vPrDBIctMo0P",
        "outputId": "4404b333-eef1-42cc-8ab6-05286eb102c6"
      },
      "execution_count": 87,
      "outputs": [
        {
          "output_type": "stream",
          "name": "stdout",
          "text": [
            "34\n"
          ]
        },
        {
          "output_type": "stream",
          "name": "stderr",
          "text": [
            "/usr/local/lib/python3.7/dist-packages/ipykernel_launcher.py:5: DeprecationWarning: Calling np.sum(generator) is deprecated, and in the future will give a different result. Use np.sum(np.fromiter(generator)) or the python sum builtin instead.\n",
            "  \"\"\"\n"
          ]
        }
      ]
    },
    {
      "cell_type": "code",
      "source": [
        "len(demand_supply_matrix_2020[4095])"
      ],
      "metadata": {
        "colab": {
          "base_uri": "https://localhost:8080/"
        },
        "id": "fhM0r27FMpl1",
        "outputId": "9eb23fa8-afd7-4632-db1c-7642f9ae8005"
      },
      "execution_count": 78,
      "outputs": [
        {
          "output_type": "execute_result",
          "data": {
            "text/plain": [
              "100"
            ]
          },
          "metadata": {},
          "execution_count": 78
        }
      ]
    },
    {
      "cell_type": "code",
      "source": [
        "j = 34\n",
        "np.sum(demand_supply_matrix_2020[i][j] for i in range(4096))"
      ],
      "metadata": {
        "colab": {
          "base_uri": "https://localhost:8080/"
        },
        "id": "ZtDYZZicMtkO",
        "outputId": "85736f59-4aad-488c-e069-298895db882d"
      },
      "execution_count": 88,
      "outputs": [
        {
          "output_type": "stream",
          "name": "stderr",
          "text": [
            "/usr/local/lib/python3.7/dist-packages/ipykernel_launcher.py:2: DeprecationWarning: Calling np.sum(generator) is deprecated, and in the future will give a different result. Use np.sum(np.fromiter(generator)) or the python sum builtin instead.\n",
            "  \n"
          ]
        },
        {
          "output_type": "execute_result",
          "data": {
            "text/plain": [
              "6600.000000000001"
            ]
          },
          "metadata": {},
          "execution_count": 88
        }
      ]
    },
    {
      "cell_type": "code",
      "source": [
        "(200*SCS_2020[j]+400*FCS_2020[j])"
      ],
      "metadata": {
        "colab": {
          "base_uri": "https://localhost:8080/"
        },
        "id": "3ANFcWAvMxfj",
        "outputId": "28754f37-a1e9-4f48-8e8c-731dd7d5b452"
      },
      "execution_count": 89,
      "outputs": [
        {
          "output_type": "execute_result",
          "data": {
            "text/plain": [
              "6600.0"
            ]
          },
          "metadata": {},
          "execution_count": 89
        }
      ]
    },
    {
      "cell_type": "code",
      "source": [
        "for j in constraint_5_array:\n",
        "  for i in range(4096):\n",
        "    if (demand_supply_matrix_2020[i][j] > 0):\n",
        "      demand_supply_matrix_2020[i][j] -= np.sum(demand_supply_matrix_2020[i][j] for i in range(4096)) - (200*SCS_2020[j]+400*FCS_2020[j])\n",
        "      break"
      ],
      "metadata": {
        "colab": {
          "base_uri": "https://localhost:8080/"
        },
        "id": "w1PSiRDWM07k",
        "outputId": "f10cfe81-2efd-4b67-d100-5856e0ab9839"
      },
      "execution_count": 90,
      "outputs": [
        {
          "output_type": "stream",
          "name": "stderr",
          "text": [
            "/usr/local/lib/python3.7/dist-packages/ipykernel_launcher.py:4: DeprecationWarning: Calling np.sum(generator) is deprecated, and in the future will give a different result. Use np.sum(np.fromiter(generator)) or the python sum builtin instead.\n",
            "  after removing the cwd from sys.path.\n"
          ]
        }
      ]
    },
    {
      "cell_type": "markdown",
      "source": [
        "Checking Constraints"
      ],
      "metadata": {
        "id": "V9Y8sLviNEH4"
      }
    },
    {
      "cell_type": "code",
      "source": [
        "# 1st and 2nd constraints must be true as they are initialized using bounded conditions(0-Infinity)\n",
        "constraint_1 = True\n",
        "for i in SCS_2020:\n",
        "  if i<0:\n",
        "    constraint_1 = False\n",
        "    print(i)\n",
        "for i in FCS_2020:\n",
        "  if i<0:\n",
        "    constraint_1 = False\n",
        "    print(i)\n",
        "constraint_2 = True\n",
        "for i in range(4096):\n",
        "  for j in range(100):\n",
        "    if demand_supply_matrix_2020[i][j] < 0:\n",
        "      constraint_2 = False\n",
        "      print(i,j)"
      ],
      "metadata": {
        "id": "dcTvkvUhNOcE"
      },
      "execution_count": 82,
      "outputs": []
    },
    {
      "cell_type": "code",
      "source": [
        "# checking constraints\n",
        "# 3) Sum of FCS and SCS at jth point must be less than the total parking slots at the point\n",
        "constraint_3 = True\n",
        "for i in range(100):\n",
        "  if (SCS_2020[i] + FCS_2020[i]) > parking_slots[i]:\n",
        "    constraint_3 = False\n",
        "    print(i)"
      ],
      "metadata": {
        "id": "9U0PiA0viPXq"
      },
      "execution_count": 83,
      "outputs": []
    },
    {
      "cell_type": "code",
      "source": [
        "# 4) the infrastructure needs to be built on the existing infrastructure\n",
        "constraint_4 = True\n",
        "for i in range(100):\n",
        "  if (SCS_2020[i] < SCS_2019[i]) or (FCS_2020[i] < FCS_2019[i]):\n",
        "    constraint_4 = False\n",
        "    print(i)"
      ],
      "metadata": {
        "id": "sCHlFVZ2iT-9"
      },
      "execution_count": 84,
      "outputs": []
    },
    {
      "cell_type": "code",
      "source": [
        "# 5) Demand satisfed by each jth supply point should be less than or equal to the maximum supply available\n",
        "constraint_5 = True\n",
        "constraint_5_array = []\n",
        "for j in range(100):\n",
        "  if np.sum(demand_supply_matrix_2020[i][j] for i in range(4096)) > (200*SCS_2020[j]+400*FCS_2020[j]):\n",
        "    constraint_5 = False\n",
        "    print(j)\n",
        "    constraint_5_array.append(j)"
      ],
      "metadata": {
        "id": "647t9eWziXlM",
        "colab": {
          "base_uri": "https://localhost:8080/"
        },
        "outputId": "d1b5e5c2-b091-4995-c74d-ec90fb59ba5c"
      },
      "execution_count": 91,
      "outputs": [
        {
          "output_type": "stream",
          "name": "stderr",
          "text": [
            "/usr/local/lib/python3.7/dist-packages/ipykernel_launcher.py:5: DeprecationWarning: Calling np.sum(generator) is deprecated, and in the future will give a different result. Use np.sum(np.fromiter(generator)) or the python sum builtin instead.\n",
            "  \"\"\"\n"
          ]
        }
      ]
    },
    {
      "cell_type": "code",
      "source": [
        "# 6) Demand satisfed by each ith point should equal to the demand at the time\n",
        "constraint_6 = True\n",
        "for i in range(4096):\n",
        "  if np.sum(demand_supply_matrix_2020[i][j] for j in range(100)) != demand_2020[i]:\n",
        "    constraint_6 = False\n",
        "    print(i)"
      ],
      "metadata": {
        "id": "A266gCS5iahd",
        "colab": {
          "base_uri": "https://localhost:8080/"
        },
        "outputId": "7d52c90f-1849-4118-a046-a868a590995f"
      },
      "execution_count": 93,
      "outputs": [
        {
          "output_type": "stream",
          "name": "stdout",
          "text": [
            "34\n",
            "42\n",
            "51\n",
            "61\n",
            "147\n",
            "368\n",
            "447\n",
            "920\n",
            "941\n",
            "986\n",
            "1029\n",
            "1051\n",
            "1407\n",
            "1418\n",
            "1428\n",
            "2188\n",
            "2806\n"
          ]
        },
        {
          "output_type": "stream",
          "name": "stderr",
          "text": [
            "/usr/local/lib/python3.7/dist-packages/ipykernel_launcher.py:4: DeprecationWarning: Calling np.sum(generator) is deprecated, and in the future will give a different result. Use np.sum(np.fromiter(generator)) or the python sum builtin instead.\n",
            "  after removing the cwd from sys.path.\n"
          ]
        }
      ]
    },
    {
      "cell_type": "code",
      "source": [
        "print(\"constraint 1:\",constraint_1)\n",
        "print(\"constraint 2:\",constraint_2)\n",
        "print(\"constraint 3:\",constraint_3)\n",
        "print(\"constraint 4:\",constraint_4)\n",
        "print(\"constraint 5:\",constraint_5)\n",
        "print(\"constraint 6:\",constraint_6)"
      ],
      "metadata": {
        "id": "SBQB48VviqPF",
        "colab": {
          "base_uri": "https://localhost:8080/"
        },
        "outputId": "e9b4ad08-9742-46ef-9dd8-e651c8ddfdb9"
      },
      "execution_count": 94,
      "outputs": [
        {
          "output_type": "stream",
          "name": "stdout",
          "text": [
            "constraint 1: True\n",
            "constraint 2: True\n",
            "constraint 3: True\n",
            "constraint 4: True\n",
            "constraint 5: True\n",
            "constraint 6: False\n"
          ]
        }
      ]
    },
    {
      "cell_type": "code",
      "source": [
        "demand"
      ],
      "metadata": {
        "id": "9iU0SU0TCkCA",
        "colab": {
          "base_uri": "https://localhost:8080/",
          "height": 483
        },
        "outputId": "25aefa8e-a35d-44ae-d397-821cf214be02"
      },
      "execution_count": 95,
      "outputs": [
        {
          "output_type": "execute_result",
          "data": {
            "text/plain": [
              "      demand_point_index  x_coordinate  y_coordinate      2010      2011  \\\n",
              "0                      0           0.5           0.5  0.352242  0.667932   \n",
              "1                      1           1.5           0.5  0.325940  0.591964   \n",
              "2                      2           2.5           0.5  0.373752  0.591890   \n",
              "3                      3           3.5           0.5  0.420686  0.584055   \n",
              "4                      4           4.5           0.5  0.475621  0.647940   \n",
              "...                  ...           ...           ...       ...       ...   \n",
              "4091                4091          59.5          63.5  0.171015  0.334565   \n",
              "4092                4092          60.5          63.5  0.041716  0.061741   \n",
              "4093                4093          61.5          63.5  0.100895  0.180352   \n",
              "4094                4094          62.5          63.5  0.155353  0.290825   \n",
              "4095                4095          63.5          63.5  0.209372  0.340185   \n",
              "\n",
              "          2012      2013      2014      2015      2016       2017       2018  \\\n",
              "0     0.958593  2.911901  4.338274  6.561995  8.454417  10.595324  13.119572   \n",
              "1     0.862652  2.589068  4.196034  5.745551  8.753195  11.126995  12.020091   \n",
              "2     0.969733  2.641432  3.541772  5.469161  8.414627  10.115336  14.018254   \n",
              "3     0.906547  2.378577  3.888121  5.846089  9.083868  12.424885  15.012302   \n",
              "4     0.981544  2.665400  4.218711  6.776609  8.851107  11.731131  16.355563   \n",
              "...        ...       ...       ...       ...       ...        ...        ...   \n",
              "4091  0.556055  1.373291  1.837586  2.517146  3.352280   4.149888   5.426193   \n",
              "4092  0.131291  0.386540  0.755846  0.941116  1.107797   1.309479   2.057450   \n",
              "4093  0.296299  0.705373  1.300220  1.608609  1.822806   2.333681   3.218519   \n",
              "4094  0.557803  1.516066  2.399426  2.719197  4.494515   6.096858   6.262574   \n",
              "4095  0.749491  1.904285  2.775772  3.404641  4.574922   6.301078   6.860939   \n",
              "\n",
              "           2019       2020  \n",
              "0     54.176315  56.992560  \n",
              "1     55.273690  57.075462  \n",
              "2     55.291610  57.088287  \n",
              "3     55.404137  57.206757  \n",
              "4     56.079346  58.839165  \n",
              "...         ...        ...  \n",
              "4091  41.042656  41.051560  \n",
              "4092  40.949844  41.030586  \n",
              "4093  41.000305  41.039116  \n",
              "4094  41.042183  41.051994  \n",
              "4095  41.043777  41.120140  \n",
              "\n",
              "[4096 rows x 14 columns]"
            ],
            "text/html": [
              "\n",
              "  <div id=\"df-dafa73a5-fb4d-4f16-bdaa-5d7006d70575\">\n",
              "    <div class=\"colab-df-container\">\n",
              "      <div>\n",
              "<style scoped>\n",
              "    .dataframe tbody tr th:only-of-type {\n",
              "        vertical-align: middle;\n",
              "    }\n",
              "\n",
              "    .dataframe tbody tr th {\n",
              "        vertical-align: top;\n",
              "    }\n",
              "\n",
              "    .dataframe thead th {\n",
              "        text-align: right;\n",
              "    }\n",
              "</style>\n",
              "<table border=\"1\" class=\"dataframe\">\n",
              "  <thead>\n",
              "    <tr style=\"text-align: right;\">\n",
              "      <th></th>\n",
              "      <th>demand_point_index</th>\n",
              "      <th>x_coordinate</th>\n",
              "      <th>y_coordinate</th>\n",
              "      <th>2010</th>\n",
              "      <th>2011</th>\n",
              "      <th>2012</th>\n",
              "      <th>2013</th>\n",
              "      <th>2014</th>\n",
              "      <th>2015</th>\n",
              "      <th>2016</th>\n",
              "      <th>2017</th>\n",
              "      <th>2018</th>\n",
              "      <th>2019</th>\n",
              "      <th>2020</th>\n",
              "    </tr>\n",
              "  </thead>\n",
              "  <tbody>\n",
              "    <tr>\n",
              "      <th>0</th>\n",
              "      <td>0</td>\n",
              "      <td>0.5</td>\n",
              "      <td>0.5</td>\n",
              "      <td>0.352242</td>\n",
              "      <td>0.667932</td>\n",
              "      <td>0.958593</td>\n",
              "      <td>2.911901</td>\n",
              "      <td>4.338274</td>\n",
              "      <td>6.561995</td>\n",
              "      <td>8.454417</td>\n",
              "      <td>10.595324</td>\n",
              "      <td>13.119572</td>\n",
              "      <td>54.176315</td>\n",
              "      <td>56.992560</td>\n",
              "    </tr>\n",
              "    <tr>\n",
              "      <th>1</th>\n",
              "      <td>1</td>\n",
              "      <td>1.5</td>\n",
              "      <td>0.5</td>\n",
              "      <td>0.325940</td>\n",
              "      <td>0.591964</td>\n",
              "      <td>0.862652</td>\n",
              "      <td>2.589068</td>\n",
              "      <td>4.196034</td>\n",
              "      <td>5.745551</td>\n",
              "      <td>8.753195</td>\n",
              "      <td>11.126995</td>\n",
              "      <td>12.020091</td>\n",
              "      <td>55.273690</td>\n",
              "      <td>57.075462</td>\n",
              "    </tr>\n",
              "    <tr>\n",
              "      <th>2</th>\n",
              "      <td>2</td>\n",
              "      <td>2.5</td>\n",
              "      <td>0.5</td>\n",
              "      <td>0.373752</td>\n",
              "      <td>0.591890</td>\n",
              "      <td>0.969733</td>\n",
              "      <td>2.641432</td>\n",
              "      <td>3.541772</td>\n",
              "      <td>5.469161</td>\n",
              "      <td>8.414627</td>\n",
              "      <td>10.115336</td>\n",
              "      <td>14.018254</td>\n",
              "      <td>55.291610</td>\n",
              "      <td>57.088287</td>\n",
              "    </tr>\n",
              "    <tr>\n",
              "      <th>3</th>\n",
              "      <td>3</td>\n",
              "      <td>3.5</td>\n",
              "      <td>0.5</td>\n",
              "      <td>0.420686</td>\n",
              "      <td>0.584055</td>\n",
              "      <td>0.906547</td>\n",
              "      <td>2.378577</td>\n",
              "      <td>3.888121</td>\n",
              "      <td>5.846089</td>\n",
              "      <td>9.083868</td>\n",
              "      <td>12.424885</td>\n",
              "      <td>15.012302</td>\n",
              "      <td>55.404137</td>\n",
              "      <td>57.206757</td>\n",
              "    </tr>\n",
              "    <tr>\n",
              "      <th>4</th>\n",
              "      <td>4</td>\n",
              "      <td>4.5</td>\n",
              "      <td>0.5</td>\n",
              "      <td>0.475621</td>\n",
              "      <td>0.647940</td>\n",
              "      <td>0.981544</td>\n",
              "      <td>2.665400</td>\n",
              "      <td>4.218711</td>\n",
              "      <td>6.776609</td>\n",
              "      <td>8.851107</td>\n",
              "      <td>11.731131</td>\n",
              "      <td>16.355563</td>\n",
              "      <td>56.079346</td>\n",
              "      <td>58.839165</td>\n",
              "    </tr>\n",
              "    <tr>\n",
              "      <th>...</th>\n",
              "      <td>...</td>\n",
              "      <td>...</td>\n",
              "      <td>...</td>\n",
              "      <td>...</td>\n",
              "      <td>...</td>\n",
              "      <td>...</td>\n",
              "      <td>...</td>\n",
              "      <td>...</td>\n",
              "      <td>...</td>\n",
              "      <td>...</td>\n",
              "      <td>...</td>\n",
              "      <td>...</td>\n",
              "      <td>...</td>\n",
              "      <td>...</td>\n",
              "    </tr>\n",
              "    <tr>\n",
              "      <th>4091</th>\n",
              "      <td>4091</td>\n",
              "      <td>59.5</td>\n",
              "      <td>63.5</td>\n",
              "      <td>0.171015</td>\n",
              "      <td>0.334565</td>\n",
              "      <td>0.556055</td>\n",
              "      <td>1.373291</td>\n",
              "      <td>1.837586</td>\n",
              "      <td>2.517146</td>\n",
              "      <td>3.352280</td>\n",
              "      <td>4.149888</td>\n",
              "      <td>5.426193</td>\n",
              "      <td>41.042656</td>\n",
              "      <td>41.051560</td>\n",
              "    </tr>\n",
              "    <tr>\n",
              "      <th>4092</th>\n",
              "      <td>4092</td>\n",
              "      <td>60.5</td>\n",
              "      <td>63.5</td>\n",
              "      <td>0.041716</td>\n",
              "      <td>0.061741</td>\n",
              "      <td>0.131291</td>\n",
              "      <td>0.386540</td>\n",
              "      <td>0.755846</td>\n",
              "      <td>0.941116</td>\n",
              "      <td>1.107797</td>\n",
              "      <td>1.309479</td>\n",
              "      <td>2.057450</td>\n",
              "      <td>40.949844</td>\n",
              "      <td>41.030586</td>\n",
              "    </tr>\n",
              "    <tr>\n",
              "      <th>4093</th>\n",
              "      <td>4093</td>\n",
              "      <td>61.5</td>\n",
              "      <td>63.5</td>\n",
              "      <td>0.100895</td>\n",
              "      <td>0.180352</td>\n",
              "      <td>0.296299</td>\n",
              "      <td>0.705373</td>\n",
              "      <td>1.300220</td>\n",
              "      <td>1.608609</td>\n",
              "      <td>1.822806</td>\n",
              "      <td>2.333681</td>\n",
              "      <td>3.218519</td>\n",
              "      <td>41.000305</td>\n",
              "      <td>41.039116</td>\n",
              "    </tr>\n",
              "    <tr>\n",
              "      <th>4094</th>\n",
              "      <td>4094</td>\n",
              "      <td>62.5</td>\n",
              "      <td>63.5</td>\n",
              "      <td>0.155353</td>\n",
              "      <td>0.290825</td>\n",
              "      <td>0.557803</td>\n",
              "      <td>1.516066</td>\n",
              "      <td>2.399426</td>\n",
              "      <td>2.719197</td>\n",
              "      <td>4.494515</td>\n",
              "      <td>6.096858</td>\n",
              "      <td>6.262574</td>\n",
              "      <td>41.042183</td>\n",
              "      <td>41.051994</td>\n",
              "    </tr>\n",
              "    <tr>\n",
              "      <th>4095</th>\n",
              "      <td>4095</td>\n",
              "      <td>63.5</td>\n",
              "      <td>63.5</td>\n",
              "      <td>0.209372</td>\n",
              "      <td>0.340185</td>\n",
              "      <td>0.749491</td>\n",
              "      <td>1.904285</td>\n",
              "      <td>2.775772</td>\n",
              "      <td>3.404641</td>\n",
              "      <td>4.574922</td>\n",
              "      <td>6.301078</td>\n",
              "      <td>6.860939</td>\n",
              "      <td>41.043777</td>\n",
              "      <td>41.120140</td>\n",
              "    </tr>\n",
              "  </tbody>\n",
              "</table>\n",
              "<p>4096 rows × 14 columns</p>\n",
              "</div>\n",
              "      <button class=\"colab-df-convert\" onclick=\"convertToInteractive('df-dafa73a5-fb4d-4f16-bdaa-5d7006d70575')\"\n",
              "              title=\"Convert this dataframe to an interactive table.\"\n",
              "              style=\"display:none;\">\n",
              "        \n",
              "  <svg xmlns=\"http://www.w3.org/2000/svg\" height=\"24px\"viewBox=\"0 0 24 24\"\n",
              "       width=\"24px\">\n",
              "    <path d=\"M0 0h24v24H0V0z\" fill=\"none\"/>\n",
              "    <path d=\"M18.56 5.44l.94 2.06.94-2.06 2.06-.94-2.06-.94-.94-2.06-.94 2.06-2.06.94zm-11 1L8.5 8.5l.94-2.06 2.06-.94-2.06-.94L8.5 2.5l-.94 2.06-2.06.94zm10 10l.94 2.06.94-2.06 2.06-.94-2.06-.94-.94-2.06-.94 2.06-2.06.94z\"/><path d=\"M17.41 7.96l-1.37-1.37c-.4-.4-.92-.59-1.43-.59-.52 0-1.04.2-1.43.59L10.3 9.45l-7.72 7.72c-.78.78-.78 2.05 0 2.83L4 21.41c.39.39.9.59 1.41.59.51 0 1.02-.2 1.41-.59l7.78-7.78 2.81-2.81c.8-.78.8-2.07 0-2.86zM5.41 20L4 18.59l7.72-7.72 1.47 1.35L5.41 20z\"/>\n",
              "  </svg>\n",
              "      </button>\n",
              "      \n",
              "  <style>\n",
              "    .colab-df-container {\n",
              "      display:flex;\n",
              "      flex-wrap:wrap;\n",
              "      gap: 12px;\n",
              "    }\n",
              "\n",
              "    .colab-df-convert {\n",
              "      background-color: #E8F0FE;\n",
              "      border: none;\n",
              "      border-radius: 50%;\n",
              "      cursor: pointer;\n",
              "      display: none;\n",
              "      fill: #1967D2;\n",
              "      height: 32px;\n",
              "      padding: 0 0 0 0;\n",
              "      width: 32px;\n",
              "    }\n",
              "\n",
              "    .colab-df-convert:hover {\n",
              "      background-color: #E2EBFA;\n",
              "      box-shadow: 0px 1px 2px rgba(60, 64, 67, 0.3), 0px 1px 3px 1px rgba(60, 64, 67, 0.15);\n",
              "      fill: #174EA6;\n",
              "    }\n",
              "\n",
              "    [theme=dark] .colab-df-convert {\n",
              "      background-color: #3B4455;\n",
              "      fill: #D2E3FC;\n",
              "    }\n",
              "\n",
              "    [theme=dark] .colab-df-convert:hover {\n",
              "      background-color: #434B5C;\n",
              "      box-shadow: 0px 1px 3px 1px rgba(0, 0, 0, 0.15);\n",
              "      filter: drop-shadow(0px 1px 2px rgba(0, 0, 0, 0.3));\n",
              "      fill: #FFFFFF;\n",
              "    }\n",
              "  </style>\n",
              "\n",
              "      <script>\n",
              "        const buttonEl =\n",
              "          document.querySelector('#df-dafa73a5-fb4d-4f16-bdaa-5d7006d70575 button.colab-df-convert');\n",
              "        buttonEl.style.display =\n",
              "          google.colab.kernel.accessAllowed ? 'block' : 'none';\n",
              "\n",
              "        async function convertToInteractive(key) {\n",
              "          const element = document.querySelector('#df-dafa73a5-fb4d-4f16-bdaa-5d7006d70575');\n",
              "          const dataTable =\n",
              "            await google.colab.kernel.invokeFunction('convertToInteractive',\n",
              "                                                     [key], {});\n",
              "          if (!dataTable) return;\n",
              "\n",
              "          const docLinkHtml = 'Like what you see? Visit the ' +\n",
              "            '<a target=\"_blank\" href=https://colab.research.google.com/notebooks/data_table.ipynb>data table notebook</a>'\n",
              "            + ' to learn more about interactive tables.';\n",
              "          element.innerHTML = '';\n",
              "          dataTable['output_type'] = 'display_data';\n",
              "          await google.colab.output.renderOutput(dataTable, element);\n",
              "          const docLink = document.createElement('div');\n",
              "          docLink.innerHTML = docLinkHtml;\n",
              "          element.appendChild(docLink);\n",
              "        }\n",
              "      </script>\n",
              "    </div>\n",
              "  </div>\n",
              "  "
            ]
          },
          "metadata": {},
          "execution_count": 95
        }
      ]
    },
    {
      "cell_type": "code",
      "source": [
        "'''\n",
        "fileh = open(\"submit-lr.csv\", \"r+\")\n",
        "fileh.write(\"year,data_type,demand_point_index,supply_point_index,value\\n\")\n",
        "for i in range(100):\n",
        "    fileh.write(f\"2019,SCS,,{i},{int(SCS_2019[i])}\\n\")\n",
        "for i in range(100):\n",
        "    fileh.write(f\"2019,FCS,,{i},{int(FCS_2019[i])}\\n\")\n",
        "for i in range(4096):\n",
        "    for j in range(100):\n",
        "        fileh.write(f\"2019,DS,{i},{j},{demand_supply_matrix_2019[i][j]}\\n\")\n",
        "for i in range(100):\n",
        "    fileh.write(f\"2019,SCS,,{i},{int(SCS_2020[i])}\\n\")\n",
        "for i in range(100):\n",
        "    fileh.write(f\"2019,FCS,,{i},{int(FCS_2020[i])}\\n\") \n",
        "for i in range(4096):\n",
        "    for j in range(100):\n",
        "        fileh.write(f\"2020,DS,{i},{j},{demand_supply_matrix_2020[i][j]}\\n\")\n",
        "'''"
      ],
      "metadata": {
        "id": "VdUtBjFb7r0O"
      },
      "execution_count": 96,
      "outputs": []
    }
  ],
  "metadata": {
    "colab": {
      "provenance": []
    },
    "kernelspec": {
      "display_name": "Python 3.10.0 64-bit",
      "language": "python",
      "name": "python3"
    },
    "language_info": {
      "codemirror_mode": {
        "name": "ipython",
        "version": 3
      },
      "file_extension": ".py",
      "mimetype": "text/x-python",
      "name": "python",
      "nbconvert_exporter": "python",
      "pygments_lexer": "ipython3",
      "version": "3.10.0"
    },
    "vscode": {
      "interpreter": {
        "hash": "aee8b7b246df8f9039afb4144a1f6fd8d2ca17a180786b69acc140d282b71a49"
      }
    }
  },
  "nbformat": 4,
  "nbformat_minor": 0
}