{
  "cells": [
    {
      "cell_type": "markdown",
      "metadata": {
        "id": "-du9LXFWxilS"
      },
      "source": [
        "<h1 style=\"text-align:center\">Shell.AI EV Problem (LP part) </h1>"
      ]
    },
    {
      "cell_type": "code",
      "execution_count": 4,
      "metadata": {
        "colab": {
          "base_uri": "https://localhost:8080/"
        },
        "id": "QjJcnbKrxilW",
        "outputId": "bc7ebb18-d856-4301-fc38-9e488b55a8f6"
      },
      "outputs": [
        {
          "output_type": "stream",
          "name": "stdout",
          "text": [
            "Looking in indexes: https://pypi.org/simple, https://us-python.pkg.dev/colab-wheels/public/simple/\n",
            "Requirement already satisfied: pulp in /usr/local/lib/python3.7/dist-packages (2.6.0)\n"
          ]
        }
      ],
      "source": [
        "!pip install pulp"
      ]
    },
    {
      "cell_type": "code",
      "execution_count": 5,
      "metadata": {
        "id": "LXLiyCo8SJIG"
      },
      "outputs": [],
      "source": [
        "from pulp import *\n",
        "import numpy as np\n",
        "import pandas as pd"
      ]
    },
    {
      "cell_type": "code",
      "execution_count": 6,
      "metadata": {
        "id": "rrnzhAlqScMZ"
      },
      "outputs": [],
      "source": [
        "Dist = np.random.randn(4096,100)"
      ]
    },
    {
      "cell_type": "code",
      "execution_count": 7,
      "metadata": {
        "colab": {
          "base_uri": "https://localhost:8080/",
          "height": 419
        },
        "id": "QVqaiIoZS8qv",
        "outputId": "3e5eac9c-17dd-46b0-8481-297a2f80f6e9"
      },
      "outputs": [
        {
          "output_type": "execute_result",
          "data": {
            "text/plain": [
              "    supply_point_index  x_coordinate  y_coordinate  total_parking_slots  \\\n",
              "0                    0     50.163110     19.412014                   23   \n",
              "1                    1     37.336451     58.119225                   27   \n",
              "2                    2     46.709232     57.525650                   31   \n",
              "3                    3     30.528626     55.379835                   26   \n",
              "4                    4     51.521781     35.116755                   32   \n",
              "..                 ...           ...           ...                  ...   \n",
              "95                  95     45.471204     20.999414                   24   \n",
              "96                  96     30.318396     33.388335                   32   \n",
              "97                  97     36.218839     22.235766                   32   \n",
              "98                  98     42.936915     38.122442                   28   \n",
              "99                  99     19.590263      3.830284                   24   \n",
              "\n",
              "    existing_num_SCS  existing_num_FCS  \n",
              "0                  5                 3  \n",
              "1                  4                 7  \n",
              "2                  6                14  \n",
              "3                  5                 5  \n",
              "4                 11                 6  \n",
              "..               ...               ...  \n",
              "95                 3                 4  \n",
              "96                 5                10  \n",
              "97                 4                14  \n",
              "98                 7                 5  \n",
              "99                 2                11  \n",
              "\n",
              "[100 rows x 6 columns]"
            ],
            "text/html": [
              "\n",
              "  <div id=\"df-b21e97d4-587d-497a-b850-8c6a807e4a89\">\n",
              "    <div class=\"colab-df-container\">\n",
              "      <div>\n",
              "<style scoped>\n",
              "    .dataframe tbody tr th:only-of-type {\n",
              "        vertical-align: middle;\n",
              "    }\n",
              "\n",
              "    .dataframe tbody tr th {\n",
              "        vertical-align: top;\n",
              "    }\n",
              "\n",
              "    .dataframe thead th {\n",
              "        text-align: right;\n",
              "    }\n",
              "</style>\n",
              "<table border=\"1\" class=\"dataframe\">\n",
              "  <thead>\n",
              "    <tr style=\"text-align: right;\">\n",
              "      <th></th>\n",
              "      <th>supply_point_index</th>\n",
              "      <th>x_coordinate</th>\n",
              "      <th>y_coordinate</th>\n",
              "      <th>total_parking_slots</th>\n",
              "      <th>existing_num_SCS</th>\n",
              "      <th>existing_num_FCS</th>\n",
              "    </tr>\n",
              "  </thead>\n",
              "  <tbody>\n",
              "    <tr>\n",
              "      <th>0</th>\n",
              "      <td>0</td>\n",
              "      <td>50.163110</td>\n",
              "      <td>19.412014</td>\n",
              "      <td>23</td>\n",
              "      <td>5</td>\n",
              "      <td>3</td>\n",
              "    </tr>\n",
              "    <tr>\n",
              "      <th>1</th>\n",
              "      <td>1</td>\n",
              "      <td>37.336451</td>\n",
              "      <td>58.119225</td>\n",
              "      <td>27</td>\n",
              "      <td>4</td>\n",
              "      <td>7</td>\n",
              "    </tr>\n",
              "    <tr>\n",
              "      <th>2</th>\n",
              "      <td>2</td>\n",
              "      <td>46.709232</td>\n",
              "      <td>57.525650</td>\n",
              "      <td>31</td>\n",
              "      <td>6</td>\n",
              "      <td>14</td>\n",
              "    </tr>\n",
              "    <tr>\n",
              "      <th>3</th>\n",
              "      <td>3</td>\n",
              "      <td>30.528626</td>\n",
              "      <td>55.379835</td>\n",
              "      <td>26</td>\n",
              "      <td>5</td>\n",
              "      <td>5</td>\n",
              "    </tr>\n",
              "    <tr>\n",
              "      <th>4</th>\n",
              "      <td>4</td>\n",
              "      <td>51.521781</td>\n",
              "      <td>35.116755</td>\n",
              "      <td>32</td>\n",
              "      <td>11</td>\n",
              "      <td>6</td>\n",
              "    </tr>\n",
              "    <tr>\n",
              "      <th>...</th>\n",
              "      <td>...</td>\n",
              "      <td>...</td>\n",
              "      <td>...</td>\n",
              "      <td>...</td>\n",
              "      <td>...</td>\n",
              "      <td>...</td>\n",
              "    </tr>\n",
              "    <tr>\n",
              "      <th>95</th>\n",
              "      <td>95</td>\n",
              "      <td>45.471204</td>\n",
              "      <td>20.999414</td>\n",
              "      <td>24</td>\n",
              "      <td>3</td>\n",
              "      <td>4</td>\n",
              "    </tr>\n",
              "    <tr>\n",
              "      <th>96</th>\n",
              "      <td>96</td>\n",
              "      <td>30.318396</td>\n",
              "      <td>33.388335</td>\n",
              "      <td>32</td>\n",
              "      <td>5</td>\n",
              "      <td>10</td>\n",
              "    </tr>\n",
              "    <tr>\n",
              "      <th>97</th>\n",
              "      <td>97</td>\n",
              "      <td>36.218839</td>\n",
              "      <td>22.235766</td>\n",
              "      <td>32</td>\n",
              "      <td>4</td>\n",
              "      <td>14</td>\n",
              "    </tr>\n",
              "    <tr>\n",
              "      <th>98</th>\n",
              "      <td>98</td>\n",
              "      <td>42.936915</td>\n",
              "      <td>38.122442</td>\n",
              "      <td>28</td>\n",
              "      <td>7</td>\n",
              "      <td>5</td>\n",
              "    </tr>\n",
              "    <tr>\n",
              "      <th>99</th>\n",
              "      <td>99</td>\n",
              "      <td>19.590263</td>\n",
              "      <td>3.830284</td>\n",
              "      <td>24</td>\n",
              "      <td>2</td>\n",
              "      <td>11</td>\n",
              "    </tr>\n",
              "  </tbody>\n",
              "</table>\n",
              "<p>100 rows × 6 columns</p>\n",
              "</div>\n",
              "      <button class=\"colab-df-convert\" onclick=\"convertToInteractive('df-b21e97d4-587d-497a-b850-8c6a807e4a89')\"\n",
              "              title=\"Convert this dataframe to an interactive table.\"\n",
              "              style=\"display:none;\">\n",
              "        \n",
              "  <svg xmlns=\"http://www.w3.org/2000/svg\" height=\"24px\"viewBox=\"0 0 24 24\"\n",
              "       width=\"24px\">\n",
              "    <path d=\"M0 0h24v24H0V0z\" fill=\"none\"/>\n",
              "    <path d=\"M18.56 5.44l.94 2.06.94-2.06 2.06-.94-2.06-.94-.94-2.06-.94 2.06-2.06.94zm-11 1L8.5 8.5l.94-2.06 2.06-.94-2.06-.94L8.5 2.5l-.94 2.06-2.06.94zm10 10l.94 2.06.94-2.06 2.06-.94-2.06-.94-.94-2.06-.94 2.06-2.06.94z\"/><path d=\"M17.41 7.96l-1.37-1.37c-.4-.4-.92-.59-1.43-.59-.52 0-1.04.2-1.43.59L10.3 9.45l-7.72 7.72c-.78.78-.78 2.05 0 2.83L4 21.41c.39.39.9.59 1.41.59.51 0 1.02-.2 1.41-.59l7.78-7.78 2.81-2.81c.8-.78.8-2.07 0-2.86zM5.41 20L4 18.59l7.72-7.72 1.47 1.35L5.41 20z\"/>\n",
              "  </svg>\n",
              "      </button>\n",
              "      \n",
              "  <style>\n",
              "    .colab-df-container {\n",
              "      display:flex;\n",
              "      flex-wrap:wrap;\n",
              "      gap: 12px;\n",
              "    }\n",
              "\n",
              "    .colab-df-convert {\n",
              "      background-color: #E8F0FE;\n",
              "      border: none;\n",
              "      border-radius: 50%;\n",
              "      cursor: pointer;\n",
              "      display: none;\n",
              "      fill: #1967D2;\n",
              "      height: 32px;\n",
              "      padding: 0 0 0 0;\n",
              "      width: 32px;\n",
              "    }\n",
              "\n",
              "    .colab-df-convert:hover {\n",
              "      background-color: #E2EBFA;\n",
              "      box-shadow: 0px 1px 2px rgba(60, 64, 67, 0.3), 0px 1px 3px 1px rgba(60, 64, 67, 0.15);\n",
              "      fill: #174EA6;\n",
              "    }\n",
              "\n",
              "    [theme=dark] .colab-df-convert {\n",
              "      background-color: #3B4455;\n",
              "      fill: #D2E3FC;\n",
              "    }\n",
              "\n",
              "    [theme=dark] .colab-df-convert:hover {\n",
              "      background-color: #434B5C;\n",
              "      box-shadow: 0px 1px 3px 1px rgba(0, 0, 0, 0.15);\n",
              "      filter: drop-shadow(0px 1px 2px rgba(0, 0, 0, 0.3));\n",
              "      fill: #FFFFFF;\n",
              "    }\n",
              "  </style>\n",
              "\n",
              "      <script>\n",
              "        const buttonEl =\n",
              "          document.querySelector('#df-b21e97d4-587d-497a-b850-8c6a807e4a89 button.colab-df-convert');\n",
              "        buttonEl.style.display =\n",
              "          google.colab.kernel.accessAllowed ? 'block' : 'none';\n",
              "\n",
              "        async function convertToInteractive(key) {\n",
              "          const element = document.querySelector('#df-b21e97d4-587d-497a-b850-8c6a807e4a89');\n",
              "          const dataTable =\n",
              "            await google.colab.kernel.invokeFunction('convertToInteractive',\n",
              "                                                     [key], {});\n",
              "          if (!dataTable) return;\n",
              "\n",
              "          const docLinkHtml = 'Like what you see? Visit the ' +\n",
              "            '<a target=\"_blank\" href=https://colab.research.google.com/notebooks/data_table.ipynb>data table notebook</a>'\n",
              "            + ' to learn more about interactive tables.';\n",
              "          element.innerHTML = '';\n",
              "          dataTable['output_type'] = 'display_data';\n",
              "          await google.colab.output.renderOutput(dataTable, element);\n",
              "          const docLink = document.createElement('div');\n",
              "          docLink.innerHTML = docLinkHtml;\n",
              "          element.appendChild(docLink);\n",
              "        }\n",
              "      </script>\n",
              "    </div>\n",
              "  </div>\n",
              "  "
            ]
          },
          "metadata": {},
          "execution_count": 7
        }
      ],
      "source": [
        "# so we have here is existing infrastructure and we need to model the different data points(supply) \n",
        "#that goes with the demand points\n",
        "supply_points_existing = pd.read_csv(\"./exisiting_EV_infrastructure_2018.csv\")\n",
        "supply_points_existing"
      ]
    },
    {
      "cell_type": "code",
      "execution_count": 8,
      "metadata": {
        "colab": {
          "base_uri": "https://localhost:8080/",
          "height": 285
        },
        "id": "LsZMtS50saQh",
        "outputId": "187b7183-3a2f-4ff7-931a-c3c0f2d3c4c4"
      },
      "outputs": [
        {
          "output_type": "execute_result",
          "data": {
            "text/plain": [
              "   Unnamed: 0  demand_point_index  x_coordinate  y_coordinate      2010  \\\n",
              "0           0                   0           0.5           0.5  0.352242   \n",
              "1           1                   1           1.5           0.5  0.325940   \n",
              "2           2                   2           2.5           0.5  0.373752   \n",
              "3           3                   3           3.5           0.5  0.420686   \n",
              "4           4                   4           4.5           0.5  0.475621   \n",
              "\n",
              "       2011      2012      2013      2014      2015      2016       2017  \\\n",
              "0  0.667932  0.958593  2.911901  4.338274  6.561995  8.454417  10.595324   \n",
              "1  0.591964  0.862652  2.589068  4.196034  5.745551  8.753195  11.126995   \n",
              "2  0.591890  0.969733  2.641432  3.541772  5.469161  8.414627  10.115336   \n",
              "3  0.584055  0.906547  2.378577  3.888121  5.846089  9.083868  12.424885   \n",
              "4  0.647940  0.981544  2.665400  4.218711  6.776609  8.851107  11.731131   \n",
              "\n",
              "        2018       2019       2020  \n",
              "0  13.119572  13.620020  15.278241  \n",
              "1  12.020091  13.244549  14.866537  \n",
              "2  14.018254  13.531706  15.212803  \n",
              "3  15.012302  15.092051  16.987237  \n",
              "4  16.355563  15.574265  17.517926  "
            ],
            "text/html": [
              "\n",
              "  <div id=\"df-5ebf3278-123b-4872-95f4-74e57cde0189\">\n",
              "    <div class=\"colab-df-container\">\n",
              "      <div>\n",
              "<style scoped>\n",
              "    .dataframe tbody tr th:only-of-type {\n",
              "        vertical-align: middle;\n",
              "    }\n",
              "\n",
              "    .dataframe tbody tr th {\n",
              "        vertical-align: top;\n",
              "    }\n",
              "\n",
              "    .dataframe thead th {\n",
              "        text-align: right;\n",
              "    }\n",
              "</style>\n",
              "<table border=\"1\" class=\"dataframe\">\n",
              "  <thead>\n",
              "    <tr style=\"text-align: right;\">\n",
              "      <th></th>\n",
              "      <th>Unnamed: 0</th>\n",
              "      <th>demand_point_index</th>\n",
              "      <th>x_coordinate</th>\n",
              "      <th>y_coordinate</th>\n",
              "      <th>2010</th>\n",
              "      <th>2011</th>\n",
              "      <th>2012</th>\n",
              "      <th>2013</th>\n",
              "      <th>2014</th>\n",
              "      <th>2015</th>\n",
              "      <th>2016</th>\n",
              "      <th>2017</th>\n",
              "      <th>2018</th>\n",
              "      <th>2019</th>\n",
              "      <th>2020</th>\n",
              "    </tr>\n",
              "  </thead>\n",
              "  <tbody>\n",
              "    <tr>\n",
              "      <th>0</th>\n",
              "      <td>0</td>\n",
              "      <td>0</td>\n",
              "      <td>0.5</td>\n",
              "      <td>0.5</td>\n",
              "      <td>0.352242</td>\n",
              "      <td>0.667932</td>\n",
              "      <td>0.958593</td>\n",
              "      <td>2.911901</td>\n",
              "      <td>4.338274</td>\n",
              "      <td>6.561995</td>\n",
              "      <td>8.454417</td>\n",
              "      <td>10.595324</td>\n",
              "      <td>13.119572</td>\n",
              "      <td>13.620020</td>\n",
              "      <td>15.278241</td>\n",
              "    </tr>\n",
              "    <tr>\n",
              "      <th>1</th>\n",
              "      <td>1</td>\n",
              "      <td>1</td>\n",
              "      <td>1.5</td>\n",
              "      <td>0.5</td>\n",
              "      <td>0.325940</td>\n",
              "      <td>0.591964</td>\n",
              "      <td>0.862652</td>\n",
              "      <td>2.589068</td>\n",
              "      <td>4.196034</td>\n",
              "      <td>5.745551</td>\n",
              "      <td>8.753195</td>\n",
              "      <td>11.126995</td>\n",
              "      <td>12.020091</td>\n",
              "      <td>13.244549</td>\n",
              "      <td>14.866537</td>\n",
              "    </tr>\n",
              "    <tr>\n",
              "      <th>2</th>\n",
              "      <td>2</td>\n",
              "      <td>2</td>\n",
              "      <td>2.5</td>\n",
              "      <td>0.5</td>\n",
              "      <td>0.373752</td>\n",
              "      <td>0.591890</td>\n",
              "      <td>0.969733</td>\n",
              "      <td>2.641432</td>\n",
              "      <td>3.541772</td>\n",
              "      <td>5.469161</td>\n",
              "      <td>8.414627</td>\n",
              "      <td>10.115336</td>\n",
              "      <td>14.018254</td>\n",
              "      <td>13.531706</td>\n",
              "      <td>15.212803</td>\n",
              "    </tr>\n",
              "    <tr>\n",
              "      <th>3</th>\n",
              "      <td>3</td>\n",
              "      <td>3</td>\n",
              "      <td>3.5</td>\n",
              "      <td>0.5</td>\n",
              "      <td>0.420686</td>\n",
              "      <td>0.584055</td>\n",
              "      <td>0.906547</td>\n",
              "      <td>2.378577</td>\n",
              "      <td>3.888121</td>\n",
              "      <td>5.846089</td>\n",
              "      <td>9.083868</td>\n",
              "      <td>12.424885</td>\n",
              "      <td>15.012302</td>\n",
              "      <td>15.092051</td>\n",
              "      <td>16.987237</td>\n",
              "    </tr>\n",
              "    <tr>\n",
              "      <th>4</th>\n",
              "      <td>4</td>\n",
              "      <td>4</td>\n",
              "      <td>4.5</td>\n",
              "      <td>0.5</td>\n",
              "      <td>0.475621</td>\n",
              "      <td>0.647940</td>\n",
              "      <td>0.981544</td>\n",
              "      <td>2.665400</td>\n",
              "      <td>4.218711</td>\n",
              "      <td>6.776609</td>\n",
              "      <td>8.851107</td>\n",
              "      <td>11.731131</td>\n",
              "      <td>16.355563</td>\n",
              "      <td>15.574265</td>\n",
              "      <td>17.517926</td>\n",
              "    </tr>\n",
              "  </tbody>\n",
              "</table>\n",
              "</div>\n",
              "      <button class=\"colab-df-convert\" onclick=\"convertToInteractive('df-5ebf3278-123b-4872-95f4-74e57cde0189')\"\n",
              "              title=\"Convert this dataframe to an interactive table.\"\n",
              "              style=\"display:none;\">\n",
              "        \n",
              "  <svg xmlns=\"http://www.w3.org/2000/svg\" height=\"24px\"viewBox=\"0 0 24 24\"\n",
              "       width=\"24px\">\n",
              "    <path d=\"M0 0h24v24H0V0z\" fill=\"none\"/>\n",
              "    <path d=\"M18.56 5.44l.94 2.06.94-2.06 2.06-.94-2.06-.94-.94-2.06-.94 2.06-2.06.94zm-11 1L8.5 8.5l.94-2.06 2.06-.94-2.06-.94L8.5 2.5l-.94 2.06-2.06.94zm10 10l.94 2.06.94-2.06 2.06-.94-2.06-.94-.94-2.06-.94 2.06-2.06.94z\"/><path d=\"M17.41 7.96l-1.37-1.37c-.4-.4-.92-.59-1.43-.59-.52 0-1.04.2-1.43.59L10.3 9.45l-7.72 7.72c-.78.78-.78 2.05 0 2.83L4 21.41c.39.39.9.59 1.41.59.51 0 1.02-.2 1.41-.59l7.78-7.78 2.81-2.81c.8-.78.8-2.07 0-2.86zM5.41 20L4 18.59l7.72-7.72 1.47 1.35L5.41 20z\"/>\n",
              "  </svg>\n",
              "      </button>\n",
              "      \n",
              "  <style>\n",
              "    .colab-df-container {\n",
              "      display:flex;\n",
              "      flex-wrap:wrap;\n",
              "      gap: 12px;\n",
              "    }\n",
              "\n",
              "    .colab-df-convert {\n",
              "      background-color: #E8F0FE;\n",
              "      border: none;\n",
              "      border-radius: 50%;\n",
              "      cursor: pointer;\n",
              "      display: none;\n",
              "      fill: #1967D2;\n",
              "      height: 32px;\n",
              "      padding: 0 0 0 0;\n",
              "      width: 32px;\n",
              "    }\n",
              "\n",
              "    .colab-df-convert:hover {\n",
              "      background-color: #E2EBFA;\n",
              "      box-shadow: 0px 1px 2px rgba(60, 64, 67, 0.3), 0px 1px 3px 1px rgba(60, 64, 67, 0.15);\n",
              "      fill: #174EA6;\n",
              "    }\n",
              "\n",
              "    [theme=dark] .colab-df-convert {\n",
              "      background-color: #3B4455;\n",
              "      fill: #D2E3FC;\n",
              "    }\n",
              "\n",
              "    [theme=dark] .colab-df-convert:hover {\n",
              "      background-color: #434B5C;\n",
              "      box-shadow: 0px 1px 3px 1px rgba(0, 0, 0, 0.15);\n",
              "      filter: drop-shadow(0px 1px 2px rgba(0, 0, 0, 0.3));\n",
              "      fill: #FFFFFF;\n",
              "    }\n",
              "  </style>\n",
              "\n",
              "      <script>\n",
              "        const buttonEl =\n",
              "          document.querySelector('#df-5ebf3278-123b-4872-95f4-74e57cde0189 button.colab-df-convert');\n",
              "        buttonEl.style.display =\n",
              "          google.colab.kernel.accessAllowed ? 'block' : 'none';\n",
              "\n",
              "        async function convertToInteractive(key) {\n",
              "          const element = document.querySelector('#df-5ebf3278-123b-4872-95f4-74e57cde0189');\n",
              "          const dataTable =\n",
              "            await google.colab.kernel.invokeFunction('convertToInteractive',\n",
              "                                                     [key], {});\n",
              "          if (!dataTable) return;\n",
              "\n",
              "          const docLinkHtml = 'Like what you see? Visit the ' +\n",
              "            '<a target=\"_blank\" href=https://colab.research.google.com/notebooks/data_table.ipynb>data table notebook</a>'\n",
              "            + ' to learn more about interactive tables.';\n",
              "          element.innerHTML = '';\n",
              "          dataTable['output_type'] = 'display_data';\n",
              "          await google.colab.output.renderOutput(dataTable, element);\n",
              "          const docLink = document.createElement('div');\n",
              "          docLink.innerHTML = docLinkHtml;\n",
              "          element.appendChild(docLink);\n",
              "        }\n",
              "      </script>\n",
              "    </div>\n",
              "  </div>\n",
              "  "
            ]
          },
          "metadata": {},
          "execution_count": 8
        }
      ],
      "source": [
        "demand=pd.read_csv(\"./Demand_History_using_linear.csv\")\n",
        "demand.head()"
      ]
    },
    {
      "cell_type": "code",
      "execution_count": 9,
      "metadata": {
        "colab": {
          "base_uri": "https://localhost:8080/"
        },
        "id": "wjRRrwnhY2DI",
        "outputId": "2fb060e5-bd4d-4288-95e1-6fa1c6ae6cc7"
      },
      "outputs": [
        {
          "output_type": "execute_result",
          "data": {
            "text/plain": [
              "361529.6365968907"
            ]
          },
          "metadata": {},
          "execution_count": 9
        }
      ],
      "source": [
        "demand_2018 = demand[\"2018\"].to_numpy()\n",
        "np.sum(demand_2018) # 2018 EXISTING DEMAND"
      ]
    },
    {
      "cell_type": "code",
      "source": [
        "demand_2019 = demand[\"2019\"]"
      ],
      "metadata": {
        "id": "xDH0Jxn7ze35"
      },
      "execution_count": 10,
      "outputs": []
    },
    {
      "cell_type": "code",
      "execution_count": 11,
      "metadata": {
        "id": "hDBSuU_ZIUXa"
      },
      "outputs": [],
      "source": [
        "#distance matrix between demand points and supply points\n",
        "xs=np.array(supply_points_existing[\"x_coordinate\"])\n",
        "ys=np.array(supply_points_existing[\"y_coordinate\"])\n",
        "xd=np.array(demand[\"x_coordinate\"])\n",
        "yd=np.array(demand[\"y_coordinate\"])\n",
        "dist=np.zeros((100,4096))\n",
        "\n",
        "for i in range(100):\n",
        "    for j in range(4096):\n",
        "        dist[i][j]=(((xs[i]-xd[j])**2)+((ys[i]-yd[j])**2))**0.5\n",
        "\n",
        "dist=dist.T"
      ]
    },
    {
      "cell_type": "code",
      "execution_count": 12,
      "metadata": {
        "id": "z85trJBk_w2Q"
      },
      "outputs": [],
      "source": [
        "SCS = supply_points_existing[\"existing_num_SCS\"].to_numpy()\n",
        "FCS = supply_points_existing[\"existing_num_FCS\"].to_numpy()\n",
        "parking_slots = supply_points_existing[\"total_parking_slots\"].to_numpy()"
      ]
    },
    {
      "cell_type": "code",
      "execution_count": 13,
      "metadata": {
        "colab": {
          "base_uri": "https://localhost:8080/"
        },
        "id": "nXGYmXoFZo9t",
        "outputId": "322c28fe-671d-4c9a-f89c-ec4b9e84d60a"
      },
      "outputs": [
        {
          "output_type": "execute_result",
          "data": {
            "text/plain": [
              "361600"
            ]
          },
          "metadata": {},
          "execution_count": 13
        }
      ],
      "source": [
        "np.sum(200*SCS + 400*FCS) # EXISTING SUPPLY"
      ]
    },
    {
      "cell_type": "markdown",
      "source": [
        "2019"
      ],
      "metadata": {
        "id": "ZYm7GnjPzpeR"
      }
    },
    {
      "cell_type": "code",
      "execution_count": 14,
      "metadata": {
        "colab": {
          "base_uri": "https://localhost:8080/"
        },
        "id": "hDKzGNplTOsy",
        "outputId": "3eae2c26-8a5b-41a1-8d51-1d54ece48caa"
      },
      "outputs": [
        {
          "output_type": "stream",
          "name": "stderr",
          "text": [
            "/usr/local/lib/python3.7/dist-packages/pulp/pulp.py:1352: UserWarning: Spaces are not permitted in the name. Converted to '_'\n",
            "  warnings.warn(\"Spaces are not permitted in the name. Converted to '_'\")\n"
          ]
        }
      ],
      "source": [
        "# Create the 'prob' variable to contain the problem data\n",
        "prob = LpProblem(\"The EV problem\", LpMinimize)\n",
        "\n",
        "# setting up the required LP variables in the problems\n",
        "supply_vars_SCS = LpVariable.dict(\"SCS\", (range(100)), 0,None, cat=LpInteger) # minimum value is zero(constraint - 1)\n",
        "supply_vars_FCS = LpVariable.dict(\"FCS\", (range(100)), 0,None, cat=LpInteger) # minimum value is zero ( constraint - 1)\n",
        "demand_supply_matrix = LpVariable.dict(\"Demand\", (range(4096),range(100)), 0,None, cat=LpContinuous) \n",
        "# demand is varying continuously as given in the data (constraint 1+2)"
      ]
    },
    {
      "cell_type": "code",
      "execution_count": 15,
      "metadata": {
        "colab": {
          "base_uri": "https://localhost:8080/"
        },
        "id": "MGLrgBek82FB",
        "outputId": "805c2938-a6a0-4466-f5dd-9bb127b9e2c9"
      },
      "outputs": [
        {
          "output_type": "execute_result",
          "data": {
            "text/plain": [
              "409600"
            ]
          },
          "metadata": {},
          "execution_count": 15
        }
      ],
      "source": [
        "np.size(dist)"
      ]
    },
    {
      "cell_type": "code",
      "execution_count": 16,
      "metadata": {
        "id": "t09mkHsUgm9r"
      },
      "outputs": [],
      "source": [
        "demand_supply_matrix[0,1].value()"
      ]
    },
    {
      "cell_type": "code",
      "execution_count": 17,
      "metadata": {
        "id": "XIzDAaR7hHHg"
      },
      "outputs": [],
      "source": [
        "# The objective function is added to 'prob' first\n",
        "prob += (\n",
        "    lpSum([\n",
        "          [\n",
        "            (dist[i][j]*(demand_supply_matrix[i,j])) \n",
        "            for i in range(4096)] for j in range(100)\n",
        "         ]\n",
        "    )+\n",
        "        lpSum([\n",
        "          \n",
        "            ((supply_vars_SCS[j] + 1.5*supply_vars_FCS[j])) \n",
        "             for j in range(100)\n",
        "         ]\n",
        "        ), \n",
        "    \"Total Cost Function\",\n",
        ")"
      ]
    },
    {
      "cell_type": "code",
      "execution_count": 18,
      "metadata": {
        "id": "BRrGfP9GYKf0"
      },
      "outputs": [],
      "source": [
        "# 3) Sum of FCS and SCS at jth point must be less than the total parking slots at the point\n",
        "for j in range(100):\n",
        "  prob += (\n",
        "    lpSum(supply_vars_SCS[j] + supply_vars_FCS[j]) <= parking_slots[j],\n",
        "    f\"Parking_max {j}\",\n",
        "  )"
      ]
    },
    {
      "cell_type": "code",
      "execution_count": 19,
      "metadata": {
        "id": "CKXEO2xTEP1A"
      },
      "outputs": [],
      "source": [
        "# Now we are defining the constraints to the problem here that are needed to be solved \n",
        "# 4) the infrastructure needs to be built on the existing infrastructure\n",
        "for j in range(100):\n",
        "  prob += (\n",
        "    supply_vars_SCS[j] >= SCS[j],\n",
        "    f\"SCS_min_{j}\",\n",
        "  ) \n",
        "for j in range(100):\n",
        "  prob += (\n",
        "    supply_vars_FCS[j] >= FCS[j],\n",
        "    f\"FCS_min_{j}\",\n",
        "  )"
      ]
    },
    {
      "cell_type": "code",
      "execution_count": 20,
      "metadata": {
        "id": "TVOqEoJGeYB5"
      },
      "outputs": [],
      "source": [
        "# 5) Demand satisfed by each jth supply point should be less than or equal to the maximum supply available\n",
        "for j in range(100):\n",
        "  prob += (\n",
        "   lpSum(200*supply_vars_SCS[j] + 400*supply_vars_FCS[j]) - lpSum([demand_supply_matrix[i,j] for i in range(4096)])>= 0.001,\n",
        "   f\"demand_{j}\",\n",
        "  ) "
      ]
    },
    {
      "cell_type": "code",
      "execution_count": 21,
      "metadata": {
        "id": "8eDZ1W_oXZIs"
      },
      "outputs": [],
      "source": [
        "# 6) Demand satisfed by each ith point should equal to the demand at the time\n",
        "for i in range(4096):\n",
        "  prob += (\n",
        "    lpSum([demand_supply_matrix[i,j] for j in range(100)]) == demand_2019[i],\n",
        "    f\"demand_match_{i}\",\n",
        "  ) "
      ]
    },
    {
      "cell_type": "code",
      "execution_count": null,
      "metadata": {
        "id": "rDBhtLNbiHIT"
      },
      "outputs": [],
      "source": [
        "prob.solve()"
      ]
    },
    {
      "cell_type": "code",
      "execution_count": null,
      "metadata": {
        "id": "OR5Bx0irM5AE"
      },
      "outputs": [],
      "source": [
        "demand_supply_matrix_2019 = np.zeros((4096,100))\n",
        "for i in range(4096):\n",
        "  for j in range(100):\n",
        "    demand_supply_matrix_2019[i][j] = demand_supply_matrix[i,j].value()"
      ]
    },
    {
      "cell_type": "code",
      "execution_count": null,
      "metadata": {
        "id": "fj8Wdl4dNqfp"
      },
      "outputs": [],
      "source": [
        "np.sum(demand_supply_matrix_2019)"
      ]
    },
    {
      "cell_type": "code",
      "execution_count": null,
      "metadata": {
        "id": "m3nW4FwzTm-8"
      },
      "outputs": [],
      "source": [
        "SCS_2019 = np.zeros(100)\n",
        "FCS_2019 = np.zeros(100)\n",
        "for i in range(100):\n",
        "    SCS_2019[i] = supply_vars_SCS[i].value()\n",
        "for i in range(100):\n",
        "    FCS_2019[i] = supply_vars_FCS[i].value()"
      ]
    },
    {
      "cell_type": "code",
      "execution_count": null,
      "metadata": {
        "id": "rlfCCpI0lBqr"
      },
      "outputs": [],
      "source": [
        "np.sum(200*SCS_2019 + 400*FCS_2019)"
      ]
    },
    {
      "cell_type": "code",
      "execution_count": null,
      "metadata": {
        "id": "-sMGsV_Zl4ec"
      },
      "outputs": [],
      "source": [
        "# Value of cost function I got here\n",
        "cost_2019 = 0\n",
        "for i in range(4096):\n",
        "  for j in range(100):\n",
        "      cost_2019 += (dist[i][j]*(demand_supply_matrix_2019[i][j])) \n",
        "for j in range(100):\n",
        "  cost_2019 += 600*(SCS_2019[j] + 1.5*FCS_2019[j])\n"
      ]
    },
    {
      "cell_type": "code",
      "execution_count": null,
      "metadata": {
        "id": "ov_aaUPNmuiY"
      },
      "outputs": [],
      "source": [
        "cost_2019"
      ]
    },
    {
      "cell_type": "code",
      "execution_count": null,
      "metadata": {
        "id": "XuLeE8FBm2_E"
      },
      "outputs": [],
      "source": [
        "score_2018 = max(10, 100 - ((90*cost_2019)/15000000))\n",
        "score_2018"
      ]
    },
    {
      "cell_type": "markdown",
      "source": [
        "Constraint-5 correction"
      ],
      "metadata": {
        "id": "NdxoWAGSpAm-"
      }
    },
    {
      "cell_type": "code",
      "source": [
        "# 5) Demand satisfed by each jth supply point should be less than or equal to the maximum supply available\n",
        "constraint_5 = True\n",
        "constraint_5_array = []\n",
        "for j in range(100):\n",
        "  if np.sum(demand_supply_matrix_2019[i][j] for i in range(4096)) > (200*SCS_2019[j]+400*FCS_2019[j]):\n",
        "    constraint_5 = False\n",
        "    print(j)\n",
        "    constraint_5_array.append(j)"
      ],
      "metadata": {
        "id": "5Bgp8L4SfhSG"
      },
      "execution_count": null,
      "outputs": []
    },
    {
      "cell_type": "code",
      "source": [
        "len(demand_supply_matrix_2019[4095])"
      ],
      "metadata": {
        "id": "EWGmOsnTj9Ni"
      },
      "execution_count": null,
      "outputs": []
    },
    {
      "cell_type": "code",
      "source": [
        "j = 64\n",
        "np.sum(demand_supply_matrix_2019[i][j] for i in range(4096))"
      ],
      "metadata": {
        "id": "pNKWJ_tmkvv7"
      },
      "execution_count": null,
      "outputs": []
    },
    {
      "cell_type": "code",
      "source": [
        "(200*SCS_2019[j]+400*FCS_2019[j])"
      ],
      "metadata": {
        "id": "0qc7qa97oKKL"
      },
      "execution_count": null,
      "outputs": []
    },
    {
      "cell_type": "code",
      "source": [
        "for j in constraint_5_array:\n",
        "  for i in range(4096):\n",
        "    if (demand_supply_matrix_2019[i][j] > 0):\n",
        "      demand_supply_matrix_2019[i][j] -= 0.5\n",
        "      break"
      ],
      "metadata": {
        "id": "mc1uXDKXptIN"
      },
      "execution_count": null,
      "outputs": []
    },
    {
      "cell_type": "code",
      "source": [
        "constraint_5"
      ],
      "metadata": {
        "id": "auLgdA1-kqmG"
      },
      "execution_count": null,
      "outputs": []
    },
    {
      "cell_type": "code",
      "source": [
        "# 5) Demand satisfed by each jth supply point should be less than or equal to the maximum supply available\n",
        "constraint_5 = True\n",
        "constraint_5_array = []\n",
        "for j in range(100):\n",
        "  if np.sum(demand_supply_matrix_2019[i][j] for i in range(4096)) > (200*SCS_2019[j]+400*FCS_2019[j]):\n",
        "    constraint_5 = False\n",
        "    print(j)\n",
        "    constraint_5_array.append(j)"
      ],
      "metadata": {
        "id": "eY2CdJEPOwX5"
      },
      "execution_count": null,
      "outputs": []
    },
    {
      "cell_type": "markdown",
      "source": [
        "Checking constraints"
      ],
      "metadata": {
        "id": "P7N_nAqCpcr1"
      }
    },
    {
      "cell_type": "code",
      "source": [
        "# 1st and 2nd constraints must be true as they are initialized using bounded conditions(0-Infinity)"
      ],
      "metadata": {
        "id": "oHbnnzXbiBf0"
      },
      "execution_count": null,
      "outputs": []
    },
    {
      "cell_type": "code",
      "source": [
        "constraint_1 = True\n",
        "for i in SCS_2019:\n",
        "  if i<0:\n",
        "    constraint_1 = False\n",
        "    print(i)\n",
        "for i in FCS_2019:\n",
        "  if i<0:\n",
        "    constraint_1 = False\n",
        "    print(i)"
      ],
      "metadata": {
        "id": "Ch_Exh6wLUJ4"
      },
      "execution_count": null,
      "outputs": []
    },
    {
      "cell_type": "code",
      "source": [
        "constraint_2 = True\n",
        "for i in range(4096):\n",
        "  for j in range(100):\n",
        "    if demand_supply_matrix_2019[i][j] < 0:\n",
        "      constraint_2 = False\n",
        "      print(i,j)"
      ],
      "metadata": {
        "id": "j38jJNF9MJeQ"
      },
      "execution_count": null,
      "outputs": []
    },
    {
      "cell_type": "code",
      "source": [
        "# checking constraints\n",
        "# 3) Sum of FCS and SCS at jth point must be less than the total parking slots at the point\n",
        "constraint_3 = True\n",
        "for i in range(100):\n",
        "  if (SCS_2019[i] + FCS_2019[i]) > parking_slots[i]:\n",
        "    constraint_3 = False\n",
        "    print(i)"
      ],
      "metadata": {
        "id": "OY_kKEMqbh5d"
      },
      "execution_count": null,
      "outputs": []
    },
    {
      "cell_type": "code",
      "source": [
        "# 4) the infrastructure needs to be built on the existing infrastructure\n",
        "constraint_4 = True\n",
        "for i in range(100):\n",
        "  if (SCS_2019[i] < SCS[i]) or (FCS_2019[i] < FCS[i]):\n",
        "    constraint_4 = False\n",
        "    print(i)"
      ],
      "metadata": {
        "id": "yGK4NeJFfJuh"
      },
      "execution_count": null,
      "outputs": []
    },
    {
      "cell_type": "code",
      "source": [
        "# 5) Demand satisfed by each jth supply point should be less than or equal to the maximum supply available\n",
        "constraint_5 = True\n",
        "constraint_5_array = []\n",
        "for j in range(100):\n",
        "  if np.sum(demand_supply_matrix_2019[i][j] for i in range(4096)) > (200*SCS_2019[j]+400*FCS_2019[j]):\n",
        "    constraint_5 = False"
      ],
      "metadata": {
        "id": "CBpIZPWyPBNg"
      },
      "execution_count": null,
      "outputs": []
    },
    {
      "cell_type": "code",
      "source": [
        "# 6) Demand satisfed by each ith point should equal to the demand at the time\n",
        "constraint_6 = True\n",
        "for i in range(4096):\n",
        "  if (np.sum(demand_supply_matrix_2019[i][j] for j in range(100)) != demand_2019[i]):\n",
        "    constraint_6 = False\n",
        "    print(i)"
      ],
      "metadata": {
        "id": "ABSbuS6dgWoF"
      },
      "execution_count": null,
      "outputs": []
    },
    {
      "cell_type": "code",
      "source": [
        "print(\"constraint 1:\",constraint_1)\n",
        "print(\"constraint 2:\",constraint_2)\n",
        "print(\"constraint 3:\",constraint_3)\n",
        "print(\"constraint 4:\",constraint_4)\n",
        "print(\"constraint 5:\",constraint_5)\n",
        "print(\"constraint 6:\",constraint_6)"
      ],
      "metadata": {
        "id": "EGlrCt6qi34f"
      },
      "execution_count": null,
      "outputs": []
    },
    {
      "cell_type": "markdown",
      "source": [
        "2020"
      ],
      "metadata": {
        "id": "cYcyJBGh0pKB"
      }
    },
    {
      "cell_type": "code",
      "source": [
        "# Create the 'prob' variable to contain the problem data\n",
        "prob = LpProblem(\"The EV problem-2\", LpMinimize)\n",
        "\n",
        "# setting up the required LP variables in the problems\n",
        "supply_vars_SCS = LpVariable.dict(\"SCS\", (range(100)), 0,None, cat=LpInteger) # minimum value is zero(constraint - 1)\n",
        "supply_vars_FCS = LpVariable.dict(\"FCS\", (range(100)), 0,None, cat=LpInteger) # minimum value is zero ( constraint - 1)\n",
        "demand_supply_matrix = LpVariable.dict(\"Demand\", (range(4096),range(100)), 0,None, cat=LpContinuous) \n",
        "# demand is varying continuously as given in the data (constraint 1+2)"
      ],
      "metadata": {
        "id": "gO30SmRu0otp"
      },
      "execution_count": null,
      "outputs": []
    },
    {
      "cell_type": "code",
      "source": [
        "# The objective function is added to 'prob' first\n",
        "prob += (\n",
        "    lpSum([\n",
        "          [\n",
        "            (dist[i][j]*(demand_supply_matrix[i,j])) \n",
        "            for i in range(4096)] for j in range(100)\n",
        "         ]\n",
        "    )+\n",
        "        lpSum([\n",
        "          \n",
        "            ((supply_vars_SCS[j] + 1.5*supply_vars_FCS[j])) \n",
        "             for j in range(100)\n",
        "         ]\n",
        "        ), \n",
        "    \"Total Cost Function\",\n",
        ")"
      ],
      "metadata": {
        "id": "R35NPhrt1TmZ"
      },
      "execution_count": null,
      "outputs": []
    },
    {
      "cell_type": "code",
      "source": [
        "# 3) Sum of FCS and SCS at jth point must be less than the total parking slots at the point\n",
        "for j in range(100):\n",
        "  prob += (\n",
        "    lpSum(supply_vars_SCS[j] + supply_vars_FCS[j]) <= parking_slots[j],\n",
        "    f\"Parking_max {j}\",\n",
        "  )"
      ],
      "metadata": {
        "id": "KqKfY-YI1XLn"
      },
      "execution_count": null,
      "outputs": []
    },
    {
      "cell_type": "code",
      "source": [
        "# Now we are defining the constraints to the problem here that are needed to be solved \n",
        "# 4) the infrastructure needs to be built on the existing infrastructure\n",
        "for j in range(100):\n",
        "  prob += (\n",
        "    supply_vars_SCS[j] >= SCS_2019[j],\n",
        "    f\"SCS_min_{j}\",\n",
        "  ) \n",
        "for j in range(100):\n",
        "  prob += (\n",
        "    supply_vars_FCS[j] >= FCS_2019[j],\n",
        "    f\"FCS_min_{j}\",\n",
        "  )"
      ],
      "metadata": {
        "id": "VMiWSEZ51aQM"
      },
      "execution_count": null,
      "outputs": []
    },
    {
      "cell_type": "code",
      "source": [
        "# 5) Demand satisfed by each jth supply point should be less than or equal to the maximum supply available\n",
        "for j in range(100):\n",
        "  prob += (\n",
        "   lpSum([demand_supply_matrix[i,j] for i in range(4096)]) - \n",
        "   lpSum(200*supply_vars_SCS[j] + 400*supply_vars_FCS[j]) <= 0.001,\n",
        "   f\"demand_{j}\",\n",
        "  ) "
      ],
      "metadata": {
        "id": "-qZzC1D_1dhS"
      },
      "execution_count": null,
      "outputs": []
    },
    {
      "cell_type": "code",
      "source": [
        "demand_2020 = demand[\"2020\"]"
      ],
      "metadata": {
        "id": "Al6U5UBb2qLI"
      },
      "execution_count": null,
      "outputs": []
    },
    {
      "cell_type": "code",
      "source": [
        "# 6) Demand satisfed by each ith point should equal to the demand at the time\n",
        "for i in range(4096):\n",
        "  prob += (\n",
        "    lpSum([demand_supply_matrix[i,j] for j in range(100)]) == demand_2020[i],\n",
        "    f\"demand_match_{i}\",\n",
        "  ) "
      ],
      "metadata": {
        "id": "SgYhh_rl1gbA"
      },
      "execution_count": null,
      "outputs": []
    },
    {
      "cell_type": "code",
      "source": [
        "prob.solve()"
      ],
      "metadata": {
        "id": "o0aPC9Ws1mLf"
      },
      "execution_count": null,
      "outputs": []
    },
    {
      "cell_type": "code",
      "source": [
        "demand_supply_matrix_2020 = np.zeros((4096,100))\n",
        "for i in range(4096):\n",
        "  for j in range(100):\n",
        "    demand_supply_matrix_2020[i][j] = demand_supply_matrix[i,j].value()"
      ],
      "metadata": {
        "id": "Ai-ndPpt1mzZ"
      },
      "execution_count": null,
      "outputs": []
    },
    {
      "cell_type": "code",
      "source": [
        "np.sum(demand_supply_matrix_2020)"
      ],
      "metadata": {
        "id": "gKCmH7WD1to3"
      },
      "execution_count": null,
      "outputs": []
    },
    {
      "cell_type": "code",
      "source": [
        "SCS_2020 = np.zeros(100)\n",
        "FCS_2020 = np.zeros(100)\n",
        "for i in range(100):\n",
        "    SCS_2020[i] = supply_vars_SCS[i].value()\n",
        "for i in range(100):\n",
        "    FCS_2020[i] = supply_vars_FCS[i].value()"
      ],
      "metadata": {
        "id": "GlJmEO1M1yRS"
      },
      "execution_count": null,
      "outputs": []
    },
    {
      "cell_type": "code",
      "source": [
        "np.sum(200*SCS_2020 + 400*FCS_2020)"
      ],
      "metadata": {
        "id": "sgpiwl1T108Q"
      },
      "execution_count": null,
      "outputs": []
    },
    {
      "cell_type": "code",
      "source": [
        "# Value of cost function I got here\n",
        "cost_2020 = 0\n",
        "for i in range(4096):\n",
        "  for j in range(100):\n",
        "      cost_2020 += (dist[i][j]*(demand_supply_matrix_2020[i][j])) \n",
        "for j in range(100):\n",
        "  cost_2020 += 600*(SCS_2020[j] + 1.5*FCS_2020[j])\n",
        "cost_2020"
      ],
      "metadata": {
        "id": "2Pk_FOFg14Hf"
      },
      "execution_count": null,
      "outputs": []
    },
    {
      "cell_type": "code",
      "source": [
        "score_2020 = max(10, 100 - ((90*cost_2020)/15000000))\n",
        "score_2020"
      ],
      "metadata": {
        "id": "teq9LH1d3DYI"
      },
      "execution_count": null,
      "outputs": []
    },
    {
      "cell_type": "markdown",
      "source": [
        "Correcting constraint 5:"
      ],
      "metadata": {
        "id": "eWijAMXrMoSJ"
      }
    },
    {
      "cell_type": "code",
      "source": [
        "# 5) Demand satisfed by each jth supply point should be less than or equal to the maximum supply available\n",
        "constraint_5 = True\n",
        "constraint_5_array = []\n",
        "for j in range(100):\n",
        "  if np.sum(demand_supply_matrix_2020[i][j] for i in range(4096)) > (200*SCS_2020[j]+400*FCS_2020[j]):\n",
        "    constraint_5 = False\n",
        "    print(j)\n",
        "    constraint_5_array.append(j)"
      ],
      "metadata": {
        "id": "vPrDBIctMo0P"
      },
      "execution_count": null,
      "outputs": []
    },
    {
      "cell_type": "code",
      "source": [
        "len(demand_supply_matrix_2020[4095])"
      ],
      "metadata": {
        "id": "fhM0r27FMpl1"
      },
      "execution_count": null,
      "outputs": []
    },
    {
      "cell_type": "code",
      "source": [
        "for j in constraint_5_array:\n",
        "  for i in range(4096):\n",
        "    if (demand_supply_matrix_2020[i][j] > 0):\n",
        "      demand_supply_matrix_2020[i][j] -= 0.5\n",
        "      break"
      ],
      "metadata": {
        "id": "w1PSiRDWM07k"
      },
      "execution_count": null,
      "outputs": []
    },
    {
      "cell_type": "code",
      "source": [
        "j = 34\n",
        "np.sum(demand_supply_matrix_2020[i][j] for i in range(4096))"
      ],
      "metadata": {
        "id": "ZtDYZZicMtkO"
      },
      "execution_count": null,
      "outputs": []
    },
    {
      "cell_type": "code",
      "source": [
        "(200*SCS_2020[j]+400*FCS_2020[j])"
      ],
      "metadata": {
        "id": "3ANFcWAvMxfj"
      },
      "execution_count": null,
      "outputs": []
    },
    {
      "cell_type": "markdown",
      "source": [
        "Checking Constraints"
      ],
      "metadata": {
        "id": "V9Y8sLviNEH4"
      }
    },
    {
      "cell_type": "code",
      "source": [
        "# 1st and 2nd constraints must be true as they are initialized using bounded conditions(0-Infinity)\n",
        "constraint_1 = True\n",
        "for i in SCS_2020:\n",
        "  if i<0:\n",
        "    constraint_1 = False\n",
        "    print(i)\n",
        "for i in FCS_2020:\n",
        "  if i<0:\n",
        "    constraint_1 = False\n",
        "    print(i)\n",
        "constraint_2 = True\n",
        "for i in range(4096):\n",
        "  for j in range(100):\n",
        "    if demand_supply_matrix_2020[i][j] < 0:\n",
        "      constraint_2 = False\n",
        "      print(i,j)"
      ],
      "metadata": {
        "id": "dcTvkvUhNOcE"
      },
      "execution_count": null,
      "outputs": []
    },
    {
      "cell_type": "code",
      "source": [
        "# checking constraints\n",
        "# 3) Sum of FCS and SCS at jth point must be less than the total parking slots at the point\n",
        "constraint_3 = True\n",
        "for i in range(100):\n",
        "  if (SCS_2020[i] + FCS_2020[i]) > parking_slots[i]:\n",
        "    constraint_3 = False\n",
        "    print(i)"
      ],
      "metadata": {
        "id": "9U0PiA0viPXq"
      },
      "execution_count": null,
      "outputs": []
    },
    {
      "cell_type": "code",
      "source": [
        "# 4) the infrastructure needs to be built on the existing infrastructure\n",
        "constraint_4 = True\n",
        "for i in range(100):\n",
        "  if (SCS_2020[i] < SCS_2019[i]) or (FCS_2020[i] < FCS_2019[i]):\n",
        "    constraint_4 = False\n",
        "    print(i)"
      ],
      "metadata": {
        "id": "sCHlFVZ2iT-9"
      },
      "execution_count": null,
      "outputs": []
    },
    {
      "cell_type": "code",
      "source": [
        "# 5) Demand satisfed by each jth supply point should be less than or equal to the maximum supply available\n",
        "constraint_5 = True\n",
        "constraint_5_array = []\n",
        "for j in range(100):\n",
        "  if np.sum(demand_supply_matrix_2020[i][j] for i in range(4096)) > (200*SCS_2020[j]+400*FCS_2020[j]):\n",
        "    constraint_5 = False\n",
        "    print(j)\n",
        "    constraint_5_array.append(j)"
      ],
      "metadata": {
        "id": "647t9eWziXlM"
      },
      "execution_count": null,
      "outputs": []
    },
    {
      "cell_type": "code",
      "source": [
        "# 6) Demand satisfed by each ith point should equal to the demand at the time\n",
        "constraint_6 = True\n",
        "for i in range(4096):\n",
        "  if np.sum(demand_supply_matrix_2020[i][j] for j in range(100)) != demand_2020[i]:\n",
        "    constraint_6 = False\n",
        "    print(i)"
      ],
      "metadata": {
        "id": "A266gCS5iahd"
      },
      "execution_count": null,
      "outputs": []
    },
    {
      "cell_type": "code",
      "source": [
        "print(\"constraint 1:\",constraint_1)\n",
        "print(\"constraint 2:\",constraint_2)\n",
        "print(\"constraint 3:\",constraint_3)\n",
        "print(\"constraint 4:\",constraint_4)\n",
        "print(\"constraint 5:\",constraint_5)\n",
        "print(\"constraint 6:\",constraint_6)"
      ],
      "metadata": {
        "id": "SBQB48VviqPF"
      },
      "execution_count": null,
      "outputs": []
    },
    {
      "cell_type": "code",
      "source": [
        "demand"
      ],
      "metadata": {
        "id": "9iU0SU0TCkCA"
      },
      "execution_count": null,
      "outputs": []
    },
    {
      "cell_type": "code",
      "source": [
        "\n",
        "fileh = open(\"submit-10.csv\", \"r+\")\n",
        "fileh.write(\"year,data_type,demand_point_index,supply_point_index,value\\n\")\n",
        "for i in range(100):\n",
        "    fileh.write(f\"2019,SCS,,{i},{int(SCS_2019[i])}\\n\")\n",
        "for i in range(100):\n",
        "    fileh.write(f\"2019,FCS,,{i},{int(FCS_2019[i])}\\n\")\n",
        "for i in range(4096):\n",
        "    for j in range(100):\n",
        "        fileh.write(f\"2019,DS,{i},{j},{demand_supply_matrix_2019[i][j]}\\n\")\n",
        "for i in range(100):\n",
        "    fileh.write(f\"2020,SCS,,{i},{int(SCS_2020[i])}\\n\")\n",
        "for i in range(100):\n",
        "    fileh.write(f\"2020,FCS,,{i},{int(FCS_2020[i])}\\n\") \n",
        "for i in range(4096):\n",
        "    for j in range(100):\n",
        "        fileh.write(f\"2020,DS,{i},{j},{demand_supply_matrix_2020[i][j]}\\n\")\n",
        "fileh.write(\"year,data_type,demand_point_index,supply_point_index,value\\n\")\n",
        "fileh.close()\n"
      ],
      "metadata": {
        "id": "VdUtBjFb7r0O"
      },
      "execution_count": null,
      "outputs": []
    }
  ],
  "metadata": {
    "colab": {
      "provenance": []
    },
    "kernelspec": {
      "display_name": "Python 3.10.0 64-bit",
      "language": "python",
      "name": "python3"
    },
    "language_info": {
      "codemirror_mode": {
        "name": "ipython",
        "version": 3
      },
      "file_extension": ".py",
      "mimetype": "text/x-python",
      "name": "python",
      "nbconvert_exporter": "python",
      "pygments_lexer": "ipython3",
      "version": "3.10.0"
    },
    "vscode": {
      "interpreter": {
        "hash": "aee8b7b246df8f9039afb4144a1f6fd8d2ca17a180786b69acc140d282b71a49"
      }
    }
  },
  "nbformat": 4,
  "nbformat_minor": 0
}